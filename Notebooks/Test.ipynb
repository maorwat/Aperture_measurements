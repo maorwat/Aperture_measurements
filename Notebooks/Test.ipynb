{
 "cells": [
  {
   "cell_type": "code",
   "execution_count": 1,
   "id": "4f0d71a7",
   "metadata": {},
   "outputs": [],
   "source": [
    "from pathlib import Path\n",
    "import sys\n",
    "sys.path.append(str(Path.cwd().parent))\n",
    "\n",
    "sys.path.append('/eos/home-i03/m/morwat/.local/lib/python3.9/site-packages/')"
   ]
  },
  {
   "cell_type": "code",
   "execution_count": 2,
   "id": "adddff48",
   "metadata": {},
   "outputs": [],
   "source": [
    "from aper_package.aperture_data import Data\n",
    "from aper_package.plotting import plot"
   ]
  },
  {
   "cell_type": "code",
   "execution_count": 3,
   "id": "a0a28f91",
   "metadata": {},
   "outputs": [
    {
     "data": {
      "application/vnd.jupyter.widget-view+json": {
       "model_id": "f7dac10e52b44872abdd684851613d35",
       "version_major": 2,
       "version_minor": 0
      },
      "text/plain": [
       "Loading line from dict:   0%|          | 0/102050 [00:00<?, ?it/s]"
      ]
     },
     "metadata": {},
     "output_type": "display_data"
    },
    {
     "name": "stdout",
     "output_type": "stream",
     "text": [
      "Done loading line from dict.           \n"
     ]
    },
    {
     "data": {
      "application/vnd.jupyter.widget-view+json": {
       "model_id": "6a61821169a14c46808530121929a974",
       "version_major": 2,
       "version_minor": 0
      },
      "text/plain": [
       "Loading line from dict:   0%|          | 0/102122 [00:00<?, ?it/s]"
      ]
     },
     "metadata": {},
     "output_type": "display_data"
    },
    {
     "name": "stdout",
     "output_type": "stream",
     "text": [
      "Done loading line from dict.           \n",
      "Computing twiss for beam 1...\n",
      "Compiling ContextCpu kernels...\n",
      "Done compiling ContextCpu kernels.\n",
      "Computing twiss for beam 2...\n",
      "Compiling ContextCpu kernels...\n",
      "Done compiling ContextCpu kernels.\n",
      "Done computing twiss.\n"
     ]
    }
   ],
   "source": [
    "aper = Data(line1='/eos/user/m/morwat/aperture_measurements/madx/2023/xsuite/Martas_injection_b1.json')"
   ]
  },
  {
   "cell_type": "code",
   "execution_count": 4,
   "id": "a612a0f3",
   "metadata": {},
   "outputs": [],
   "source": [
    "aper.envelope(11)"
   ]
  },
  {
   "cell_type": "code",
   "execution_count": 5,
   "id": "390c4caa",
   "metadata": {},
   "outputs": [],
   "source": [
    "aper.load_aperture(path1='/eos/user/m/morwat/aperture_measurements/madx/2023/all_optics_B1.tfs')"
   ]
  },
  {
   "cell_type": "code",
   "execution_count": 16,
   "id": "1230b422",
   "metadata": {},
   "outputs": [],
   "source": [
    "aper.load_elements(path='/eos/project-c/collimation-team/machine_configurations/LHC_run3/2023/MADX_thick/injection/all_optics_B1.tfs')"
   ]
  },
  {
   "cell_type": "code",
   "execution_count": 6,
   "id": "28014665",
   "metadata": {},
   "outputs": [],
   "source": [
    "from aper_package.timber_data import BPMData\n",
    "from aper_package.timber_data import CollimatorsData\n",
    "from aper_package.utils import select_time"
   ]
  },
  {
   "cell_type": "code",
   "execution_count": 7,
   "id": "92302ca3",
   "metadata": {},
   "outputs": [],
   "source": [
    "from datetime import datetime"
   ]
  },
  {
   "cell_type": "code",
   "execution_count": 6,
   "id": "0cfffa29",
   "metadata": {},
   "outputs": [
    {
     "data": {
      "application/vnd.jupyter.widget-view+json": {
       "model_id": "e0b30c7d27144222a768abb6196fe29e",
       "version_major": 2,
       "version_minor": 0
      },
      "text/plain": [
       "HBox(children=(DatePicker(value=None, description='Pick a Date'), Dropdown(description='Hour:', options=(('00'…"
      ]
     },
     "metadata": {},
     "output_type": "display_data"
    }
   ],
   "source": [
    "t = select_time()"
   ]
  },
  {
   "cell_type": "code",
   "execution_count": 8,
   "id": "2ee64ed5",
   "metadata": {
    "scrolled": true
   },
   "outputs": [],
   "source": [
    "data = BPMData(spark, datetime(2023, 4, 21, 10, 53, 15))"
   ]
  },
  {
   "cell_type": "code",
   "execution_count": 9,
   "id": "c3c8822b",
   "metadata": {
    "scrolled": true
   },
   "outputs": [],
   "source": [
    "col_data = CollimatorsData(spark, datetime(2023, 4, 21, 10, 53, 15))"
   ]
  },
  {
   "cell_type": "code",
   "execution_count": 10,
   "id": "281ec732",
   "metadata": {
    "scrolled": true
   },
   "outputs": [
    {
     "data": {
      "application/vnd.jupyter.widget-view+json": {
       "model_id": "afbc73ba1259408e9ef3329ff89c663d",
       "version_major": 2,
       "version_minor": 0
      },
      "text/plain": [
       "VBox(children=(HBox(children=(Dropdown(description='Select knob:', options=('on_x1', 'on_x2h', 'on_x2v', 'on_x…"
      ]
     },
     "metadata": {},
     "output_type": "display_data"
    },
    {
     "name": "stdout",
     "output_type": "stream",
     "text": [
      "Computing twiss for beam 1...\n",
      "Computing twiss for beam 2...\n",
      "Done computing twiss.\n"
     ]
    }
   ],
   "source": [
    "plot(aper, 'h', collimators=col_data, BPMs=data)"
   ]
  },
  {
   "cell_type": "code",
   "execution_count": null,
   "id": "9bd2d102",
   "metadata": {},
   "outputs": [],
   "source": []
  }
 ],
 "metadata": {
  "@webio": {
   "lastCommId": null,
   "lastKernelId": null
  },
  "kernelspec": {
   "display_name": "Python 3",
   "language": "python",
   "name": "python3"
  },
  "language_info": {
   "codemirror_mode": {
    "name": "ipython",
    "version": 3
   },
   "file_extension": ".py",
   "mimetype": "text/x-python",
   "name": "python",
   "nbconvert_exporter": "python",
   "pygments_lexer": "ipython3",
   "version": "3.9.12"
  },
  "sparkconnect": {
   "bundled_options": [
    "NXCALS",
    "SparkMetrics"
   ],
   "list_of_options": []
  }
 },
 "nbformat": 4,
 "nbformat_minor": 5
}
