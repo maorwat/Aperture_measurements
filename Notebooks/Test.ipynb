{
 "cells": [
  {
   "cell_type": "code",
   "execution_count": 1,
   "id": "4f0d71a7",
   "metadata": {},
   "outputs": [],
   "source": [
    "from pathlib import Path\n",
    "import sys\n",
    "sys.path.append(str(Path.cwd().parent))\n",
    "\n",
    "sys.path.append('/eos/home-i03/m/morwat/.local/lib/python3.9/site-packages/')"
   ]
  },
  {
   "cell_type": "code",
   "execution_count": 2,
   "id": "adddff48",
   "metadata": {},
   "outputs": [],
   "source": [
    "from aper_package.aperture_data import Data\n",
    "from aper_package.plotting import plot"
   ]
  },
  {
   "cell_type": "code",
   "execution_count": 3,
   "id": "a0a28f91",
   "metadata": {},
   "outputs": [
    {
     "data": {
      "application/vnd.jupyter.widget-view+json": {
       "model_id": "d6449765809c439991bf302bc054d6b2",
       "version_major": 2,
       "version_minor": 0
      },
      "text/plain": [
       "Loading line from dict:   0%|          | 0/102050 [00:00<?, ?it/s]"
      ]
     },
     "metadata": {},
     "output_type": "display_data"
    },
    {
     "name": "stdout",
     "output_type": "stream",
     "text": [
      "Done loading line from dict.           \n"
     ]
    },
    {
     "data": {
      "application/vnd.jupyter.widget-view+json": {
       "model_id": "f9ef8c8789474b5d8c37ee53708b88f7",
       "version_major": 2,
       "version_minor": 0
      },
      "text/plain": [
       "Loading line from dict:   0%|          | 0/102122 [00:00<?, ?it/s]"
      ]
     },
     "metadata": {},
     "output_type": "display_data"
    },
    {
     "name": "stdout",
     "output_type": "stream",
     "text": [
      "Done loading line from dict.           \n",
      "Computing twiss for beam 1...\n",
      "Compiling ContextCpu kernels...\n",
      "Done compiling ContextCpu kernels.\n",
      "Computing twiss for beam 2...\n",
      "Compiling ContextCpu kernels...\n",
      "Done compiling ContextCpu kernels.\n",
      "Done computing twiss.\n"
     ]
    }
   ],
   "source": [
    "aper = Data(line1='/eos/user/m/morwat/aperture_measurements/madx/2023/xsuite/Martas_injection_b1.json')"
   ]
  },
  {
   "cell_type": "code",
   "execution_count": 5,
   "id": "390c4caa",
   "metadata": {},
   "outputs": [],
   "source": [
    "aper.load_aperture(path1='/eos/user/m/morwat/aperture_measurements/madx/2023/all_optics_B1.tfs')"
   ]
  },
  {
   "cell_type": "code",
   "execution_count": 7,
   "id": "1230b422",
   "metadata": {},
   "outputs": [],
   "source": [
    "aper.load_elements(path='/eos/project-c/collimation-team/machine_configurations/LHC_run3/2023/MADX_thick/injection/all_optics_B1.tfs')"
   ]
  },
  {
   "cell_type": "code",
   "execution_count": 10,
   "id": "83f6badb",
   "metadata": {},
   "outputs": [],
   "source": [
    "aper.cycle('ip5')"
   ]
  },
  {
   "cell_type": "code",
   "execution_count": 12,
   "id": "b1da3617",
   "metadata": {
    "scrolled": true
   },
   "outputs": [
    {
     "data": {
      "application/vnd.jupyter.widget-view+json": {
       "model_id": "ccfeec97dbe340ba8c088f517432497e",
       "version_major": 2,
       "version_minor": 0
      },
      "text/plain": [
       "VBox(children=(HBox(children=(Dropdown(description='Select knob:', options=('on_x1', 'on_x2h', 'on_x2v', 'on_x…"
      ]
     },
     "metadata": {},
     "output_type": "display_data"
    }
   ],
   "source": [
    "plot(aper, 'h')"
   ]
  },
  {
   "cell_type": "code",
   "execution_count": null,
   "id": "d0a39ab5",
   "metadata": {},
   "outputs": [],
   "source": []
  }
 ],
 "metadata": {
  "@webio": {
   "lastCommId": null,
   "lastKernelId": null
  },
  "kernelspec": {
   "display_name": "Python 3",
   "language": "python",
   "name": "python3"
  },
  "language_info": {
   "codemirror_mode": {
    "name": "ipython",
    "version": 3
   },
   "file_extension": ".py",
   "mimetype": "text/x-python",
   "name": "python",
   "nbconvert_exporter": "python",
   "pygments_lexer": "ipython3",
   "version": "3.9.12"
  }
 },
 "nbformat": 4,
 "nbformat_minor": 5
}
