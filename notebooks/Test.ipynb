{
 "cells": [
  {
   "cell_type": "code",
   "execution_count": 1,
   "id": "4f0d71a7",
   "metadata": {},
   "outputs": [],
   "source": [
    "from pathlib import Path\n",
    "import sys\n",
    "\n",
    "sys.path.append('/eos/home-i03/m/morwat/.local/lib/python3.9/site-packages/')"
   ]
  },
  {
   "cell_type": "code",
   "execution_count": 5,
   "id": "77ebee03",
   "metadata": {},
   "outputs": [],
   "source": [
    "home_path = str(Path.cwd().parent)\n",
    "sys.path.append(home_path)"
   ]
  },
  {
   "cell_type": "code",
   "execution_count": 2,
   "id": "adddff48",
   "metadata": {},
   "outputs": [
    {
     "ename": "ModuleNotFoundError",
     "evalue": "No module named 'pytimber'",
     "output_type": "error",
     "traceback": [
      "\u001b[0;31m---------------------------------------------------------------------------\u001b[0m",
      "\u001b[0;31mModuleNotFoundError\u001b[0m                       Traceback (most recent call last)",
      "Cell \u001b[0;32mIn[2], line 8\u001b[0m\n\u001b[1;32m      6\u001b[0m \u001b[38;5;28;01mfrom\u001b[39;00m \u001b[38;5;21;01maper_package\u001b[39;00m\u001b[38;5;21;01m.\u001b[39;00m\u001b[38;5;21;01mplotting\u001b[39;00m \u001b[38;5;28;01mimport\u001b[39;00m plot\n\u001b[1;32m      7\u001b[0m \u001b[38;5;66;03m# BPMData and CollimatorsData store data from loaded from timber\u001b[39;00m\n\u001b[0;32m----> 8\u001b[0m \u001b[38;5;28;01mfrom\u001b[39;00m \u001b[38;5;21;01maper_package\u001b[39;00m\u001b[38;5;21;01m.\u001b[39;00m\u001b[38;5;21;01mtimber_data\u001b[39;00m \u001b[38;5;28;01mimport\u001b[39;00m BPMData\n\u001b[1;32m      9\u001b[0m \u001b[38;5;28;01mfrom\u001b[39;00m \u001b[38;5;21;01maper_package\u001b[39;00m\u001b[38;5;21;01m.\u001b[39;00m\u001b[38;5;21;01mtimber_data\u001b[39;00m \u001b[38;5;28;01mimport\u001b[39;00m CollimatorsData\n",
      "File \u001b[0;32m~/cernbox/aperture_measurements/aper_package/timber_data.py:11\u001b[0m\n\u001b[1;32m      7\u001b[0m \u001b[38;5;28;01mimport\u001b[39;00m \u001b[38;5;21;01mtfs\u001b[39;00m\n\u001b[1;32m      9\u001b[0m \u001b[38;5;28;01mfrom\u001b[39;00m \u001b[38;5;21;01mtyping\u001b[39;00m \u001b[38;5;28;01mimport\u001b[39;00m Any, Dict, Optional\n\u001b[0;32m---> 11\u001b[0m \u001b[38;5;28;01mimport\u001b[39;00m \u001b[38;5;21;01mpytimber\u001b[39;00m\n\u001b[1;32m     12\u001b[0m \u001b[38;5;28;01mfrom\u001b[39;00m \u001b[38;5;21;01mdatetime\u001b[39;00m \u001b[38;5;28;01mimport\u001b[39;00m timedelta\n\u001b[1;32m     15\u001b[0m \u001b[38;5;28;01mclass\u001b[39;00m \u001b[38;5;21;01mBPMData\u001b[39;00m:\n",
      "\u001b[0;31mModuleNotFoundError\u001b[0m: No module named 'pytimber'"
     ]
    }
   ],
   "source": [
    "# Import all the necessary functions and classes\n",
    "# Data stores all the twiss data, nominal twiss data, envelopes, aperture if loaded, \n",
    "# and collimators from yaml, thick elements if loaded\n",
    "from aper_package.aperture_data import Data\n",
    "# plot is a function to generate a plotly figure\n",
    "from aper_package.plotting import plot\n",
    "# BPMData and CollimatorsData store data from loaded from timber\n",
    "from aper_package.timber_data import BPMData\n",
    "from aper_package.timber_data import CollimatorsData"
   ]
  },
  {
   "cell_type": "code",
   "execution_count": null,
   "id": "5893e58a",
   "metadata": {},
   "outputs": [],
   "source": [
    "# If you want to select files and times interactively\n",
    "from aper_package.utils import select_time\n",
    "from aper_package.utils import select_file_in_SWAN\n",
    "\n",
    "# I'm lazy so I hardcode them\n",
    "from datetime import datetime"
   ]
  },
  {
   "cell_type": "code",
   "execution_count": 7,
   "id": "47aa299b",
   "metadata": {},
   "outputs": [
    {
     "data": {
      "application/vnd.jupyter.widget-view+json": {
       "model_id": "f6f814d74ebc40d29544e74ec26f1571",
       "version_major": 2,
       "version_minor": 0
      },
      "text/plain": [
       "HBox(children=(DatePicker(value=None, description='Pick a Date'), Dropdown(description='Hour:', options=(('00'…"
      ]
     },
     "metadata": {},
     "output_type": "display_data"
    },
    {
     "data": {
      "application/vnd.jupyter.widget-view+json": {
       "model_id": "99c0f602637e4610be05dea7baae4116",
       "version_major": 2,
       "version_minor": 0
      },
      "text/plain": [
       "FileChooser(path='/eos/project-i02/c/collimation-team/machine_configurations', filename='', title='', show_hid…"
      ]
     },
     "metadata": {},
     "output_type": "display_data"
    }
   ],
   "source": [
    "# If you want to select files and times interactively\n",
    "t = select_time()\n",
    "line1 = select_file_in_SWAN()"
   ]
  },
  {
   "cell_type": "code",
   "execution_count": 8,
   "id": "a0a28f91",
   "metadata": {
    "scrolled": true
   },
   "outputs": [
    {
     "data": {
      "application/vnd.jupyter.widget-view+json": {
       "model_id": "e41ca9b990f04c14b710b99b7900a941",
       "version_major": 2,
       "version_minor": 0
      },
      "text/plain": [
       "Loading line from dict:   0%|          | 0/102050 [00:00<?, ?it/s]"
      ]
     },
     "metadata": {},
     "output_type": "display_data"
    },
    {
     "name": "stdout",
     "output_type": "stream",
     "text": [
      "Done loading line from dict.           \n"
     ]
    },
    {
     "data": {
      "application/vnd.jupyter.widget-view+json": {
       "model_id": "db2050edbbbd4345b303d3d28a39f758",
       "version_major": 2,
       "version_minor": 0
      },
      "text/plain": [
       "Loading line from dict:   0%|          | 0/102122 [00:00<?, ?it/s]"
      ]
     },
     "metadata": {},
     "output_type": "display_data"
    },
    {
     "name": "stdout",
     "output_type": "stream",
     "text": [
      "Done loading line from dict.           \n",
      "Computing twiss for beam 1...\n",
      "Computing twiss for beam 2...\n",
      "Done computing twiss.\n"
     ]
    }
   ],
   "source": [
    "# Data takes 3 arguments: \n",
    "# path for beam 1 line json file -  the second path is generated by replacing 'b1' with 'b2'\n",
    "# n - size of the envelope in sigma units, default is zero, this can be changed later\n",
    "# emitt - normalised emittance, default is 3.5e-6\n",
    "aper = Data(path_b1=home_path+'/test_data/Martas_injection_b1.json')"
   ]
  },
  {
   "cell_type": "code",
   "execution_count": 9,
   "id": "390c4caa",
   "metadata": {},
   "outputs": [],
   "source": [
    "# None of the methods below has to be used, if something is not loaded it just won't appear on the figure\n",
    "# Load the aperture data, the only argument is the path\n",
    "aper.load_aperture(path_b1=home_path+'/test_data/all_optics_B1.tfs')"
   ]
  },
  {
   "cell_type": "code",
   "execution_count": null,
   "id": "61f3efc1",
   "metadata": {},
   "outputs": [],
   "source": [
    "# If you want to change n, the size of the envelope to for example 11\n",
    "aper.envelope(11)"
   ]
  },
  {
   "cell_type": "code",
   "execution_count": 5,
   "id": "1230b422",
   "metadata": {},
   "outputs": [],
   "source": [
    "# Load elements to appear above the figure, the only argument is the path\n",
    "aper.load_elements(path=home_path+'/test_data/thick_all_optics_B1.tfs')"
   ]
  },
  {
   "cell_type": "code",
   "execution_count": null,
   "id": "4451d4ff",
   "metadata": {},
   "outputs": [],
   "source": [
    "# Additionally you can load collimators from yaml but I do it using timber data now,\n",
    "# the only argument is the path\n",
    "aper.load_collimators_from_yaml(path=home_path+'/test_data/injection.yaml')"
   ]
  },
  {
   "cell_type": "code",
   "execution_count": null,
   "id": "df1481ad",
   "metadata": {},
   "outputs": [],
   "source": [
    "# You can cycle the graph to se for example 'ip4' as the first element\n",
    "aper.cycle('ip4')"
   ]
  },
  {
   "cell_type": "code",
   "execution_count": null,
   "id": "dc2a9b81",
   "metadata": {},
   "outputs": [],
   "source": [
    "# You cen change the knobs and retwiss but this can also be done interactively with the figure,\n",
    "# this will be applied to both lines simultaneously,\n",
    "# the first argument is the name of the knob, and the second argument is the new value\n",
    "aper.change_knob('on_x8v', 0)\n",
    "aper.twiss()"
   ]
  },
  {
   "cell_type": "code",
   "execution_count": 5,
   "id": "2ee64ed5",
   "metadata": {
    "scrolled": true
   },
   "outputs": [
    {
     "ename": "NameError",
     "evalue": "name 'spark' is not defined",
     "output_type": "error",
     "traceback": [
      "\u001b[0;31m---------------------------------------------------------------------------\u001b[0m",
      "\u001b[0;31mNameError\u001b[0m                                 Traceback (most recent call last)",
      "\u001b[0;32m/tmp/ipykernel_10229/2919610579.py\u001b[0m in \u001b[0;36m<module>\u001b[0;34m\u001b[0m\n\u001b[0;32m----> 1\u001b[0;31m \u001b[0mdata\u001b[0m \u001b[0;34m=\u001b[0m \u001b[0mBPMData\u001b[0m\u001b[0;34m(\u001b[0m\u001b[0mspark\u001b[0m\u001b[0;34m,\u001b[0m \u001b[0mdatetime\u001b[0m\u001b[0;34m(\u001b[0m\u001b[0;36m2023\u001b[0m\u001b[0;34m,\u001b[0m \u001b[0;36m4\u001b[0m\u001b[0;34m,\u001b[0m \u001b[0;36m21\u001b[0m\u001b[0;34m,\u001b[0m \u001b[0;36m10\u001b[0m\u001b[0;34m,\u001b[0m \u001b[0;36m53\u001b[0m\u001b[0;34m,\u001b[0m \u001b[0;36m15\u001b[0m\u001b[0;34m)\u001b[0m\u001b[0;34m)\u001b[0m\u001b[0;34m\u001b[0m\u001b[0;34m\u001b[0m\u001b[0m\n\u001b[0m",
      "\u001b[0;31mNameError\u001b[0m: name 'spark' is not defined"
     ]
    }
   ],
   "source": [
    "# If you want to load data from timber you need to include NXCALS options and SparkMetrics options in SWAN\n",
    "# It only works in SWAN for now\n",
    "# The first argument is spark and the second is the time for which you want to load the data\n",
    "# Again neither has to be loaded, it's just an addition to the plot\n",
    "data = BPMData(spark, datetime(2023, 4, 21, 10, 53, 15))\n",
    "col_data = CollimatorsData(spark, datetime(2023, 4, 21, 10, 53, 15))"
   ]
  },
  {
   "cell_type": "code",
   "execution_count": 17,
   "id": "08e15b2a",
   "metadata": {},
   "outputs": [
    {
     "data": {
      "application/vnd.jupyter.widget-view+json": {
       "model_id": "dd8a41fdd12c4fc5957ea72f59c783e6",
       "version_major": 2,
       "version_minor": 0
      },
      "text/plain": [
       "VBox(children=(HBox(children=(Dropdown(description='Select knob:', options=('on_x1', 'on_x2h', 'on_x2v', 'on_x…"
      ]
     },
     "metadata": {},
     "output_type": "display_data"
    }
   ],
   "source": [
    "# Plot the data, BPMs and collimators are optional, default is None\n",
    "# Plane can be either 'h' or 'v'\n",
    "# If the aperture or/and collimators are loaded, you can switch between the visibilities\n",
    "# To retwiss, select a knob, click Add, change the value\n",
    "# Select as many as you need, and click Apply, the plot will automatically update\n",
    "# The more things loaded, the slower it's gonna be\n",
    "plot(aper, 'h', BPMs=data, collimators=col_data)"
   ]
  },
  {
   "cell_type": "code",
   "execution_count": null,
   "id": "ee138d71",
   "metadata": {},
   "outputs": [],
   "source": []
  }
 ],
 "metadata": {
  "@webio": {
   "lastCommId": null,
   "lastKernelId": null
  },
  "kernelspec": {
   "display_name": "Python 3",
   "language": "python",
   "name": "python3"
  },
  "language_info": {
   "codemirror_mode": {
    "name": "ipython",
    "version": 3
   },
   "file_extension": ".py",
   "mimetype": "text/x-python",
   "name": "python",
   "nbconvert_exporter": "python",
   "pygments_lexer": "ipython3",
   "version": "3.9.12"
  },
  "sparkconnect": {
   "bundled_options": [
    "NXCALS",
    "SparkMetrics"
   ],
   "list_of_options": []
  }
 },
 "nbformat": 4,
 "nbformat_minor": 5
}
