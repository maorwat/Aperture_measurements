{
 "cells": [
  {
   "cell_type": "code",
   "execution_count": 1,
   "id": "4f0d71a7",
   "metadata": {},
   "outputs": [],
   "source": [
    "from pathlib import Path\n",
    "import sys\n",
    "\n",
    "sys.path.append(str(Path.cwd().parent))\n",
    "sys.path.append('/eos/home-i03/m/morwat/.local/lib/python3.9/site-packages/')"
   ]
  },
  {
   "cell_type": "code",
   "execution_count": 2,
   "id": "86c46f29",
   "metadata": {},
   "outputs": [],
   "source": [
    "from datetime import datetime"
   ]
  },
  {
   "cell_type": "code",
   "execution_count": 3,
   "id": "adddff48",
   "metadata": {},
   "outputs": [],
   "source": [
    "from aper_package.aperture_data import Data\n",
    "from aper_package.plotting import plot\n",
    "from aper_package.timber_data import BPMData\n",
    "from aper_package.timber_data import CollimatorsData\n",
    "\n",
    "from aper_package.utils import select_time\n",
    "from aper_package.utils import select_file_in_SWAN\n",
    "from aper_package.utils import select_file"
   ]
  },
  {
   "cell_type": "code",
   "execution_count": 7,
   "id": "47aa299b",
   "metadata": {},
   "outputs": [
    {
     "data": {
      "application/vnd.jupyter.widget-view+json": {
       "model_id": "f6f814d74ebc40d29544e74ec26f1571",
       "version_major": 2,
       "version_minor": 0
      },
      "text/plain": [
       "HBox(children=(DatePicker(value=None, description='Pick a Date'), Dropdown(description='Hour:', options=(('00'…"
      ]
     },
     "metadata": {},
     "output_type": "display_data"
    },
    {
     "data": {
      "application/vnd.jupyter.widget-view+json": {
       "model_id": "99c0f602637e4610be05dea7baae4116",
       "version_major": 2,
       "version_minor": 0
      },
      "text/plain": [
       "FileChooser(path='/eos/project-i02/c/collimation-team/machine_configurations', filename='', title='', show_hid…"
      ]
     },
     "metadata": {},
     "output_type": "display_data"
    }
   ],
   "source": [
    "t = select_time()\n",
    "line1 = select_file_in_SWAN()"
   ]
  },
  {
   "cell_type": "code",
   "execution_count": 4,
   "id": "a0a28f91",
   "metadata": {
    "scrolled": true
   },
   "outputs": [
    {
     "data": {
      "application/vnd.jupyter.widget-view+json": {
       "model_id": "042e8030004d43308595336b0a59c728",
       "version_major": 2,
       "version_minor": 0
      },
      "text/plain": [
       "Loading line from dict:   0%|          | 0/102050 [00:00<?, ?it/s]"
      ]
     },
     "metadata": {},
     "output_type": "display_data"
    },
    {
     "name": "stdout",
     "output_type": "stream",
     "text": [
      "Done loading line from dict.           \n"
     ]
    },
    {
     "data": {
      "application/vnd.jupyter.widget-view+json": {
       "model_id": "76ff165bfe5d425e954334507b575c69",
       "version_major": 2,
       "version_minor": 0
      },
      "text/plain": [
       "Loading line from dict:   0%|          | 0/102122 [00:00<?, ?it/s]"
      ]
     },
     "metadata": {},
     "output_type": "display_data"
    },
    {
     "name": "stdout",
     "output_type": "stream",
     "text": [
      "Done loading line from dict.           \n",
      "Computing twiss for beam 1...\n",
      "Compiling ContextCpu kernels...\n",
      "Done compiling ContextCpu kernels.\n",
      "Computing twiss for beam 2...\n",
      "Compiling ContextCpu kernels...\n",
      "Done compiling ContextCpu kernels.\n",
      "Done computing twiss.\n"
     ]
    }
   ],
   "source": [
    "aper = Data(line1='/eos/user/m/morwat/aperture_measurements/test_data/Martas_injection_b1.json')"
   ]
  },
  {
   "cell_type": "code",
   "execution_count": 8,
   "id": "46fdf647",
   "metadata": {},
   "outputs": [
    {
     "data": {
      "text/plain": [
       "True"
      ]
     },
     "execution_count": 8,
     "metadata": {},
     "output_type": "execute_result"
    }
   ],
   "source": [
    "aper.elements.shape==(6724, 5)"
   ]
  },
  {
   "cell_type": "code",
   "execution_count": 12,
   "id": "390c4caa",
   "metadata": {},
   "outputs": [],
   "source": [
    "aper.load_aperture(path1='/eos/user/m/morwat/aperture_measurements/test_data/all_optics_B1.tfs')"
   ]
  },
  {
   "cell_type": "code",
   "execution_count": 5,
   "id": "1230b422",
   "metadata": {},
   "outputs": [],
   "source": [
    "aper.load_elements(path='/eos/user/m/morwat/aperture_measurements/test_data/thick_all_optics_B1.tfs')"
   ]
  },
  {
   "cell_type": "code",
   "execution_count": 12,
   "id": "0f20f546",
   "metadata": {},
   "outputs": [
    {
     "data": {
      "application/vnd.jupyter.widget-view+json": {
       "model_id": "13f0ab4423ce4a3080b9048660fc3692",
       "version_major": 2,
       "version_minor": 0
      },
      "text/plain": [
       "VBox(children=(HBox(children=(Dropdown(description='Select knob:', options=('on_x1', 'on_x2h', 'on_x2v', 'on_x…"
      ]
     },
     "metadata": {},
     "output_type": "display_data"
    }
   ],
   "source": [
    "plot(aper, 'h')"
   ]
  },
  {
   "cell_type": "code",
   "execution_count": 5,
   "id": "2ee64ed5",
   "metadata": {
    "scrolled": true
   },
   "outputs": [
    {
     "ename": "NameError",
     "evalue": "name 'spark' is not defined",
     "output_type": "error",
     "traceback": [
      "\u001b[0;31m---------------------------------------------------------------------------\u001b[0m",
      "\u001b[0;31mNameError\u001b[0m                                 Traceback (most recent call last)",
      "\u001b[0;32m/tmp/ipykernel_10229/2919610579.py\u001b[0m in \u001b[0;36m<module>\u001b[0;34m\u001b[0m\n\u001b[0;32m----> 1\u001b[0;31m \u001b[0mdata\u001b[0m \u001b[0;34m=\u001b[0m \u001b[0mBPMData\u001b[0m\u001b[0;34m(\u001b[0m\u001b[0mspark\u001b[0m\u001b[0;34m,\u001b[0m \u001b[0mdatetime\u001b[0m\u001b[0;34m(\u001b[0m\u001b[0;36m2023\u001b[0m\u001b[0;34m,\u001b[0m \u001b[0;36m4\u001b[0m\u001b[0;34m,\u001b[0m \u001b[0;36m21\u001b[0m\u001b[0;34m,\u001b[0m \u001b[0;36m10\u001b[0m\u001b[0;34m,\u001b[0m \u001b[0;36m53\u001b[0m\u001b[0;34m,\u001b[0m \u001b[0;36m15\u001b[0m\u001b[0;34m)\u001b[0m\u001b[0;34m)\u001b[0m\u001b[0;34m\u001b[0m\u001b[0;34m\u001b[0m\u001b[0m\n\u001b[0m",
      "\u001b[0;31mNameError\u001b[0m: name 'spark' is not defined"
     ]
    }
   ],
   "source": [
    "data = BPMData(spark, datetime(2023, 4, 21, 10, 53, 15))"
   ]
  },
  {
   "cell_type": "code",
   "execution_count": 11,
   "id": "c3c8822b",
   "metadata": {
    "scrolled": true
   },
   "outputs": [],
   "source": [
    "col_data = CollimatorsData(spark, datetime(2023, 4, 21, 10, 53, 15))"
   ]
  },
  {
   "cell_type": "code",
   "execution_count": 17,
   "id": "08e15b2a",
   "metadata": {},
   "outputs": [
    {
     "data": {
      "application/vnd.jupyter.widget-view+json": {
       "model_id": "dd8a41fdd12c4fc5957ea72f59c783e6",
       "version_major": 2,
       "version_minor": 0
      },
      "text/plain": [
       "VBox(children=(HBox(children=(Dropdown(description='Select knob:', options=('on_x1', 'on_x2h', 'on_x2v', 'on_x…"
      ]
     },
     "metadata": {},
     "output_type": "display_data"
    }
   ],
   "source": [
    "plot(aper, 'h', BPMs=data, collimators=col_data)"
   ]
  },
  {
   "cell_type": "code",
   "execution_count": null,
   "id": "7f6c6243",
   "metadata": {},
   "outputs": [],
   "source": []
  }
 ],
 "metadata": {
  "@webio": {
   "lastCommId": null,
   "lastKernelId": null
  },
  "kernelspec": {
   "display_name": "Python 3",
   "language": "python",
   "name": "python3"
  },
  "language_info": {
   "codemirror_mode": {
    "name": "ipython",
    "version": 3
   },
   "file_extension": ".py",
   "mimetype": "text/x-python",
   "name": "python",
   "nbconvert_exporter": "python",
   "pygments_lexer": "ipython3",
   "version": "3.9.12"
  },
  "sparkconnect": {
   "bundled_options": [
    "NXCALS",
    "SparkMetrics"
   ],
   "list_of_options": []
  }
 },
 "nbformat": 4,
 "nbformat_minor": 5
}
