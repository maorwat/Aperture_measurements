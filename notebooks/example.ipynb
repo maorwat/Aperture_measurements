{
 "cells": [
  {
   "cell_type": "code",
   "execution_count": 1,
   "id": "4f0d71a7",
   "metadata": {},
   "outputs": [],
   "source": [
    "from pathlib import Path\n",
    "import warnings\n",
    "import sys\n",
    "import matplotlib.pyplot as plt\n",
    "\n",
    "home_path = str(Path.cwd().parent)\n",
    "sys.path.append(home_path)\n",
    "\n",
    "sys.path.append('/eos/user/m/morwat/.local/lib/python3.9/site-packages/')"
   ]
  },
  {
   "cell_type": "code",
   "execution_count": 2,
   "id": "adddff48",
   "metadata": {},
   "outputs": [],
   "source": [
    "from aper_package.interactive_tool import InteractiveTool"
   ]
  },
  {
   "cell_type": "code",
   "execution_count": 7,
   "id": "a0a28f91",
   "metadata": {
    "scrolled": false
   },
   "outputs": [
    {
     "data": {
      "application/vnd.jupyter.widget-view+json": {
       "model_id": "b882cc3181fd4cd984d077072df35623",
       "version_major": 2,
       "version_minor": 0
      },
      "text/plain": [
       "VBox(children=(Tab(children=(VBox(children=(HTML(value='<h4>Select and load files</h4>'), HBox(children=(HBox(…"
      ]
     },
     "metadata": {},
     "output_type": "display_data"
    },
    {
     "name": "stdout",
     "output_type": "stream",
     "text": [
      "Loading new JSON data...                                                                            \r"
     ]
    },
    {
     "data": {
      "application/vnd.jupyter.widget-view+json": {
       "model_id": "025c86fa92434bdb9fb0085c0fbfff3f",
       "version_major": 2,
       "version_minor": 0
      },
      "text/plain": [
       "Loading line from dict:   0%|          | 0/105823 [00:00<?, ?it/s]"
      ]
     },
     "metadata": {},
     "output_type": "display_data"
    },
    {
     "name": "stdout",
     "output_type": "stream",
     "text": [
      "Done loading line from dict.           \n"
     ]
    },
    {
     "data": {
      "application/vnd.jupyter.widget-view+json": {
       "model_id": "e0cb1759a48c47eeb0bbca2b35e24e73",
       "version_major": 2,
       "version_minor": 0
      },
      "text/plain": [
       "Loading line from dict:   0%|          | 0/105797 [00:00<?, ?it/s]"
      ]
     },
     "metadata": {},
     "output_type": "display_data"
    },
    {
     "name": "stdout",
     "output_type": "stream",
     "text": [
      "Done loading line from dict.           \n",
      "Loading new TFS data...                                                                                    \r"
     ]
    }
   ],
   "source": [
    "warnings.simplefilter(action='ignore', category=DeprecationWarning)\n",
    "tool = InteractiveTool(spark=spark)\n",
    "tool.show()"
   ]
  },
  {
   "cell_type": "code",
   "execution_count": 25,
   "id": "0e6f3979",
   "metadata": {},
   "outputs": [
    {
     "data": {
      "text/html": [
       "<div>\n",
       "<style scoped>\n",
       "    .dataframe tbody tr th:only-of-type {\n",
       "        vertical-align: middle;\n",
       "    }\n",
       "\n",
       "    .dataframe tbody tr th {\n",
       "        vertical-align: top;\n",
       "    }\n",
       "\n",
       "    .dataframe thead th {\n",
       "        text-align: right;\n",
       "    }\n",
       "</style>\n",
       "<table border=\"1\" class=\"dataframe\">\n",
       "  <thead>\n",
       "    <tr style=\"text-align: right;\">\n",
       "      <th></th>\n",
       "      <th>NAME</th>\n",
       "      <th>APER_TOL_1</th>\n",
       "      <th>APER_TOL_2</th>\n",
       "      <th>APER_TOL_3</th>\n",
       "      <th>APER_1</th>\n",
       "      <th>APER_2</th>\n",
       "      <th>APER_3</th>\n",
       "      <th>APER_4</th>\n",
       "      <th>MECH_SEP</th>\n",
       "      <th>S</th>\n",
       "    </tr>\n",
       "  </thead>\n",
       "  <tbody>\n",
       "    <tr>\n",
       "      <th>7468</th>\n",
       "      <td>MQ.21L3.B1</td>\n",
       "      <td>0.00084</td>\n",
       "      <td>0.00036</td>\n",
       "      <td>0.0</td>\n",
       "      <td>0.022</td>\n",
       "      <td>0.01715</td>\n",
       "      <td>0.022</td>\n",
       "      <td>0.022</td>\n",
       "      <td>-0.194</td>\n",
       "      <td>5693.193897</td>\n",
       "    </tr>\n",
       "  </tbody>\n",
       "</table>\n",
       "</div>"
      ],
      "text/plain": [
       "            NAME  APER_TOL_1  APER_TOL_2  APER_TOL_3  APER_1   APER_2  APER_3  \\\n",
       "7468  MQ.21L3.B1     0.00084     0.00036         0.0   0.022  0.01715   0.022   \n",
       "\n",
       "      APER_4  MECH_SEP            S  \n",
       "7468   0.022    -0.194  5693.193897  "
      ]
     },
     "execution_count": 25,
     "metadata": {},
     "output_type": "execute_result"
    }
   ],
   "source": [
    "tool.aperture_data.aper_b1[tool.aperture_data.aper_b1['NAME']=='MQ.21L3.B1']"
   ]
  },
  {
   "cell_type": "code",
   "execution_count": 1,
   "id": "1517f71a",
   "metadata": {},
   "outputs": [
    {
     "ename": "NameError",
     "evalue": "name 'tool' is not defined",
     "output_type": "error",
     "traceback": [
      "\u001b[0;31m---------------------------------------------------------------------------\u001b[0m",
      "\u001b[0;31mNameError\u001b[0m                                 Traceback (most recent call last)",
      "\u001b[0;32m/tmp/ipykernel_779/3405699162.py\u001b[0m in \u001b[0;36m<module>\u001b[0;34m\u001b[0m\n\u001b[1;32m      2\u001b[0m \u001b[0;32mimport\u001b[0m \u001b[0mnumpy\u001b[0m \u001b[0;32mas\u001b[0m \u001b[0mnp\u001b[0m\u001b[0;34m\u001b[0m\u001b[0;34m\u001b[0m\u001b[0m\n\u001b[1;32m      3\u001b[0m \u001b[0;32mimport\u001b[0m \u001b[0mtfs\u001b[0m\u001b[0;34m\u001b[0m\u001b[0;34m\u001b[0m\u001b[0m\n\u001b[0;32m----> 4\u001b[0;31m \u001b[0mdf_no_nans\u001b[0m \u001b[0;34m=\u001b[0m \u001b[0mtool\u001b[0m\u001b[0;34m.\u001b[0m\u001b[0maperture_data\u001b[0m\u001b[0;34m.\u001b[0m\u001b[0maper_b1\u001b[0m\u001b[0;34m.\u001b[0m\u001b[0mdropna\u001b[0m\u001b[0;34m(\u001b[0m\u001b[0;34m)\u001b[0m\u001b[0;34m\u001b[0m\u001b[0;34m\u001b[0m\u001b[0m\n\u001b[0m\u001b[1;32m      5\u001b[0m \u001b[0mdf_b1\u001b[0m \u001b[0;34m=\u001b[0m \u001b[0mtfs\u001b[0m\u001b[0;34m.\u001b[0m\u001b[0mread\u001b[0m\u001b[0;34m(\u001b[0m\u001b[0;34m'/eos/project-i02/c/collimation-team/machine_configurations/LHC_run3/2023/MADX/injection/aperture/ap_ir5b1.tfs'\u001b[0m\u001b[0;34m)\u001b[0m\u001b[0;34m\u001b[0m\u001b[0;34m\u001b[0m\u001b[0m\n\u001b[1;32m      6\u001b[0m \u001b[0mdf_b1\u001b[0m\u001b[0;34m[\u001b[0m\u001b[0;34m'NAME'\u001b[0m\u001b[0;34m]\u001b[0m\u001b[0;34m=\u001b[0m\u001b[0mdf_b1\u001b[0m\u001b[0;34m[\u001b[0m\u001b[0;34m'NAME'\u001b[0m\u001b[0;34m]\u001b[0m\u001b[0;34m.\u001b[0m\u001b[0mstr\u001b[0m\u001b[0;34m.\u001b[0m\u001b[0mlower\u001b[0m\u001b[0;34m(\u001b[0m\u001b[0;34m)\u001b[0m\u001b[0;34m\u001b[0m\u001b[0;34m\u001b[0m\u001b[0m\n",
      "\u001b[0;31mNameError\u001b[0m: name 'tool' is not defined"
     ]
    }
   ],
   "source": [
    "import pandas as pd\n",
    "import numpy as np\n",
    "import tfs\n",
    "df_no_nans = tool.aperture_data.aper_b1.dropna()\n",
    "df_b1 = tfs.read('/eos/project-i02/c/collimation-team/machine_configurations/LHC_run3/2023/MADX/injection/aperture/ap_ir5b1.tfs')\n",
    "df_b1['NAME']=df_b1['NAME'].str.lower()\n",
    "df_no_nans['NAME']=df_no_nans['NAME'].str.lower()"
   ]
  },
  {
   "cell_type": "code",
   "execution_count": null,
   "id": "cf3fa71a",
   "metadata": {},
   "outputs": [],
   "source": [
    "survB1 = pd.read_csv('/eos/project-c/collimation-team/machine_configurations/LHC_run3/2023/MADX/injection/survey_b1.tfs', skiprows=8, header=None, sep='\\s+', \n",
    "                     names=['NAME','KEYWORD','S','L','ANGLE','X','Y','Z','THETA','PHI','PSI','GLOBALTILT','TILT','SLOT_ID','ASSEMBLY_ID','MECH_SEP','V_POS','COMMENTS'])\n",
    "survB2 = pd.read_csv('/eos/project-c/collimation-team/machine_configurations/LHC_run3/2023/MADX/injection/survey_b2.tfs', skiprows=8, header=None, sep='\\s+', \n",
    "                     names=['NAME','KEYWORD','S','L','ANGLE','X','Y','Z','THETA','PHI','PSI','GLOBALTILT','TILT','SLOT_ID','ASSEMBLY_ID','MECH_SEP','V_POS','COMMENTS'])"
   ]
  },
  {
   "cell_type": "code",
   "execution_count": null,
   "id": "7cfda71b",
   "metadata": {},
   "outputs": [],
   "source": [
    "merged = pd.merge(df_no_nans, df_b1, on='NAME')\n",
    "merged['N1x_calculated'] = (merged['APER_1_x']-merged['RTOL']-merged['XTOL']-0.002-merged['X'])/(np.sqrt(1.15*merged['BETX']*tool.aperture_data.epsilon+(merged['DX']**2)*(0.00031**2)))\n",
    "merged['N1y_calculated'] = (merged['APER_2_x']-merged['RTOL']-merged['YTOL']-0.002-merged['Y'])/(np.sqrt(1.15*merged['BETY']*tool.aperture_data.epsilon+(merged['DY']**2)*(0.00031**2)))\n",
    "\n",
    "merged2 = pd.merge(df_no_nans, df_b1, on='NAME')\n",
    "merged2['N1x_calculated'] = (merged['APER_1_x']-merged['RTOL']-merged['XTOL']-0.002-merged['X']+merged['MECH_SEP'])/(np.sqrt(1.15*merged['BETX']*tool.aperture_data.epsilon+(merged['DX']**2)*(0.00031**2)))\n",
    "merged2['N1y_calculated'] = (merged['APER_2_x']-merged['RTOL']-merged['YTOL']-0.002-merged['Y'])/(np.sqrt(1.15*merged['BETY']*tool.aperture_data.epsilon+(merged['DY']**2)*(0.00031**2)))\n",
    "\n"
   ]
  },
  {
   "cell_type": "code",
   "execution_count": null,
   "id": "04f8d482",
   "metadata": {},
   "outputs": [],
   "source": [
    "merged[['NAME', 'N1', 'N1x_calculated', 'N1y_calculated']].NAME.values[-1]"
   ]
  },
  {
   "cell_type": "code",
   "execution_count": null,
   "id": "4b7fc6f7",
   "metadata": {},
   "outputs": [],
   "source": [
    "ip5pos = 13329.289216000001\n",
    "\n",
    "fig,ax = plt.subplots(figsize=(20,15))\n",
    "ax.plot(merged.S_x-ip5pos,merged.N1)\n",
    "ax.plot(merged.S_x-ip5pos,np.min(np.array([merged.N1x_calculated.values,merged.N1y_calculated.values]),axis=0))\n",
    "#ax.plot(merged2.S_x-ip5pos,np.min(np.array([merged2.N1x_calculated.values,merged2.N1y_calculated.values]),axis=0))\n",
    "ax.set_ylim(0,50)\n",
    "fig.show()"
   ]
  },
  {
   "cell_type": "code",
   "execution_count": null,
   "id": "d7fb5c0d",
   "metadata": {},
   "outputs": [],
   "source": [
    "merged[merged.NAME.str.contains('mqxa')]"
   ]
  },
  {
   "cell_type": "code",
   "execution_count": null,
   "id": "b366622a",
   "metadata": {},
   "outputs": [],
   "source": [
    "np.sum(merged['MECH_SEP'])"
   ]
  },
  {
   "cell_type": "code",
   "execution_count": null,
   "id": "9eb583d0",
   "metadata": {},
   "outputs": [],
   "source": [
    "merged.iloc[-1]"
   ]
  },
  {
   "cell_type": "code",
   "execution_count": null,
   "id": "8d2ae239",
   "metadata": {},
   "outputs": [],
   "source": [
    "def calcaper(ele,df,rtol=1,xtol=1,dp=0.00086,betabeat=1.15,parasitic=True,dpara=0.14,fdqf=2.086,betaarc=170.25):\n",
    "    row = df[df.NAME==ele]\n",
    "    dx0 = row['DX']\n",
    "    dy0 = row['DY']\n",
    "    if parasitic:\n",
    "        dx = dx0*(np.sqrt(betabeat)-1) + (betabeat*np.sqrt(row['BETX'])*fdqf*dpara)/np.sqrt(betaarc)\n",
    "        dy = dy0*(np.sqrt(betabeat)-1) + (betabeat*np.sqrt(row['BETY'])*fdqf*dpara)/np.sqrt(betaarc)\n",
    "    else:\n",
    "        dx, dy = dx0, dy0\n",
    "    aperx = (row['APER_1_x']-rtol*row['RTOL']-xtol*row['XTOL']-0.002-np.abs(row['X']))/(np.sqrt(betabeat*row['BETX']*tool.aperture_data.epsilon+(dx*dp)**2))\n",
    "    apery = (row['APER_2_x']-rtol*row['RTOL']-xtol*row['YTOL']-0.002-np.abs(row['Y']))/(np.sqrt(betabeat*row['BETY']*tool.aperture_data.epsilon+(dy*dp)**2))\n",
    "    print([ele,aperx.values[0],apery.values[0],row['N1'].values[0],row['APER_1_x'].values[0],row['RTOL'].values[0],row['XTOL'].values[0],row['BETX'].values[0],row['DX'].values[0]])"
   ]
  },
  {
   "cell_type": "code",
   "execution_count": null,
   "id": "fe5c14f5",
   "metadata": {},
   "outputs": [],
   "source": [
    "calcaper('mcbh.13r5.b1',merged)\n",
    "calcaper('mcbh.13r5.b1',merged,rtol=0)\n",
    "calcaper('mcbh.13r5.b1',merged,xtol=0)\n",
    "calcaper('mcbh.13r5.b1',merged,dp=3.1e-4)\n",
    "calcaper('mcbh.13r5.b1',merged,parasitic=True)"
   ]
  },
  {
   "cell_type": "code",
   "execution_count": null,
   "id": "f61a7eae",
   "metadata": {},
   "outputs": [],
   "source": [
    "calcaper('mcbh.13r5.b1',merged,betabeat=1.15)\n",
    "calcaper('mcbh.13r5.b1',merged,betabeat=1.15,)"
   ]
  },
  {
   "cell_type": "code",
   "execution_count": null,
   "id": "0e2e5b7b",
   "metadata": {},
   "outputs": [],
   "source": [
    "tool.aperture_data.epsilon"
   ]
  },
  {
   "cell_type": "code",
   "execution_count": null,
   "id": "7d7fc525",
   "metadata": {},
   "outputs": [],
   "source": [
    "3.5e-6*0.938/450"
   ]
  },
  {
   "cell_type": "code",
   "execution_count": null,
   "id": "cb21a50b",
   "metadata": {},
   "outputs": [],
   "source": [
    "survB1[survB1.NAME=='mcbh.13r5.b1'.upper()]"
   ]
  },
  {
   "cell_type": "code",
   "execution_count": null,
   "id": "28a875cb",
   "metadata": {},
   "outputs": [],
   "source": [
    "survB1[survB1.NAME=='ip5'.upper()]"
   ]
  },
  {
   "cell_type": "code",
   "execution_count": null,
   "id": "390cfdfe",
   "metadata": {},
   "outputs": [],
   "source": [
    "angle2 = -3.212992/2\n",
    "\n",
    "angle2 = np.arctan2(-8399.576419,-546.205716)\n",
    "\n",
    "rotMat=np.array([[np.cos(angle2),-np.sin(angle2)],[np.sin(angle2),np.cos(angle2)]])\n",
    "\n",
    "xzrot = np.dot(rotMat,np.array([-8399.576419,-546.205716]))\n",
    "print(xzrot)\n",
    "xzrot[1] - 8409.452148"
   ]
  },
  {
   "cell_type": "code",
   "execution_count": null,
   "id": "2f0ef40e",
   "metadata": {},
   "outputs": [],
   "source": [
    "angle2 = -3.141593\n",
    "rotMat=np.array([[np.cos(angle2),-np.sin(angle2)],[np.sin(angle2),np.cos(angle2)]])\n",
    "\n",
    "np.dot(rotMat,np.array([-8409.452134,0.000027]))"
   ]
  },
  {
   "cell_type": "code",
   "execution_count": null,
   "id": "afccd0b4",
   "metadata": {},
   "outputs": [],
   "source": [
    "def rotTrans(data,ref,refMechSep):\n",
    "    angle=np.arctan2(ref[1],ref[0]+8409.452148/2)\n",
    "    if((angle<-0.75) & (angle>-0.8)):\n",
    "        adj=-0.00267\n",
    "    else:\n",
    "        adj=0\n",
    "        \n",
    "    angle2=-angle+np.pi/2+adj\n",
    "    \n",
    "    rotMat=np.array([[np.cos(angle2),-np.sin(angle2)],[np.sin(angle2),np.cos(angle2)]])\n",
    "    \n",
    "    temp1=data.copy()\n",
    "    temp1['X']+=8409.452148/2\n",
    "    adjust=np.dot(rotMat,np.array([ref[0]+8409.452148/2,ref[1]]))\n",
    "    temp=np.empty((0,2))\n",
    "    for index,row in temp1.iterrows():\n",
    "        row2=np.dot(rotMat,row[['X','Z']])-np.array([adjust[0],adjust[1]-refMechSep])\n",
    "        temp=np.append(temp,[row2],axis=0)\n",
    "        \n",
    "    temp1['X']=temp[:,0]\n",
    "    temp1['Z']=temp[:,1]\n",
    "    \n",
    "\n",
    "\n",
    "    return(temp1)"
   ]
  },
  {
   "cell_type": "code",
   "execution_count": null,
   "id": "801191bc",
   "metadata": {},
   "outputs": [],
   "source": [
    "ipMechSep=[0,0,-0.224,-0.42,0,0.194,0.224,0]\n",
    "ipPltRange=[0.22,0.26,0.20,0.34,0.22,0.22,0.22,0.26]\n",
    "ip = 5\n",
    "minRange=-400\n",
    "maxRange=400\n",
    "\n",
    "b1Orbit=rotTrans(tp.survGetDataRange(survB1,'b1',['IP'+str(ip),minRange],['IP'+str(ip),maxRange],['X','Z','NAME'],'IP'+str(ip),False),\n",
    "                   tp.survGetDataRange(survB1,'b1',['IP'+str(ip),-25],['IP'+str(ip),+25],\n",
    "                                    ['X','Z'],'IP'+str(ip),False).loc['IP'+str(ip)].values,\n",
    "                 ipMechSep[ip-1]/2\n",
    "                )"
   ]
  }
 ],
 "metadata": {
  "@webio": {
   "lastCommId": null,
   "lastKernelId": null
  },
  "kernelspec": {
   "display_name": "Python 3",
   "language": "python",
   "name": "python3"
  },
  "language_info": {
   "codemirror_mode": {
    "name": "ipython",
    "version": 3
   },
   "file_extension": ".py",
   "mimetype": "text/x-python",
   "name": "python",
   "nbconvert_exporter": "python",
   "pygments_lexer": "ipython3",
   "version": "3.9.12"
  },
  "sparkconnect": {
   "bundled_options": [
    "NXCALS",
    "SparkMetrics"
   ],
   "list_of_options": []
  }
 },
 "nbformat": 4,
 "nbformat_minor": 5
}
