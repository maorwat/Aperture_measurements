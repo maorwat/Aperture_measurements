{
 "cells": [
  {
   "cell_type": "code",
   "execution_count": 1,
   "id": "4f0d71a7",
   "metadata": {},
   "outputs": [],
   "source": [
    "from pathlib import Path\n",
    "import sys\n",
    "\n",
    "sys.path.append('/eos/home-i03/m/morwat/.local/lib/python3.9/site-packages/')"
   ]
  },
  {
   "cell_type": "code",
   "execution_count": 2,
   "id": "77ebee03",
   "metadata": {},
   "outputs": [],
   "source": [
    "home_path = str(Path.cwd().parent)\n",
    "sys.path.append(home_path)"
   ]
  },
  {
   "cell_type": "code",
   "execution_count": 3,
   "id": "adddff48",
   "metadata": {},
   "outputs": [],
   "source": [
    "from aper_package.aperture_data import Data\n",
    "from aper_package.plotting import plot\n",
    "from aper_package.timber_data import BPMData\n",
    "from aper_package.timber_data import CollimatorsData"
   ]
  },
  {
   "cell_type": "code",
   "execution_count": 4,
   "id": "a0a28f91",
   "metadata": {
    "scrolled": false
   },
   "outputs": [
    {
     "data": {
      "application/vnd.jupyter.widget-view+json": {
       "model_id": "3ffdd39436284d5daa6f8c32cd66f7d0",
       "version_major": 2,
       "version_minor": 0
      },
      "text/plain": [
       "Loading line from dict:   0%|          | 0/102050 [00:00<?, ?it/s]"
      ]
     },
     "metadata": {},
     "output_type": "display_data"
    },
    {
     "name": "stdout",
     "output_type": "stream",
     "text": [
      "Done loading line from dict.           \n"
     ]
    },
    {
     "data": {
      "application/vnd.jupyter.widget-view+json": {
       "model_id": "396ce568778d4241b44354fc30b87f4c",
       "version_major": 2,
       "version_minor": 0
      },
      "text/plain": [
       "Loading line from dict:   0%|          | 0/102122 [00:00<?, ?it/s]"
      ]
     },
     "metadata": {},
     "output_type": "display_data"
    },
    {
     "name": "stdout",
     "output_type": "stream",
     "text": [
      "Done loading line from dict.           \n",
      "Computing twiss for beam 1...\n",
      "Compiling ContextCpu kernels...\n",
      "Done compiling ContextCpu kernels.\n",
      "Computing twiss for beam 2...\n",
      "Compiling ContextCpu kernels...\n",
      "Done compiling ContextCpu kernels.\n",
      "Done computing twiss.\n"
     ]
    }
   ],
   "source": [
    "aper = Data(path_b1=home_path+'/test_data/Martas_injection_b1.json')\n",
    "aper.load_aperture(path_b1=home_path+'/test_data/all_optics_B1.tfs')"
   ]
  },
  {
   "cell_type": "code",
   "execution_count": 7,
   "id": "4b9961d6",
   "metadata": {},
   "outputs": [],
   "source": [
    "data = BPMData(spark)\n",
    "col_data = CollimatorsData(spark)"
   ]
  },
  {
   "cell_type": "code",
   "execution_count": null,
   "id": "d73c9459",
   "metadata": {
    "scrolled": false
   },
   "outputs": [
    {
     "data": {
      "application/vnd.jupyter.widget-view+json": {
       "model_id": "91368854bc0442e99e25a4679112f6cf",
       "version_major": 2,
       "version_minor": 0
      },
      "text/plain": [
       "VBox(children=(HBox(children=(Dropdown(description='Select knob:', options=('on_a1', 'on_a1_aux', 'on_a2', 'on…"
      ]
     },
     "metadata": {},
     "output_type": "display_data"
    }
   ],
   "source": [
    "plot(aper, 'h', BPM_data=None, collimator_data=None)"
   ]
  }
 ],
 "metadata": {
  "@webio": {
   "lastCommId": null,
   "lastKernelId": null
  },
  "kernelspec": {
   "display_name": "Python 3",
   "language": "python",
   "name": "python3"
  },
  "language_info": {
   "codemirror_mode": {
    "name": "ipython",
    "version": 3
   },
   "file_extension": ".py",
   "mimetype": "text/x-python",
   "name": "python",
   "nbconvert_exporter": "python",
   "pygments_lexer": "ipython3",
   "version": "3.9.12"
  },
  "sparkconnect": {
   "bundled_options": [
    "NXCALS",
    "SparkMetrics"
   ],
   "list_of_options": []
  }
 },
 "nbformat": 4,
 "nbformat_minor": 5
}
