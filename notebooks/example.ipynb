{
 "cells": [
  {
   "cell_type": "code",
   "execution_count": 1,
   "id": "4f0d71a7",
   "metadata": {},
   "outputs": [],
   "source": [
    "from pathlib import Path\n",
    "import sys\n",
    "\n",
    "home_path = str(Path.cwd().parent)\n",
    "sys.path.append(home_path)\n",
    "\n",
    "sys.path.append('/eos/home-i03/m/morwat/.local/lib/python3.9/site-packages/')"
   ]
  },
  {
   "cell_type": "code",
   "execution_count": 2,
   "id": "adddff48",
   "metadata": {},
   "outputs": [],
   "source": [
    "from aper_package.interactive_tool import InteractiveTool"
   ]
  },
  {
   "cell_type": "code",
   "execution_count": 3,
   "id": "a0a28f91",
   "metadata": {
    "scrolled": false
   },
   "outputs": [
    {
     "data": {
      "application/vnd.jupyter.widget-view+json": {
       "model_id": "81321d2df88444cc800845a67f4c0c2c",
       "version_major": 2,
       "version_minor": 0
      },
      "text/plain": [
       "VBox(children=(Tab(children=(VBox(children=(HTML(value='<h4>Select and load files</h4>'), HBox(children=(HBox(…"
      ]
     },
     "metadata": {},
     "output_type": "display_data"
    },
    {
     "name": "stdout",
     "output_type": "stream",
     "text": [
      "Loading new JSON data...                                                                            \r"
     ]
    },
    {
     "data": {
      "application/vnd.jupyter.widget-view+json": {
       "model_id": "8ff8cafb41844d47a1a50de62b15f63e",
       "version_major": 2,
       "version_minor": 0
      },
      "text/plain": [
       "Loading line from dict:   0%|          | 0/102050 [00:00<?, ?it/s]"
      ]
     },
     "metadata": {},
     "output_type": "display_data"
    },
    {
     "name": "stdout",
     "output_type": "stream",
     "text": [
      "Done loading line from dict.           \n"
     ]
    },
    {
     "data": {
      "application/vnd.jupyter.widget-view+json": {
       "model_id": "fa2d2f9b1da74931812e46dbea201c51",
       "version_major": 2,
       "version_minor": 0
      },
      "text/plain": [
       "Loading line from dict:   0%|          | 0/102122 [00:00<?, ?it/s]"
      ]
     },
     "metadata": {},
     "output_type": "display_data"
    }
   ],
   "source": [
    "tool = InteractiveTool(spark=spark, initial_path=home_path+'/test_data')\n",
    "tool.show()"
   ]
  },
  {
   "cell_type": "code",
   "execution_count": 46,
   "id": "a270e110",
   "metadata": {},
   "outputs": [
    {
     "name": "stdout",
     "output_type": "stream",
     "text": [
      "Done computing twiss.                                                                                    \r"
     ]
    },
    {
     "data": {
      "text/plain": [
       "(-7.54, 0.13)"
      ]
     },
     "execution_count": 46,
     "metadata": {},
     "output_type": "execute_result"
    }
   ],
   "source": [
    "tool.BPM_data.least_squares_fit(tool.aperture_data, -7.5, 'on_sep8h', tool.plane, [-10,10], tool.aperture_data.get_ir_boundries('IR8'))"
   ]
  },
  {
   "cell_type": "code",
   "execution_count": 47,
   "id": "771df66d",
   "metadata": {},
   "outputs": [],
   "source": [
    "tool.update_graph()"
   ]
  },
  {
   "cell_type": "code",
   "execution_count": 15,
   "id": "1517f71a",
   "metadata": {},
   "outputs": [
    {
     "name": "stderr",
     "output_type": "stream",
     "text": [
      "/tmp/ipykernel_8928/3405699162.py:7: SettingWithCopyWarning:\n",
      "\n",
      "\n",
      "A value is trying to be set on a copy of a slice from a DataFrame.\n",
      "Try using .loc[row_indexer,col_indexer] = value instead\n",
      "\n",
      "See the caveats in the documentation: https://pandas.pydata.org/pandas-docs/stable/user_guide/indexing.html#returning-a-view-versus-a-copy\n",
      "\n"
     ]
    }
   ],
   "source": [
    "import pandas as pd\n",
    "import numpy as np\n",
    "import tfs\n",
    "df_no_nans = tool.aperture_data.aper_b1.dropna()\n",
    "df_b1 = tfs.read('/eos/project-i02/c/collimation-team/machine_configurations/LHC_run3/2023/MADX/injection/aperture/ap_ir5b1.tfs')\n",
    "df_b1['NAME']=df_b1['NAME'].str.lower()\n",
    "df_no_nans['NAME']=df_no_nans['NAME'].str.lower()"
   ]
  },
  {
   "cell_type": "code",
   "execution_count": null,
   "id": "a141d4b5",
   "metadata": {},
   "outputs": [],
   "source": []
  },
  {
   "cell_type": "code",
   "execution_count": 5,
   "id": "7cfda71b",
   "metadata": {},
   "outputs": [],
   "source": [
    "merged = pd.merge(df_no_nans, df_b1, on='NAME')\n",
    "merged['N1x_calculated'] = (merged['APER_1_x']-merged['RTOL']-merged['XTOL']-0.002)/(np.sqrt(1.2*merged['BETX']*tool.aperture_data.epsilon+(merged['DX']**2)*(0.00086**2)))\n",
    "merged['N1y_calculated'] = (merged['APER_2_x']-merged['RTOL']-merged['YTOL']-0.002)/(np.sqrt(1.2*merged['BETY']*tool.aperture_data.epsilon+(merged['DY']**2)*(0.00086**2)))"
   ]
  },
  {
   "cell_type": "code",
   "execution_count": 6,
   "id": "04f8d482",
   "metadata": {},
   "outputs": [
    {
     "data": {
      "text/html": [
       "<div>\n",
       "<style scoped>\n",
       "    .dataframe tbody tr th:only-of-type {\n",
       "        vertical-align: middle;\n",
       "    }\n",
       "\n",
       "    .dataframe tbody tr th {\n",
       "        vertical-align: top;\n",
       "    }\n",
       "\n",
       "    .dataframe thead th {\n",
       "        text-align: right;\n",
       "    }\n",
       "</style>\n",
       "<table border=\"1\" class=\"dataframe\">\n",
       "  <thead>\n",
       "    <tr style=\"text-align: right;\">\n",
       "      <th></th>\n",
       "      <th>NAME</th>\n",
       "      <th>N1</th>\n",
       "      <th>N1x_calculated</th>\n",
       "      <th>N1y_calculated</th>\n",
       "    </tr>\n",
       "  </thead>\n",
       "  <tbody>\n",
       "    <tr>\n",
       "      <th>0</th>\n",
       "      <td>bpm.13l5.b1</td>\n",
       "      <td>16.743823</td>\n",
       "      <td>18.829575</td>\n",
       "      <td>16.662862</td>\n",
       "    </tr>\n",
       "    <tr>\n",
       "      <th>1</th>\n",
       "      <td>mqt.13l5.b1</td>\n",
       "      <td>11.122412</td>\n",
       "      <td>16.490589</td>\n",
       "      <td>11.126849</td>\n",
       "    </tr>\n",
       "    <tr>\n",
       "      <th>2</th>\n",
       "      <td>mq.13l5.b1</td>\n",
       "      <td>11.100082</td>\n",
       "      <td>16.883420</td>\n",
       "      <td>11.104740</td>\n",
       "    </tr>\n",
       "    <tr>\n",
       "      <th>3</th>\n",
       "      <td>ms.13l5.b1</td>\n",
       "      <td>11.165570</td>\n",
       "      <td>16.435212</td>\n",
       "      <td>11.168599</td>\n",
       "    </tr>\n",
       "    <tr>\n",
       "      <th>4</th>\n",
       "      <td>mcbv.13l5.b1</td>\n",
       "      <td>11.131100</td>\n",
       "      <td>16.139104</td>\n",
       "      <td>11.134781</td>\n",
       "    </tr>\n",
       "    <tr>\n",
       "      <th>...</th>\n",
       "      <td>...</td>\n",
       "      <td>...</td>\n",
       "      <td>...</td>\n",
       "      <td>...</td>\n",
       "    </tr>\n",
       "    <tr>\n",
       "      <th>215</th>\n",
       "      <td>bpm.13r5.b1</td>\n",
       "      <td>15.227556</td>\n",
       "      <td>9.326255</td>\n",
       "      <td>37.985862</td>\n",
       "    </tr>\n",
       "    <tr>\n",
       "      <th>216</th>\n",
       "      <td>mqt.13r5.b1</td>\n",
       "      <td>12.806555</td>\n",
       "      <td>8.004886</td>\n",
       "      <td>25.932175</td>\n",
       "    </tr>\n",
       "    <tr>\n",
       "      <th>217</th>\n",
       "      <td>mq.13r5.b1</td>\n",
       "      <td>12.711425</td>\n",
       "      <td>7.951749</td>\n",
       "      <td>26.766343</td>\n",
       "    </tr>\n",
       "    <tr>\n",
       "      <th>218</th>\n",
       "      <td>ms.13r5.b1</td>\n",
       "      <td>12.806796</td>\n",
       "      <td>8.003164</td>\n",
       "      <td>26.050721</td>\n",
       "    </tr>\n",
       "    <tr>\n",
       "      <th>219</th>\n",
       "      <td>mcbh.13r5.b1</td>\n",
       "      <td>12.792754</td>\n",
       "      <td>7.995432</td>\n",
       "      <td>25.518371</td>\n",
       "    </tr>\n",
       "  </tbody>\n",
       "</table>\n",
       "<p>220 rows × 4 columns</p>\n",
       "</div>"
      ],
      "text/plain": [
       "             NAME         N1  N1x_calculated  N1y_calculated\n",
       "0     bpm.13l5.b1  16.743823       18.829575       16.662862\n",
       "1     mqt.13l5.b1  11.122412       16.490589       11.126849\n",
       "2      mq.13l5.b1  11.100082       16.883420       11.104740\n",
       "3      ms.13l5.b1  11.165570       16.435212       11.168599\n",
       "4    mcbv.13l5.b1  11.131100       16.139104       11.134781\n",
       "..            ...        ...             ...             ...\n",
       "215   bpm.13r5.b1  15.227556        9.326255       37.985862\n",
       "216   mqt.13r5.b1  12.806555        8.004886       25.932175\n",
       "217    mq.13r5.b1  12.711425        7.951749       26.766343\n",
       "218    ms.13r5.b1  12.806796        8.003164       26.050721\n",
       "219  mcbh.13r5.b1  12.792754        7.995432       25.518371\n",
       "\n",
       "[220 rows x 4 columns]"
      ]
     },
     "execution_count": 6,
     "metadata": {},
     "output_type": "execute_result"
    }
   ],
   "source": [
    "merged[['NAME', 'N1', 'N1x_calculated', 'N1y_calculated']]"
   ]
  },
  {
   "cell_type": "code",
   "execution_count": 19,
   "id": "7ff2dfb0",
   "metadata": {},
   "outputs": [],
   "source": [
    "import plotly.graph_objects as go\n",
    "def add_velo(data: object) -> go.Scatter:\n",
    "    \"\"\"\n",
    "    Add a VELO trace at the IP8 position.\n",
    "\n",
    "    Parameters:\n",
    "        data: An ApertureData object containing twiss data for beam 1.\n",
    "\n",
    "    Returns:\n",
    "        go.Scatter: A Plotly scatter trace representing the VELO.\n",
    "    \"\"\"\n",
    "\n",
    "    # Find ip8 position\n",
    "    ip8 = data.tw_b1.loc[data.tw_b1['name'] == 'ip8', 's'].values[0]\n",
    "\n",
    "    # VELO position\n",
    "    x0=ip8-0.2\n",
    "    x1=ip8+0.8\n",
    "    y0=-0.05\n",
    "    y1=0.05\n",
    "\n",
    "    trace = go.Scatter(x=[x0, x0, x1, x1], y=[y0, y1, y1, y0], mode='lines', line=dict(color='green'), name='VELO')\n",
    "\n",
    "    return trace\n"
   ]
  },
  {
   "cell_type": "code",
   "execution_count": 20,
   "id": "195e3b58",
   "metadata": {},
   "outputs": [],
   "source": [
    "trace = add_velo(tool.aperture_data)"
   ]
  },
  {
   "cell_type": "code",
   "execution_count": 28,
   "id": "1adcd548",
   "metadata": {},
   "outputs": [
    {
     "data": {
      "application/vnd.jupyter.widget-view+json": {
       "model_id": "1855e935277142c982d6cd6be07d4cda",
       "version_major": 2,
       "version_minor": 0
      },
      "text/plain": [
       "FigureWidget({\n",
       "    'data': [{'line': {'color': 'gray'},\n",
       "              'mode': 'lines',\n",
       "              'name': 'Aperture b1',\n",
       "              'text': array(['mbaw.1r2', 'vvgrwa.a1r2.a.b1', 'vvgrwa.a1r2.b.b1', ...,\n",
       "                             'vmaca.c1l2.b.b1', 'vmdbb.a1l2.a.b1', 'vmdbb.a1l2.b.b1'], dtype=object),\n",
       "              'type': 'scatter',\n",
       "              'uid': '6db50887-4e1c-4f79-8945-216ed5dddc5c',\n",
       "              'visible': False,\n",
       "              'x': array([9.75000000e+00, 1.91070000e+01, 1.91920000e+01, ..., 2.66540082e+04,\n",
       "                          2.66540832e+04, 2.66542032e+04]),\n",
       "              'xaxis': 'x',\n",
       "              'y': array([0.150664, 0.05    , 0.05    , ..., 0.0315  , 0.0315  , 0.0315  ]),\n",
       "              'yaxis': 'y'},\n",
       "             {'line': {'color': 'gray'},\n",
       "              'mode': 'lines',\n",
       "              'name': 'Aperture b1',\n",
       "              'text': array(['mbaw.1r2', 'vvgrwa.a1r2.a.b1', 'vvgrwa.a1r2.b.b1', ...,\n",
       "                             'vmaca.c1l2.b.b1', 'vmdbb.a1l2.a.b1', 'vmdbb.a1l2.b.b1'], dtype=object),\n",
       "              'type': 'scatter',\n",
       "              'uid': '5de2af5f-ad6b-4dda-9c58-ce92a811ab1c',\n",
       "              'visible': False,\n",
       "              'x': array([9.75000000e+00, 1.91070000e+01, 1.91920000e+01, ..., 2.66540082e+04,\n",
       "                          2.66540832e+04, 2.66542032e+04]),\n",
       "              'xaxis': 'x',\n",
       "              'y': array([-0.150664, -0.05    , -0.05    , ..., -0.0315  , -0.0315  , -0.0315  ]),\n",
       "              'yaxis': 'y'},\n",
       "             {'line': {'color': 'gray'},\n",
       "              'mode': 'lines',\n",
       "              'name': 'Aperture b2',\n",
       "              'text': array(['mbaw.1r2', 'vazdfwa.a1r2.a.b2', 'vazdfwa.a1r2.b.b2', ...,\n",
       "                             'vmaca.c1l2.b.b2', 'vmdbb.a1l2.a.b2', 'vmdbb.a1l2.b.b2'], dtype=object),\n",
       "              'type': 'scatter',\n",
       "              'uid': '1a3e52f5-9d8e-4cf4-b3f3-86e4a1c8da2e',\n",
       "              'visible': True,\n",
       "              'x': array([9.59763193e+00, 1.89546319e+01, 1.90396319e+01, ..., 2.66538558e+04,\n",
       "                          2.66539308e+04, 2.66540508e+04]),\n",
       "              'xaxis': 'x',\n",
       "              'y': array([0.150664, 0.05    , 0.05    , ..., 0.0315  , 0.0315  , 0.0315  ]),\n",
       "              'yaxis': 'y'},\n",
       "             {'line': {'color': 'gray'},\n",
       "              'mode': 'lines',\n",
       "              'name': 'Aperture b2',\n",
       "              'text': array(['mbaw.1r2', 'vazdfwa.a1r2.a.b2', 'vazdfwa.a1r2.b.b2', ...,\n",
       "                             'vmaca.c1l2.b.b2', 'vmdbb.a1l2.a.b2', 'vmdbb.a1l2.b.b2'], dtype=object),\n",
       "              'type': 'scatter',\n",
       "              'uid': '493f2257-cfd6-4a93-852b-8c7d2aa87847',\n",
       "              'visible': True,\n",
       "              'x': array([9.59763193e+00, 1.89546319e+01, 1.90396319e+01, ..., 2.66538558e+04,\n",
       "                          2.66539308e+04, 2.66540508e+04]),\n",
       "              'xaxis': 'x',\n",
       "              'y': array([-0.150664, -0.05    , -0.05    , ..., -0.0315  , -0.0315  , -0.0315  ]),\n",
       "              'yaxis': 'y'},\n",
       "             {'line': {'color': 'blue'},\n",
       "              'mode': 'markers',\n",
       "              'name': 'BPM beam 1',\n",
       "              'text': array(['bpmsw.1r1.b1', 'bpmwf.a1r1.b1', 'bpms.2r1.b1', ..., 'bpms.2l1.b1',\n",
       "                             'bpmwf.a1l1.b1', 'bpmsw.1l1.b1'], dtype=object),\n",
       "              'type': 'scatter',\n",
       "              'uid': '3acaec3e-50f1-4be7-819f-0e8edfc9caa1',\n",
       "              'visible': False,\n",
       "              'x': array([23348.01059756, 23348.14359756, 23357.97559756, ..., 23294.91759359,\n",
       "                          23304.68059359, 23304.86759359]),\n",
       "              'xaxis': 'x',\n",
       "              'y': array([-0.00254769,  0.        , -0.00173847, ..., -0.00281178, -0.        ,\n",
       "                          -0.00193144]),\n",
       "              'yaxis': 'y'},\n",
       "             {'line': {'color': 'red'},\n",
       "              'mode': 'markers',\n",
       "              'name': 'BPM beam 2',\n",
       "              'text': array(['bpmsw.1r1.b2', 'bpmwf.a1r1.b2', 'bpms.2r1.b2', ..., 'bpms.2l1.b2',\n",
       "                             'bpmwf.a1l1.b2', 'bpmsw.1l1.b2'], dtype=object),\n",
       "              'type': 'scatter',\n",
       "              'uid': '2f65ec2d-db30-4b81-8057-46de9255c776',\n",
       "              'visible': True,\n",
       "              'x': array([23348.01059756, 23348.14359756, 23357.97559756, ..., 23294.91758962,\n",
       "                          23304.68058962, 23304.86758962]),\n",
       "              'xaxis': 'x',\n",
       "              'y': array([ 0.00203949,  0.00436896,  0.0029725 , ...,  0.00130462, -0.00338952,\n",
       "                           0.00209036]),\n",
       "              'yaxis': 'y'},\n",
       "             {'line': {'color': 'blue'},\n",
       "              'mode': 'lines',\n",
       "              'name': 'Beam 1',\n",
       "              'text': array(['ip2', 'mbls2.1r2', 'mbaw.1r2_tilt_entry', ..., 'vmdbb.a1l2.a.b1',\n",
       "                             'vmdbb.a1l2.b.b1', 'mbls2.1l2'], dtype=object),\n",
       "              'type': 'scatter',\n",
       "              'uid': 'e740e4b3-dafe-49c9-bc42-4c0437df44d9',\n",
       "              'visible': False,\n",
       "              'x': array([0.00000000e+00, 3.02500000e+00, 9.75000000e+00, ..., 2.66540832e+04,\n",
       "                          2.66542032e+04, 2.66558582e+04]),\n",
       "              'xaxis': 'x',\n",
       "              'y': array([0.00349989, 0.00337978, 0.00311276, ..., 0.00369048, 0.00368572,\n",
       "                          0.00362   ]),\n",
       "              'yaxis': 'y'},\n",
       "             {'line': {'color': 'red'},\n",
       "              'mode': 'lines',\n",
       "              'name': 'Beam 2',\n",
       "              'text': array(['mbls2.1r2', 'mbaw.1r2_tilt_exit', 'mbaw.1r2', ..., 'vmdbb.a1l2.b.b2',\n",
       "                             'mbls2.1l2', 'ip2'], dtype=object),\n",
       "              'type': 'scatter',\n",
       "              'uid': '3e86440a-7fd7-4211-bcbc-a62ed628508b',\n",
       "              'visible': True,\n",
       "              'x': array([2.87263193e+00, 9.59763193e+00, 9.59763193e+00, ..., 2.66540508e+04,\n",
       "                          2.66557058e+04, 2.66587308e+04]),\n",
       "              'xaxis': 'x',\n",
       "              'y': array([-0.00362177, -0.00389264, -0.00388285, ..., -0.00331142, -0.00337808,\n",
       "                          -0.00349993]),\n",
       "              'yaxis': 'y'},\n",
       "             {'line': {'color': 'blue', 'dash': 'dash'},\n",
       "              'mode': 'lines',\n",
       "              'name': 'Nominal beam 1',\n",
       "              'text': array(['ip2', 'mbls2.1r2', 'mbaw.1r2_tilt_entry', ..., 'vmdbb.a1l2.a.b1',\n",
       "                             'vmdbb.a1l2.b.b1', 'mbls2.1l2'], dtype=object),\n",
       "              'type': 'scatter',\n",
       "              'uid': '653a5eba-c1fb-438a-92ca-eef84ed90363',\n",
       "              'visible': False,\n",
       "              'x': array([0.00000000e+00, 3.02500000e+00, 9.75000000e+00, ..., 2.66540832e+04,\n",
       "                          2.66542032e+04, 2.66558582e+04]),\n",
       "              'xaxis': 'x',\n",
       "              'y': array([0.00349998, 0.00337987, 0.00311287, ..., 0.00369056, 0.00368579,\n",
       "                          0.00362008]),\n",
       "              'yaxis': 'y'},\n",
       "             {'line': {'color': 'red', 'dash': 'dash'},\n",
       "              'mode': 'lines',\n",
       "              'name': 'Nominal beam 2',\n",
       "              'text': array(['mbls2.1r2', 'mbaw.1r2_tilt_exit', 'mbaw.1r2', ..., 'vmdbb.a1l2.b.b2',\n",
       "                             'mbls2.1l2', 'ip2'], dtype=object),\n",
       "              'type': 'scatter',\n",
       "              'uid': 'ae650336-9fae-45eb-9c77-2a02b7196be0',\n",
       "              'visible': True,\n",
       "              'x': array([2.87263193e+00, 9.59763193e+00, 9.59763193e+00, ..., 2.66540508e+04,\n",
       "                          2.66557058e+04, 2.66587308e+04]),\n",
       "              'xaxis': 'x',\n",
       "              'y': array([-0.00362187, -0.00389285, -0.00388306, ..., -0.0033114 , -0.00337809,\n",
       "                          -0.00349998]),\n",
       "              'yaxis': 'y'},\n",
       "             {'customdata': [[2.972664360925516, 10.999687330662084,\n",
       "                             23.950581069859332], [3.1034697421565105,\n",
       "                             10.999678455203053, 22.979021460531673],\n",
       "                             [4.145311974189137, 10.99972256118171,\n",
       "                             19.25981823209069], ..., [3.29992727903093,\n",
       "                             10.999751249109947, 23.301595002818736],\n",
       "                             [3.284607993925239, 10.99974926235815,\n",
       "                             23.34301058674884], [3.1075183970098794,\n",
       "                             10.999722923787406, 23.813771221530637]],\n",
       "              'fillcolor': 'rgba(0,0,255,0.1)',\n",
       "              'hovertemplate': ('s: %{x:.2f} [m]<br>x: %{y:.4f}' ... 'inal: %{customdata[1]:.2f} [σ]'),\n",
       "              'line': {'color': 'rgba(0, 0, 0, 0)'},\n",
       "              'mode': 'lines',\n",
       "              'name': 'Upper envelope beam 1',\n",
       "              'text': array(['ip2', 'mbls2.1r2', 'mbaw.1r2_tilt_entry', ..., 'vmdbb.a1l2.a.b1',\n",
       "                             'vmdbb.a1l2.b.b1', 'mbls2.1l2'], dtype=object),\n",
       "              'type': 'scatter',\n",
       "              'uid': '5d554339-f151-4540-af6f-2e0043131b48',\n",
       "              'visible': False,\n",
       "              'x': array([0.00000000e+00, 3.02500000e+00, 9.75000000e+00, ..., 2.66540832e+04,\n",
       "                          2.66542032e+04, 2.66558582e+04]),\n",
       "              'xaxis': 'x',\n",
       "              'y': array([0.00647264, 0.00648334, 0.00725818, ..., 0.00699048, 0.0069704 ,\n",
       "                          0.0067276 ]),\n",
       "              'yaxis': 'y'},\n",
       "             {'customdata': [[2.9728333586378404, 11.00031266933792,\n",
       "                             1.9505810698593335], [3.103651184650876,\n",
       "                             11.000321544796943, 0.9790214605316742],\n",
       "                             [4.145521083182419, 11.000277438818294,\n",
       "                             -2.7401817679093114], ..., [3.3000765296510903,\n",
       "                             11.000248750890053, 1.301595002818737],\n",
       "                             [3.284757738222704, 11.000250737641847,\n",
       "                             1.3430105867488416], [3.107674949940163,\n",
       "                             11.000277076212596, 1.8137712215306365]],\n",
       "              'fill': 'tonexty',\n",
       "              'fillcolor': 'rgba(0,0,255,0.1)',\n",
       "              'hovertemplate': ('s: %{x:.2f} [m]<br>x: %{y:.4f}' ... 'inal: %{customdata[1]:.2f} [σ]'),\n",
       "              'line': {'color': 'rgba(0, 0, 0, 0)'},\n",
       "              'mode': 'lines',\n",
       "              'name': 'Bottom envelope beam 1',\n",
       "              'text': array(['ip2', 'mbls2.1r2', 'mbaw.1r2_tilt_entry', ..., 'vmdbb.a1l2.a.b1',\n",
       "                             'vmdbb.a1l2.b.b1', 'mbls2.1l2'], dtype=object),\n",
       "              'type': 'scatter',\n",
       "              'uid': '61d163b0-ea1a-467c-8412-3c6789773723',\n",
       "              'visible': False,\n",
       "              'x': array([0.00000000e+00, 3.02500000e+00, 9.75000000e+00, ..., 2.66540832e+04,\n",
       "                          2.66542032e+04, 2.66558582e+04]),\n",
       "              'xaxis': 'x',\n",
       "              'y': array([ 0.00052714,  0.00027622, -0.00103265, ...,  0.00039048,  0.00040103,\n",
       "                           0.00051241]),\n",
       "              'yaxis': 'y'},\n",
       "             {'customdata': [[3.1070088957467688, 11.00034990159124,\n",
       "                             -1.8228557572922854], [4.146954438062846,\n",
       "                             11.00054425746616, 0.6740640845662864],\n",
       "                             [4.146918223527712, 11.000543685923923,\n",
       "                             0.6999507034368089], ..., [3.286241955743423,\n",
       "                             10.999922970082302, -0.08420940940092325],\n",
       "                             [3.1099439362767596, 11.000011170571819,\n",
       "                             -0.9484334850474108], [2.976071889760244,\n",
       "                             11.000188481975133, -1.9364649732982318]],\n",
       "              'fillcolor': 'rgba(255,0,0,0.1)',\n",
       "              'hovertemplate': ('s: %{x:.2f} [m]<br>x: %{y:.4f}' ... 'inal: %{customdata[1]:.2f} [σ]'),\n",
       "              'line': {'color': 'rgba(0, 0, 0, 0)'},\n",
       "              'mode': 'lines',\n",
       "              'name': 'Upper envelope beam 2',\n",
       "              'text': array(['mbls2.1r2', 'mbaw.1r2_tilt_exit', 'mbaw.1r2', ..., 'vmdbb.a1l2.b.b2',\n",
       "                             'mbls2.1l2', 'ip2'], dtype=object),\n",
       "              'type': 'scatter',\n",
       "              'uid': 'a34cbc22-381a-4b7e-a4fb-4bf83b2a48d5',\n",
       "              'visible': True,\n",
       "              'x': array([2.87263193e+00, 9.59763193e+00, 9.59763193e+00, ..., 2.66540508e+04,\n",
       "                          2.66557058e+04, 2.66587308e+04]),\n",
       "              'xaxis': 'x',\n",
       "              'y': array([-5.14858991e-04,  2.54106795e-04,  2.63863170e-04, ..., -2.51576756e-05,\n",
       "                          -2.68142906e-04, -5.23905475e-04]),\n",
       "              'yaxis': 'y'},\n",
       "             {'customdata': [[3.1068112388783335, 10.99965009840876,\n",
       "                             -23.822855757292285], [4.146544092745029,\n",
       "                             10.999455742533838, -21.325935915433714],\n",
       "                             [4.146508312685093, 10.999456314076081,\n",
       "                             -21.30004929656319], ..., [3.28628798132889,\n",
       "                             11.000077029917701, -22.084209409400923],\n",
       "                             [3.1099376199464297, 10.999988829428181,\n",
       "                             -22.94843348504741], [2.9759699031608617,\n",
       "                             10.999811518024867, -23.936464973298232]],\n",
       "              'fill': 'tonexty',\n",
       "              'fillcolor': 'rgba(255,0,0,0.1)',\n",
       "              'hovertemplate': ('s: %{x:.2f} [m]<br>x: %{y:.4f}' ... 'inal: %{customdata[1]:.2f} [σ]'),\n",
       "              'line': {'color': 'rgba(0, 0, 0, 0)'},\n",
       "              'mode': 'lines',\n",
       "              'name': 'Bottom envelope beam 2',\n",
       "              'text': array(['mbls2.1r2', 'mbaw.1r2_tilt_exit', 'mbaw.1r2', ..., 'vmdbb.a1l2.b.b2',\n",
       "                             'mbls2.1l2', 'ip2'], dtype=object),\n",
       "              'type': 'scatter',\n",
       "              'uid': '700ab8d4-17b4-43d5-a59a-d3dfff9249ac',\n",
       "              'visible': True,\n",
       "              'x': array([2.87263193e+00, 9.59763193e+00, 9.59763193e+00, ..., 2.66540508e+04,\n",
       "                          2.66557058e+04, 2.66587308e+04]),\n",
       "              'xaxis': 'x',\n",
       "              'y': array([-0.00672868, -0.00803939, -0.00802956, ..., -0.00659769, -0.00648802,\n",
       "                          -0.00647595]),\n",
       "              'yaxis': 'y'},\n",
       "             {'line': {'color': 'green'},\n",
       "              'mode': 'lines',\n",
       "              'name': 'VELO',\n",
       "              'type': 'scatter',\n",
       "              'uid': '07e1be7e-abfd-4627-8af1-51eacf091320',\n",
       "              'x': [19982.742378128005, 19982.742378128005, 19983.742378128005,\n",
       "                    19983.742378128005],\n",
       "              'y': [-0.05, 0.05, 0.05, -0.05]}],\n",
       "    'layout': {'height': 600,\n",
       "               'plot_bgcolor': 'white',\n",
       "               'showlegend': False,\n",
       "               'template': '...',\n",
       "               'updatemenus': [{'buttons': [{'args': [{'visible': [True, True,\n",
       "                                                                   False, False,\n",
       "                                                                   True, False,\n",
       "                                                                   True, False,\n",
       "                                                                   True, False,\n",
       "                                                                   True, True,\n",
       "                                                                   False, False]}],\n",
       "                                             'label': 'Show beam 1',\n",
       "                                             'method': 'update'},\n",
       "                                            {'args': [{'visible': [False, False,\n",
       "                                                                   True, True,\n",
       "                                                                   False, True,\n",
       "                                                                   False, True,\n",
       "                                                                   False, True,\n",
       "                                                                   False, False,\n",
       "                                                                   True, True]}],\n",
       "                                             'label': 'Show beam 2',\n",
       "                                             'method': 'update'},\n",
       "                                            {'args': [{'visible': array([ True,  True,  True,  True,  True,  True,  True,  True,  True,  True,\n",
       "                                                                          True,  True,  True,  True])}],\n",
       "                                             'label': 'Show both beams',\n",
       "                                             'method': 'update'}],\n",
       "                                'direction': 'right',\n",
       "                                'type': 'buttons',\n",
       "                                'xanchor': 'left',\n",
       "                                'y': 1.2}],\n",
       "               'width': 2000,\n",
       "               'xaxis': {'anchor': 'y',\n",
       "                         'domain': [0.0, 1.0],\n",
       "                         'range': [19447.405752957202, 20540.9051522022],\n",
       "                         'tickformat': ',',\n",
       "                         'title': {'text': 's [m]'}},\n",
       "               'yaxis': {'anchor': 'x',\n",
       "                         'domain': [0.0, 1.0],\n",
       "                         'range': [-0.05, 0.05],\n",
       "                         'tickformat': ',',\n",
       "                         'title': {'text': 'x [m]'}}}\n",
       "})"
      ]
     },
     "execution_count": 28,
     "metadata": {},
     "output_type": "execute_result"
    }
   ],
   "source": [
    "tool.fig_widget.add_trace(trace)"
   ]
  },
  {
   "cell_type": "code",
   "execution_count": 32,
   "id": "e586abf8",
   "metadata": {},
   "outputs": [],
   "source": [
    "import numpy as numpy\n",
    "def fun(a, b):\n",
    "    return np.sqrt(a**2+b**2)"
   ]
  },
  {
   "cell_type": "code",
   "execution_count": 45,
   "id": "0e281f78",
   "metadata": {},
   "outputs": [
    {
     "data": {
      "text/plain": [
       "11.407970897578588"
      ]
     },
     "execution_count": 45,
     "metadata": {},
     "output_type": "execute_result"
    }
   ],
   "source": [
    "fun(4.53, 10.47)"
   ]
  },
  {
   "cell_type": "code",
   "execution_count": null,
   "id": "6d00c69a",
   "metadata": {},
   "outputs": [],
   "source": []
  }
 ],
 "metadata": {
  "@webio": {
   "lastCommId": null,
   "lastKernelId": null
  },
  "kernelspec": {
   "display_name": "Python 3",
   "language": "python",
   "name": "python3"
  },
  "language_info": {
   "codemirror_mode": {
    "name": "ipython",
    "version": 3
   },
   "file_extension": ".py",
   "mimetype": "text/x-python",
   "name": "python",
   "nbconvert_exporter": "python",
   "pygments_lexer": "ipython3",
   "version": "3.9.12"
  },
  "sparkconnect": {
   "bundled_options": [
    "NXCALS",
    "SparkMetrics"
   ],
   "list_of_options": []
  }
 },
 "nbformat": 4,
 "nbformat_minor": 5
}
