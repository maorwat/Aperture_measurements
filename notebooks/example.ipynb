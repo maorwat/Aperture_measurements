{
 "cells": [
  {
   "cell_type": "code",
   "execution_count": 1,
   "id": "4f0d71a7",
   "metadata": {},
   "outputs": [],
   "source": [
    "from pathlib import Path\n",
    "import sys\n",
    "# I need that to make it work on SWAN\n",
    "sys.path.append('/eos/home-i03/m/morwat/.local/lib/python3.9/site-packages/')"
   ]
  },
  {
   "cell_type": "code",
   "execution_count": 2,
   "id": "77ebee03",
   "metadata": {},
   "outputs": [],
   "source": [
    "home_path = str(Path.cwd().parent)\n",
    "sys.path.append(home_path)"
   ]
  },
  {
   "cell_type": "code",
   "execution_count": 3,
   "id": "adddff48",
   "metadata": {},
   "outputs": [],
   "source": [
    "from aper_package.aperture_data import ApertureData\n",
    "from aper_package.plotting import plot"
   ]
  },
  {
   "cell_type": "code",
   "execution_count": 4,
   "id": "a0a28f91",
   "metadata": {
    "scrolled": false
   },
   "outputs": [
    {
     "data": {
      "application/vnd.jupyter.widget-view+json": {
       "model_id": "48075566d1f4444991fe544b006a32af",
       "version_major": 2,
       "version_minor": 0
      },
      "text/plain": [
       "Loading line from dict:   0%|          | 0/102050 [00:00<?, ?it/s]"
      ]
     },
     "metadata": {},
     "output_type": "display_data"
    },
    {
     "name": "stdout",
     "output_type": "stream",
     "text": [
      "Done loading line from dict.           \n"
     ]
    },
    {
     "data": {
      "application/vnd.jupyter.widget-view+json": {
       "model_id": "f7175512678044afb53a15e853803221",
       "version_major": 2,
       "version_minor": 0
      },
      "text/plain": [
       "Loading line from dict:   0%|          | 0/102122 [00:00<?, ?it/s]"
      ]
     },
     "metadata": {},
     "output_type": "display_data"
    },
    {
     "name": "stdout",
     "output_type": "stream",
     "text": [
      "Done loading line from dict.           \n",
      "Computing twiss for beam 1...\n",
      "Compiling ContextCpu kernels...\n",
      "Done compiling ContextCpu kernels.\n",
      "Computing twiss for beam 2...\n",
      "Compiling ContextCpu kernels...\n",
      "Done compiling ContextCpu kernels.\n",
      "Done computing twiss.\n"
     ]
    }
   ],
   "source": [
    "# Create ApertureData object by loading a line\n",
    "aper = ApertureData(path_b1=home_path+'/test_data/Martas_injection_b1.json')\n",
    "# Load aperture data\n",
    "aper.load_aperture(path_b1=home_path+'/test_data/all_optics_B1.tfs')\n",
    "# Load thick elements to show above the graph\n",
    "aper.load_elements(path=home_path+'/test_data/thick_all_optics_B1.tfs')"
   ]
  },
  {
   "cell_type": "code",
   "execution_count": 5,
   "id": "d73c9459",
   "metadata": {
    "scrolled": false
   },
   "outputs": [
    {
     "data": {
      "application/vnd.jupyter.widget-view+json": {
       "model_id": "062c0cada8274c7098b165ce48cb1b8a",
       "version_major": 2,
       "version_minor": 0
      },
      "text/plain": [
       "VBox(children=(HBox(children=(Dropdown(description='Select knob:', options=('on_a1', 'on_a1_aux', 'on_a2', 'on…"
      ]
     },
     "metadata": {},
     "output_type": "display_data"
    },
    {
     "name": "stdout",
     "output_type": "stream",
     "text": [
      "Loading BPM data...\n",
      "Done loading BPM data.\n",
      "Loading collimators data...\n",
      "Done loading collimators data.\n",
      "Switching between planes...\n",
      "Setting ip3 as the first element...\n"
     ]
    }
   ],
   "source": [
    "plot(aper, spark)"
   ]
  },
  {
   "cell_type": "code",
   "execution_count": null,
   "id": "a227079f",
   "metadata": {},
   "outputs": [],
   "source": []
  }
 ],
 "metadata": {
  "@webio": {
   "lastCommId": null,
   "lastKernelId": null
  },
  "kernelspec": {
   "display_name": "Python 3",
   "language": "python",
   "name": "python3"
  },
  "language_info": {
   "codemirror_mode": {
    "name": "ipython",
    "version": 3
   },
   "file_extension": ".py",
   "mimetype": "text/x-python",
   "name": "python",
   "nbconvert_exporter": "python",
   "pygments_lexer": "ipython3",
   "version": "3.9.12"
  },
  "sparkconnect": {
   "bundled_options": [
    "NXCALS",
    "SparkMetrics"
   ],
   "list_of_options": []
  }
 },
 "nbformat": 4,
 "nbformat_minor": 5
}
