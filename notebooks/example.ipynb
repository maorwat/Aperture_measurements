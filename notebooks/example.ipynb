{
 "cells": [
  {
   "cell_type": "code",
   "execution_count": 1,
   "id": "4f0d71a7",
   "metadata": {},
   "outputs": [],
   "source": [
    "from pathlib import Path\n",
    "import sys\n",
    "\n",
    "home_path = str(Path.cwd().parent)\n",
    "sys.path.append(home_path)\n",
    "\n",
    "sys.path.append('/eos/home-i03/m/morwat/.local/lib/python3.9/site-packages/')"
   ]
  },
  {
   "cell_type": "code",
   "execution_count": 2,
   "id": "adddff48",
   "metadata": {},
   "outputs": [],
   "source": [
    "from aper_package.interactive_tool import InteractiveTool"
   ]
  },
  {
   "cell_type": "code",
   "execution_count": 3,
   "id": "a0a28f91",
   "metadata": {
    "scrolled": false
   },
   "outputs": [
    {
     "data": {
      "application/vnd.jupyter.widget-view+json": {
       "model_id": "6a59374b8d3b474b8af4f3c57f408c68",
       "version_major": 2,
       "version_minor": 0
      },
      "text/plain": [
       "VBox(children=(Tab(children=(VBox(children=(HTML(value='<h4>Select and load files</h4>'), HBox(children=(HBox(…"
      ]
     },
     "metadata": {},
     "output_type": "display_data"
    },
    {
     "name": "stdout",
     "output_type": "stream",
     "text": [
      "Loading new JSON data...                                                                            \r"
     ]
    },
    {
     "data": {
      "application/vnd.jupyter.widget-view+json": {
       "model_id": "2b872d3289e64f11bd2838635f089b4c",
       "version_major": 2,
       "version_minor": 0
      },
      "text/plain": [
       "Loading line from dict:   0%|          | 0/105823 [00:00<?, ?it/s]"
      ]
     },
     "metadata": {},
     "output_type": "display_data"
    },
    {
     "name": "stdout",
     "output_type": "stream",
     "text": [
      "Done loading line from dict.           \n"
     ]
    },
    {
     "data": {
      "application/vnd.jupyter.widget-view+json": {
       "model_id": "c7cc852220834716b72cf830766137eb",
       "version_major": 2,
       "version_minor": 0
      },
      "text/plain": [
       "Loading line from dict:   0%|          | 0/105797 [00:00<?, ?it/s]"
      ]
     },
     "metadata": {},
     "output_type": "display_data"
    },
    {
     "name": "stdout",
     "output_type": "stream",
     "text": [
      "Done loading line from dict.           \n",
      "Computing twiss for beam 1...                                                                            \r"
     ]
    }
   ],
   "source": [
    "tool = InteractiveTool()\n",
    "tool.show()"
   ]
  },
  {
   "cell_type": "code",
   "execution_count": 69,
   "id": "1517f71a",
   "metadata": {},
   "outputs": [
    {
     "name": "stderr",
     "output_type": "stream",
     "text": [
      "/tmp/ipykernel_2487/3405699162.py:7: SettingWithCopyWarning:\n",
      "\n",
      "\n",
      "A value is trying to be set on a copy of a slice from a DataFrame.\n",
      "Try using .loc[row_indexer,col_indexer] = value instead\n",
      "\n",
      "See the caveats in the documentation: https://pandas.pydata.org/pandas-docs/stable/user_guide/indexing.html#returning-a-view-versus-a-copy\n",
      "\n"
     ]
    }
   ],
   "source": [
    "import pandas as pd\n",
    "import numpy as np\n",
    "import tfs\n",
    "df_no_nans = tool.aperture_data.aper_b1.dropna()\n",
    "df_b1 = tfs.read('/eos/project-i02/c/collimation-team/machine_configurations/LHC_run3/2023/MADX/injection/aperture/ap_ir5b1.tfs')\n",
    "df_b1['NAME']=df_b1['NAME'].str.lower()\n",
    "df_no_nans['NAME']=df_no_nans['NAME'].str.lower()"
   ]
  },
  {
   "cell_type": "code",
   "execution_count": 70,
   "id": "7cfda71b",
   "metadata": {},
   "outputs": [],
   "source": [
    "merged = pd.merge(df_no_nans, df_b1, on='NAME')\n",
    "merged['N1x_custom'] = (merged['APER_1_x']-merged['RTOL']-merged['XTOL']-0.002)/(np.sqrt(1.2*merged['BETX']*tool.aperture_data.epsilon+(merged['DX']**2)*(0.00086**2)))\n",
    "merged['N1y_custom'] = (merged['APER_2_x']-merged['RTOL']-merged['YTOL']-0.002)/(np.sqrt(1.2*merged['BETY']*tool.aperture_data.epsilon+(merged['DY']**2)*(0.00086**2)))"
   ]
  },
  {
   "cell_type": "code",
   "execution_count": null,
   "id": "04f8d482",
   "metadata": {},
   "outputs": [],
   "source": [
    "merged[['NAME', 'N1', 'N1x_custom', 'N1y_custom']].iloc[10:]"
   ]
  }
 ],
 "metadata": {
  "@webio": {
   "lastCommId": null,
   "lastKernelId": null
  },
  "kernelspec": {
   "display_name": "Python 3",
   "language": "python",
   "name": "python3"
  },
  "language_info": {
   "codemirror_mode": {
    "name": "ipython",
    "version": 3
   },
   "file_extension": ".py",
   "mimetype": "text/x-python",
   "name": "python",
   "nbconvert_exporter": "python",
   "pygments_lexer": "ipython3",
   "version": "3.9.12"
  },
  "sparkconnect": {
   "bundled_options": [
    "NXCALS",
    "SparkMetrics"
   ],
   "list_of_options": []
  }
 },
 "nbformat": 4,
 "nbformat_minor": 5
}
