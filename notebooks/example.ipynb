{
 "cells": [
  {
   "cell_type": "code",
   "execution_count": 1,
   "id": "4f0d71a7",
   "metadata": {},
   "outputs": [],
   "source": [
    "from pathlib import Path\n",
    "import sys\n",
    "\n",
    "home_path = str(Path.cwd().parent)\n",
    "sys.path.append(home_path)\n",
    "\n",
    "sys.path.append('/eos/home-i03/m/morwat/.local/lib/python3.9/site-packages/')"
   ]
  },
  {
   "cell_type": "code",
   "execution_count": 2,
   "id": "adddff48",
   "metadata": {},
   "outputs": [],
   "source": [
    "from aper_package.interactive_tool import InteractiveTool"
   ]
  },
  {
   "cell_type": "code",
   "execution_count": 3,
   "id": "a0a28f91",
   "metadata": {
    "scrolled": false
   },
   "outputs": [
    {
     "data": {
      "application/vnd.jupyter.widget-view+json": {
       "model_id": "a754b28b413b4988a3d701ece3646a3a",
       "version_major": 2,
       "version_minor": 0
      },
      "text/plain": [
       "VBox(children=(Tab(children=(VBox(children=(HTML(value='<h4>Select and load files</h4>'), HBox(children=(HBox(…"
      ]
     },
     "metadata": {},
     "output_type": "display_data"
    },
    {
     "name": "stdout",
     "output_type": "stream",
     "text": [
      "Loading new JSON data...                                                                            \r"
     ]
    },
    {
     "data": {
      "application/vnd.jupyter.widget-view+json": {
       "model_id": "a18186fa4e8d471eabf042db1e0d62a4",
       "version_major": 2,
       "version_minor": 0
      },
      "text/plain": [
       "Loading line from dict:   0%|          | 0/102050 [00:00<?, ?it/s]"
      ]
     },
     "metadata": {},
     "output_type": "display_data"
    },
    {
     "name": "stdout",
     "output_type": "stream",
     "text": [
      "Done loading line from dict.           \n"
     ]
    },
    {
     "data": {
      "application/vnd.jupyter.widget-view+json": {
       "model_id": "a5ce57453e474b2fbe100d013accc0d6",
       "version_major": 2,
       "version_minor": 0
      },
      "text/plain": [
       "Loading line from dict:   0%|          | 0/102122 [00:00<?, ?it/s]"
      ]
     },
     "metadata": {},
     "output_type": "display_data"
    },
    {
     "name": "stdout",
     "output_type": "stream",
     "text": [
      "Done loading line from dict.           \n",
      "Compiling ContextCpu kernels...                                                                          \n",
      "Done compiling ContextCpu kernels.\n",
      "Compiling ContextCpu kernels...                                                                          \n",
      "Done compiling ContextCpu kernels.\n",
      "Generating the cross-section...                                                                            \r"
     ]
    }
   ],
   "source": [
    "tool = InteractiveTool(initial_path=home_path+'/test_data')\n",
    "tool.show()"
   ]
  },
  {
   "cell_type": "code",
   "execution_count": 6,
   "id": "0406cfe7",
   "metadata": {},
   "outputs": [
    {
     "data": {
      "application/vnd.jupyter.widget-view+json": {
       "model_id": "4bb68959d45c49b9bd92a75874d0c74a",
       "version_major": 2,
       "version_minor": 0
      },
      "text/plain": [
       "VBox(children=(Button(description='check', icon='check', layout=Layout(width='200px'), style=ButtonStyle()), B…"
      ]
     },
     "metadata": {},
     "output_type": "display_data"
    }
   ],
   "source": [
    "import ipywidgets as widgets\n",
    "from IPython.display import display, HTML\n",
    "\n",
    "# List of some common FontAwesome icons\n",
    "fontawesome_icons = [\n",
    "    'check', 'times', 'plus', 'minus', 'trash', 'edit', 'download', \n",
    "    'upload', 'cog', 'search', 'star', 'heart', 'bell', 'camera', \n",
    "    'map', 'lock', 'unlock', 'play', 'pause', 'stop', 'power-off', \n",
    "    'flag', 'calendar', 'thumbs-up', 'thumbs-down', 'user', \n",
    "    'folder', 'comments', 'clipboard', 'spinner', 'file', \n",
    "    'bar-chart', 'line-chart', 'check-circle', 'exclamation-circle'\n",
    "]\n",
    "\n",
    "# Create a vertical box layout to display icons\n",
    "icon_boxes = []\n",
    "\n",
    "# Create a button for each icon and add it to the layout\n",
    "for icon in fontawesome_icons:\n",
    "    button = widgets.Button(description=icon, icon=icon, layout=widgets.Layout(width='200px'))\n",
    "    icon_boxes.append(button)\n",
    "\n",
    "# Display all the buttons in a vertical layout\n",
    "icon_box_layout = widgets.VBox(icon_boxes)\n",
    "display(icon_box_layout)\n"
   ]
  },
  {
   "cell_type": "code",
   "execution_count": null,
   "id": "37f430f4",
   "metadata": {},
   "outputs": [],
   "source": [
    "#### orbit bump matching template ...\n",
    "\n",
    "b1opt = lhcb1.match(solve=False,\n",
    "                default_tol={None: 5e-8},\n",
    "                solver_options=dict(max_rel_penalty_increase=2.),\n",
    "                init=tw_b1,  ### twiss file where matching will take initial parameters from\n",
    "                start=('mcbv.11l1.b1'), ### start element for matching, use one upstream of the first corrector\n",
    "                end=('ip1.l1'), ### end element for matching, use one downstream of last corrector\n",
    "                targets=[\n",
    "                    xt.TargetSet(['y','py'],value=tw_b1,at=xt.END),\n",
    "                    xt.Target('y',-15e-3,at='mqml.9l1.b1')  ### element where you want to have the bump\n",
    "                ],\n",
    "                vary = (xt.VaryList(['acbcv7.l1b1','acbcv9.l1b1','acbv11.l1b1'])) ### three correctors around the bump, usually there is a corrector at every quadrupole\n",
    ")"
   ]
  }
 ],
 "metadata": {
  "@webio": {
   "lastCommId": null,
   "lastKernelId": null
  },
  "kernelspec": {
   "display_name": "Python 3",
   "language": "python",
   "name": "python3"
  },
  "language_info": {
   "codemirror_mode": {
    "name": "ipython",
    "version": 3
   },
   "file_extension": ".py",
   "mimetype": "text/x-python",
   "name": "python",
   "nbconvert_exporter": "python",
   "pygments_lexer": "ipython3",
   "version": "3.9.12"
  },
  "sparkconnect": {
   "bundled_options": [
    "NXCALS",
    "SparkMetrics"
   ],
   "list_of_options": []
  }
 },
 "nbformat": 4,
 "nbformat_minor": 5
}
