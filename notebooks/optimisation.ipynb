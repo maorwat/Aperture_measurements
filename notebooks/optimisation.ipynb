{
 "cells": [
  {
   "cell_type": "code",
   "execution_count": 1,
   "id": "0a63e0cb",
   "metadata": {},
   "outputs": [],
   "source": [
    "from pathlib import Path\n",
    "import sys\n",
    "\n",
    "sys.path.append('/eos/home-i03/m/morwat/.local/lib/python3.9/site-packages/')\n",
    "home_path = str(Path.cwd().parent)\n",
    "sys.path.append(home_path)"
   ]
  },
  {
   "cell_type": "code",
   "execution_count": 2,
   "id": "9a2aeb4a",
   "metadata": {},
   "outputs": [],
   "source": [
    "from aper_package.timber_data import BPMData\n",
    "from aper_package.aperture_data import ApertureData"
   ]
  },
  {
   "cell_type": "code",
   "execution_count": 1,
   "id": "f9e755d4",
   "metadata": {},
   "outputs": [
    {
     "data": {
      "application/vnd.jupyter.widget-view+json": {
       "model_id": "3f007080cfed4383838971813b364cb1",
       "version_major": 2,
       "version_minor": 0
      },
      "text/plain": [
       "IntRangeSlider(value=(10, 30), continuous_update=False, description='Range:', max=50, style=SliderStyle(handle…"
      ]
     },
     "metadata": {},
     "output_type": "display_data"
    }
   ],
   "source": [
    "import ipywidgets as widgets\n",
    "from IPython.display import display\n",
    "\n",
    "# Create an IntRangeSlider with custom handle and range (bar) color\n",
    "range_slider = widgets.IntRangeSlider(\n",
    "    value=[10, 30],\n",
    "    min=0,\n",
    "    max=50,\n",
    "    step=1,\n",
    "    description='Range:',\n",
    "    style={'handle_color': 'lightgreen', 'bar_color': 'lightcoral'},  # Customize colors\n",
    "    continuous_update=False\n",
    ")\n",
    "\n",
    "# Display the slider\n",
    "display(range_slider)\n"
   ]
  },
  {
   "cell_type": "code",
   "execution_count": 3,
   "id": "f57a6a36",
   "metadata": {},
   "outputs": [],
   "source": [
    "from datetime import datetime\n",
    "import numpy as np\n",
    "import matplotlib.pyplot as plt\n",
    "import pandas as pd\n",
    "import copy\n",
    "\n",
    "import plotly.graph_objects as go\n",
    "from scipy.optimize import least_squares"
   ]
  },
  {
   "cell_type": "code",
   "execution_count": 4,
   "id": "cbe2c3fc",
   "metadata": {
    "scrolled": false
   },
   "outputs": [
    {
     "data": {
      "application/vnd.jupyter.widget-view+json": {
       "model_id": "221ef242f70b4764b4f83eb0b9df8444",
       "version_major": 2,
       "version_minor": 0
      },
      "text/plain": [
       "Loading line from dict:   0%|          | 0/102050 [00:00<?, ?it/s]"
      ]
     },
     "metadata": {},
     "output_type": "display_data"
    },
    {
     "name": "stdout",
     "output_type": "stream",
     "text": [
      "Done loading line from dict.           \n"
     ]
    },
    {
     "data": {
      "application/vnd.jupyter.widget-view+json": {
       "model_id": "1cd234221e65418ea46e474da442945c",
       "version_major": 2,
       "version_minor": 0
      },
      "text/plain": [
       "Loading line from dict:   0%|          | 0/102122 [00:00<?, ?it/s]"
      ]
     },
     "metadata": {},
     "output_type": "display_data"
    },
    {
     "name": "stdout",
     "output_type": "stream",
     "text": [
      "Done loading line from dict.           \n",
      "Compiling ContextCpu kernels...                                                                          \n",
      "Done compiling ContextCpu kernels.\n",
      "Compiling ContextCpu kernels...                                                                          \n",
      "Done compiling ContextCpu kernels.\n",
      "Done computing twiss.                                                                            \r"
     ]
    }
   ],
   "source": [
    "aper_data = ApertureData(home_path+'/test_data/Martas_injection_b1.json')"
   ]
  },
  {
   "cell_type": "code",
   "execution_count": 5,
   "id": "d6302eff",
   "metadata": {},
   "outputs": [],
   "source": [
    "aper_data.cycle('ip7')"
   ]
  },
  {
   "cell_type": "code",
   "execution_count": 26,
   "id": "ccf9ca62",
   "metadata": {},
   "outputs": [],
   "source": [
    "import copy\n",
    "new_aper = copy.deepcopy(aper_data)"
   ]
  },
  {
   "cell_type": "code",
   "execution_count": 6,
   "id": "f6c20eee",
   "metadata": {},
   "outputs": [],
   "source": [
    "# Define the time and initial guess for the angle\n",
    "time = datetime(2021, 10, 29, 9, 17, 43)\n",
    "init_angle = 147.1"
   ]
  },
  {
   "cell_type": "code",
   "execution_count": 7,
   "id": "8303546d",
   "metadata": {},
   "outputs": [
    {
     "name": "stdout",
     "output_type": "stream",
     "text": [
      "Done loading BPM data.                                                                            \r"
     ]
    }
   ],
   "source": [
    "# Load BPM data for the given time\n",
    "bpm_data = BPMData(spark)\n",
    "bpm_data.load_data(time)"
   ]
  },
  {
   "cell_type": "code",
   "execution_count": 20,
   "id": "aba99024",
   "metadata": {},
   "outputs": [
    {
     "name": "stdout",
     "output_type": "stream",
     "text": [
      "Done computing twiss.                                                                                    \r"
     ]
    },
    {
     "data": {
      "text/plain": [
       "(array([144.22278715]), array([9.76325786]))"
      ]
     },
     "execution_count": 20,
     "metadata": {},
     "output_type": "execute_result"
    }
   ],
   "source": [
    "bpm_data.least_squares_fit(aper_data, init_angle, 'on_x1', 'vertical', angle_range=range_slider.value)"
   ]
  },
  {
   "cell_type": "code",
   "execution_count": 23,
   "id": "b087531c",
   "metadata": {},
   "outputs": [
    {
     "data": {
      "application/vnd.jupyter.widget-view+json": {
       "model_id": "bd53c5176b814ebf827ce677cd9304b6",
       "version_major": 2,
       "version_minor": 0
      },
      "text/plain": [
       "VBox(children=(IntRangeSlider(value=(10, 30), continuous_update=False, description='Select range:', max=50), B…"
      ]
     },
     "metadata": {},
     "output_type": "display_data"
    }
   ],
   "source": [
    "import ipywidgets as widgets\n",
    "from IPython.display import display\n",
    "\n",
    "# Create an IntRangeSlider widget\n",
    "range_slider = widgets.IntRangeSlider(\n",
    "    value=[10, 30],\n",
    "    min=0,\n",
    "    max=50,\n",
    "    step=1,\n",
    "    description='Select range:',\n",
    "    continuous_update=False\n",
    ")\n",
    "\n",
    "# Create a Button widget\n",
    "update_button = widgets.Button(\n",
    "    description='Update',\n",
    "    button_style='success'  # 'success', 'info', 'warning', 'danger' or ''\n",
    ")\n",
    "\n",
    "# Create an Output widget\n",
    "result_output = widgets.Output()\n",
    "\n",
    "# Define the function to run when the button is clicked\n",
    "def on_button_click(b):\n",
    "    with result_output:\n",
    "        result_output.clear_output()  # Clear previous output\n",
    "        selected_range = range_slider.value\n",
    "        print(f\"Selected range is: {selected_range}\")\n",
    "\n",
    "# Attach the button click event to the function\n",
    "update_button.on_click(on_button_click)\n",
    "\n",
    "# Arrange the widgets in a VBox (vertical box)\n",
    "vbox = widgets.VBox([range_slider, update_button, result_output])\n",
    "\n",
    "# Display the VBox\n",
    "display(vbox)\n"
   ]
  },
  {
   "cell_type": "code",
   "execution_count": 19,
   "id": "e2cd8cff",
   "metadata": {},
   "outputs": [
    {
     "data": {
      "application/vnd.jupyter.widget-view+json": {
       "model_id": "8b293c7b62494529a592a6d9634e5f79",
       "version_major": 2,
       "version_minor": 0
      },
      "text/plain": [
       "IntRangeSlider(value=(10, 30), continuous_update=False, description='Range:', max=500)"
      ]
     },
     "metadata": {},
     "output_type": "display_data"
    },
    {
     "name": "stdout",
     "output_type": "stream",
     "text": [
      "Initially selected range: (10, 30)\n",
      "Selected range: (10, 469)\n"
     ]
    }
   ],
   "source": [
    "import ipywidgets as widgets\n",
    "from IPython.display import display\n",
    "\n",
    "# Create an IntRangeSlider widget\n",
    "range_slider = widgets.IntRangeSlider(\n",
    "    value=[10, 30],\n",
    "    min=0,\n",
    "    max=500,\n",
    "    step=1,\n",
    "    description='Range:',\n",
    "    continuous_update=False\n",
    ")\n",
    "\n",
    "# Function to display the current slider values\n",
    "def on_value_change(change):\n",
    "    print(f\"Selected range: {range_slider.value}\")\n",
    "\n",
    "# Attach the function to the slider value change\n",
    "range_slider.observe(on_value_change, names='value')\n",
    "\n",
    "# Display the slider\n",
    "display(range_slider)\n",
    "\n",
    "# Access the selected range values at any point\n",
    "selected_range = range_slider.value\n",
    "print(f\"Initially selected range: {selected_range}\")\n"
   ]
  },
  {
   "cell_type": "code",
   "execution_count": 16,
   "id": "5aa5bf9e",
   "metadata": {},
   "outputs": [
    {
     "data": {
      "application/vnd.jupyter.widget-view+json": {
       "model_id": "eb902da5ffee40bbb647ffded0208386",
       "version_major": 2,
       "version_minor": 0
      },
      "text/plain": [
       "HBox(children=(IntSlider(value=10, description='X:'), IntSlider(value=5, description='Y:'), Output()))"
      ]
     },
     "metadata": {},
     "output_type": "display_data"
    }
   ],
   "source": [
    "import ipywidgets as widgets\n",
    "from IPython.display import display\n",
    "\n",
    "# Create widgets for input\n",
    "x_slider = widgets.IntSlider(value=10, min=0, max=100, description='X:')\n",
    "y_slider = widgets.IntSlider(value=5, min=0, max=100, description='Y:')\n",
    "\n",
    "# Create an Output widget specifically for the result\n",
    "result_output = widgets.Output()\n",
    "\n",
    "# Define a function to update the result_output widget\n",
    "def calculate_sum(x, y):\n",
    "    result_output.clear_output()  # Clear previous output in this specific box\n",
    "    with result_output:\n",
    "        result = x + y\n",
    "        print(f\"The sum of {x} and {y} is: {result}\")\n",
    "\n",
    "# Link the sliders to the calculation function\n",
    "widgets.interactive(calculate_sum, x=x_slider, y=y_slider)\n",
    "\n",
    "# Arrange the sliders and output box horizontally in an HBox\n",
    "hbox = widgets.HBox([x_slider, y_slider, result_output])\n",
    "\n",
    "# Display the HBox\n",
    "display(hbox)\n"
   ]
  },
  {
   "cell_type": "code",
   "execution_count": 11,
   "id": "9e6006d3",
   "metadata": {},
   "outputs": [
    {
     "data": {
      "application/vnd.jupyter.widget-view+json": {
       "model_id": "ca5d8f89ce474865a466d728d64e504a",
       "version_major": 2,
       "version_minor": 0
      },
      "text/plain": [
       "FloatRangeSlider(value=(0.2, 0.8), continuous_update=False, description='Range:', max=1.0, step=0.01)"
      ]
     },
     "metadata": {},
     "output_type": "display_data"
    }
   ],
   "source": [
    "import ipywidgets as widgets\n",
    "from IPython.display import display\n",
    "\n",
    "float_range_slider = widgets.FloatRangeSlider(\n",
    "    value=[0.2, 0.8],\n",
    "    min=0.0,\n",
    "    max=1.0,\n",
    "    step=0.01,\n",
    "    description='Range:',\n",
    "    continuous_update=False\n",
    ")\n",
    "\n",
    "display(float_range_slider)\n"
   ]
  },
  {
   "cell_type": "code",
   "execution_count": 10,
   "id": "38e68978",
   "metadata": {},
   "outputs": [
    {
     "data": {
      "text/plain": [
       "['button_x', 'slider_on_x', 'dropdown_on_x']"
      ]
     },
     "execution_count": 10,
     "metadata": {},
     "output_type": "execute_result"
    }
   ],
   "source": [
    "filtered_names"
   ]
  },
  {
   "cell_type": "code",
   "execution_count": 53,
   "id": "385fa599",
   "metadata": {},
   "outputs": [],
   "source": [
    "# Create traces for each data set\n",
    "def plot(best_b1, best_b2, sim_b1, sim_b2):\n",
    "    trace_measured = go.Scatter(\n",
    "        x=best_b1['s'], \n",
    "        y=best_b1['y'], \n",
    "        text=best_b1['name'],\n",
    "        mode='markers',\n",
    "        name='Measured Data',\n",
    "        showlegend=True,\n",
    "        marker=dict(color='blue')\n",
    "    )\n",
    "\n",
    "    trace_best_fit = go.Scatter(\n",
    "        x=best_b1['s'], \n",
    "        y=best_b1['y_simulated'], \n",
    "        mode='lines',\n",
    "        name='Best Fit Simulation',\n",
    "        showlegend=True,\n",
    "        line=dict(color='red')\n",
    "    )\n",
    "\n",
    "    trace = go.Scatter(\n",
    "        x=sim_b1['s'], \n",
    "        y=sim_b1['y_simulated'], \n",
    "        mode='lines',\n",
    "        name='Input angle',\n",
    "        showlegend=True,\n",
    "        line=dict(color='green')\n",
    "    )\n",
    "\n",
    "    trace_measured2 = go.Scatter(\n",
    "        x=best_b2['s'], \n",
    "        y=best_b2['y'], \n",
    "        text=best_b2['name'],\n",
    "        mode='markers',\n",
    "        name='Measured Data',\n",
    "        showlegend=False,\n",
    "        marker=dict(color='blue')\n",
    "    )\n",
    "\n",
    "    trace_best_fit2 = go.Scatter(\n",
    "        x=best_b2['s'], \n",
    "        y=best_b2['y_simulated'], \n",
    "        mode='lines',\n",
    "        name='Best Fit Simulation',\n",
    "        showlegend=False,\n",
    "        line=dict(color='red')\n",
    "    )\n",
    "\n",
    "    trace2 = go.Scatter(\n",
    "        x=sim_b2['s'], \n",
    "        y=sim_b2['y_simulated'], \n",
    "        mode='lines',\n",
    "        name='Input angle',\n",
    "        showlegend=False,\n",
    "        line=dict(color='green')\n",
    "    )\n",
    "\n",
    "    # Create the layout\n",
    "    layout = go.Layout(\n",
    "        title='Comparison between Measured Data and Best-Fit Simulation',\n",
    "        xaxis_title='X',\n",
    "        yaxis_title='Y',\n",
    "        legend=dict(x=0, y=1),\n",
    "        grid=dict(rows=1, columns=1)\n",
    "    )\n",
    "\n",
    "    # Create the figure and add traces\n",
    "    fig = go.Figure(data=[trace_measured, trace_best_fit, trace, trace_measured2, trace_best_fit2, trace2], layout=layout)\n",
    "\n",
    "    # Show the plot\n",
    "    fig.show()"
   ]
  },
  {
   "cell_type": "code",
   "execution_count": null,
   "id": "f1c2d799",
   "metadata": {},
   "outputs": [],
   "source": [
    "from scipy.optimize import least_squares\n",
    "\n",
    "def merge_twiss_and_bpm(twiss_data, bpm_data, s_range):\n",
    "    \n",
    "    # Rename the columns to differentiate between simulated and measured data\n",
    "    simulated_data = twiss_data[['name', 's', 'x', 'y']].rename(columns={'x': 'x_simulated', 'y': 'y_simulated'})\n",
    "    \n",
    "    # Merge the measured and simulated data into one dataframe\n",
    "    merged = pd.merge(bpm_data.data, simulated_data, on='name').sort_values(by='s').reset_index(drop=True)\n",
    "    \n",
    "    # If range was specified, use it\n",
    "    if s_range: merged = merged[(merged['s'] >= s_range[0]) & (merged['s'] <= s_range[1])]\n",
    "    \n",
    "    return merged\n",
    "\n",
    "def simulate(angle, bpm_data, aper_data, knob, s_range):\n",
    "    \n",
    "    # Vary the crossing angle\n",
    "    aper_data.change_knob(knob, angle)\n",
    "    aper_data.twiss()\n",
    "    \n",
    "    # Merge new simulated data with the measured data\n",
    "    merged_b1 = merge_twiss_and_bpm(aper_data.tw_b1, bpm_data, s_range)\n",
    "    merged_b2 = merge_twiss_and_bpm(aper_data.tw_b2, bpm_data, s_range)\n",
    "    \n",
    "    # Perform the fitting on both beams simultanously\n",
    "    return pd.concat([merged_b1, merged_b2], ignore_index=True)\n",
    "\n",
    "def objective(angle, bpm_data, aper_data, knob, s_range, plane):\n",
    "    \n",
    "    df = simulate(angle, bpm_data, aper_data, knob, s_range)\n",
    "\n",
    "    # Calculate the residuals for the plane of interest\n",
    "    if plane == 'horizontal': residuals = df['x'] - df['x_simulated']\n",
    "    elif plane == 'vertical': residuals =  df['y'] - df['y_simulated']\n",
    "        \n",
    "    return residuals"
   ]
  },
  {
   "cell_type": "code",
   "execution_count": 58,
   "id": "7812cc9e",
   "metadata": {},
   "outputs": [],
   "source": [
    "def optimize_and_plot(time, init_angle, ip, aper_data, angle_range=(40, 300), angle_grid=40):\n",
    "    # Load BPM data for the given time\n",
    "    bpm_data = BPMData(spark)\n",
    "    bpm_data.load_data(time)\n",
    "    bpm_data.data = bpm_data.data[~bpm_data.data['name'].str.contains('bpmwf')] # remove the outliers around ip1 and ip5\n",
    "\n",
    "    # Perform least squares optimization\n",
    "    result = least_squares(objective, x0=[init_angle], bounds=angle_range, args=(bpm_data, aper_data, ip))\n",
    "    \n",
    "     # Extract the optimized parameter, Jacobian, and residuals\n",
    "    params = result.x\n",
    "    jacobian = result.jac\n",
    "    residuals = objective(params, bpm_data, aper_data, ip)\n",
    "    \n",
    "    # Compute statistics\n",
    "    n = len(residuals)\n",
    "    p = len(params)\n",
    "    sigma_squared = np.sum(residuals**2) / (n - p)\n",
    "    covariance = np.linalg.inv(jacobian.T @ jacobian) * sigma_squared\n",
    "    param_uncertainty = np.sqrt(np.diag(covariance))\n",
    "    \n",
    "    results = []\n",
    "    # Store the results\n",
    "    results.append({\n",
    "        'initial_angle': init_angle,\n",
    "        'best_fit_angle': params[0],\n",
    "        'uncertainty': param_uncertainty[0],\n",
    "        'sum_squared_residuals': np.sum(residuals**2)\n",
    "    })\n",
    "    \n",
    "    # Simulate for the best-fit angle and input angle\n",
    "    best_b1, best_b2 = simulate(params[0], bpm_data, aper_data, ip)\n",
    "    sim_b1, sim_b2 = simulate(init_angle, bpm_data, aper_data, ip)\n",
    "\n",
    "    # Plot the comparison between measured data and simulations\n",
    "    plot(best_b1, best_b2, sim_b1, sim_b2)\n",
    "\n",
    "    return result, results"
   ]
  },
  {
   "cell_type": "code",
   "execution_count": 59,
   "id": "28b11ca8",
   "metadata": {},
   "outputs": [
    {
     "name": "stdout",
     "output_type": "stream",
     "text": [
      "6664.720799097875iss.                                                                                    \n",
      "6664.720799097875\n",
      "6664.720799097875iss.                                                                                    \n",
      "6664.720799097875\n",
      "6664.720799097875iss.                                                                                    \n",
      "6664.720799097875\n",
      "6664.720799097875iss.                                                                                    \n",
      "6664.720799097875\n",
      "6664.720799097875iss.                                                                                    \n",
      "6664.720799097875\n",
      "6664.720799097875iss.                                                                                    \n",
      "6664.720799097875\n",
      "6664.720799097875iss.                                                                                    \n",
      "6664.720799097875\n",
      "6664.720799097875iss.                                                                                    \n",
      "6664.720799097875\n",
      "6664.720799097875iss.                                                                                    \n",
      "6664.720799097875\n"
     ]
    },
    {
     "data": {
      "application/vnd.plotly.v1+json": {
       "config": {
        "plotlyServerURL": "https://plot.ly"
       },
       "data": [
        {
         "marker": {
          "color": "blue"
         },
         "mode": "markers",
         "name": "Measured Data",
         "showlegend": true,
         "text": [
          "bpmr.7l1.b1",
          "bpm.6l1.b1",
          "bpmr.5l1.b1",
          "bpmya.4l1.b1",
          "bpmwb.4l1.b1",
          "bpmsy.4l1.b1",
          "bpms.2l1.b1",
          "bpmsw.1l1.b1",
          "bpmsw.1r1.b1",
          "bpms.2r1.b1",
          "bpmsy.4r1.b1",
          "bpmwb.4r1.b1",
          "bpmya.4r1.b1",
          "bpm.5r1.b1",
          "bpmr.6r1.b1",
          "bpmsx.7r1.b1",
          "bpm_a.7r1.b1"
         ],
         "type": "scatter",
         "x": [
          6396.291796744015,
          6439.475796744016,
          6471.375796744014,
          6492.493796744016,
          6513.626296744016,
          6606.346295971012,
          6633.191795971015,
          6643.1417959710125,
          6686.2847990978735,
          6696.249799097874,
          6722.975299097874,
          6815.815299097874,
          6836.947799097874,
          6864.355799097873,
          6896.255799097875,
          6902.471299097873,
          6923.979799097873
         ],
         "y": [
          0.0002617757524544777,
          0.0005528816709771144,
          -0.0010554215547128635,
          -0.0006187188540672915,
          -0.0017530166901858274,
          -0.005666156375105821,
          -0.003150631341692056,
          -0.002732787032406387,
          0.00326944283664107,
          0.006131126312589264,
          0.005465492398793479,
          0.0019942678761888264,
          0.002750937918023985,
          9.153875522107401e-05,
          2.161746700959581e-05,
          0.0016286938791600985,
          -0.0007768938096068086
         ]
        },
        {
         "line": {
          "color": "red"
         },
         "mode": "lines",
         "name": "Best Fit Simulation",
         "showlegend": true,
         "type": "scatter",
         "x": [
          6396.291796744015,
          6439.475796744016,
          6471.375796744014,
          6492.493796744016,
          6513.626296744016,
          6606.346295971012,
          6633.191795971015,
          6643.1417959710125,
          6686.2847990978735,
          6696.249799097874,
          6722.975299097874,
          6815.815299097874,
          6836.947799097874,
          6864.355799097873,
          6896.255799097875,
          6902.471299097873,
          6923.979799097873
         ],
         "y": [
          -1.4836614747975194e-07,
          -1.3034745250790898e-07,
          -7.767916711123988e-05,
          -0.00032933077500400397,
          -0.001207485190508273,
          -0.006120841659889563,
          -0.00349753160144126,
          -0.003112265996967701,
          0.0031101309027235647,
          0.005654372249147751,
          0.004453327147184151,
          0.002231388942068361,
          0.0017462813586073512,
          0.0006246482720499054,
          9.578524367258884e-08,
          8.762700476780746e-08,
          5.939573109980162e-08
         ]
        },
        {
         "line": {
          "color": "green"
         },
         "mode": "lines",
         "name": "Input angle",
         "showlegend": true,
         "type": "scatter",
         "x": [
          6396.291796744015,
          6439.475796744016,
          6471.375796744014,
          6492.493796744016,
          6513.626296744016,
          6606.346295971012,
          6633.191795971015,
          6643.1417959710125,
          6686.2847990978735,
          6696.249799097874,
          6722.975299097874,
          6815.815299097874,
          6836.947799097874,
          6864.355799097873,
          6896.255799097875,
          6902.471299097873,
          6923.979799097873
         ],
         "y": [
          -1.5001459113901524e-07,
          -1.322847436712709e-07,
          -7.92260297633147e-05,
          -0.00033589085599532376,
          -0.0012315382513569883,
          -0.006242769138895563,
          -0.003567202678716654,
          -0.0031742626318043005,
          0.0031720846079690813,
          0.0057670072737834015,
          0.004542037506131176,
          0.0022758391738906085,
          0.0017810683660815204,
          0.0006370920163941425,
          9.851582997148186e-08,
          9.006156170885906e-08,
          6.080588977150526e-08
         ]
        },
        {
         "marker": {
          "color": "blue"
         },
         "mode": "markers",
         "name": "Measured Data",
         "showlegend": false,
         "text": [
          "bpm.7l1.b2",
          "bpmsx.7l1.b2",
          "bpmr.6l1.b2",
          "bpm.5l1.b2",
          "bpmya.4l1.b2",
          "bpmwb.4l1.b2",
          "bpmsy.4l1.b2",
          "bpms.2l1.b2",
          "bpmsw.1l1.b2",
          "bpmsw.1r1.b2",
          "bpms.2r1.b2",
          "bpmsy.4r1.b2",
          "bpmwb.4r1.b2",
          "bpmya.4r1.b2",
          "bpmr.5r1.b2",
          "bpm.6r1.b2",
          "bpmra.7r1.b2"
         ],
         "type": "scatter",
         "x": [
          6396.291787868748,
          6426.970287868749,
          6439.475787868749,
          6471.375787868747,
          6492.493787868749,
          6513.550287868748,
          6606.466287868749,
          6633.191787868749,
          6643.141787868746,
          6686.2847990978735,
          6696.249799097874,
          6723.095299097877,
          6815.891297475875,
          6836.947797475874,
          6864.355797475873,
          6896.255797475875,
          6923.979797475877
         ],
         "y": [
          0.0002825700343716109,
          0.0003265934357645676,
          0.0005060483075528806,
          0.0005427408596618754,
          0.0018391311465112794,
          0.0029781463369994193,
          0.004514797023854941,
          0.005851981099625662,
          0.0032292978402396265,
          -0.0022665832566424295,
          -0.0028291954892605007,
          -0.005750606428869242,
          -0.0010572880162527107,
          0.0002056970444344521,
          -0.0004902587180453573,
          -0.0022618481048441784,
          9.344504051298802e-05
         ]
        },
        {
         "line": {
          "color": "red"
         },
         "mode": "lines",
         "name": "Best Fit Simulation",
         "showlegend": false,
         "type": "scatter",
         "x": [
          6396.291787868748,
          6426.970287868749,
          6439.475787868749,
          6471.375787868747,
          6492.493787868749,
          6513.550287868748,
          6606.466287868749,
          6633.191787868749,
          6643.141787868746,
          6686.2847990978735,
          6696.249799097874,
          6723.095299097877,
          6815.891297475875,
          6836.947797475874,
          6864.355797475873,
          6896.255797475875,
          6923.979797475877
         ],
         "y": [
          3.5685466571261606e-08,
          1.0280398223527239e-07,
          0.00014030871048112517,
          0.0008895194308947062,
          0.0017486874428221649,
          0.00222965229762343,
          0.004453427844382214,
          0.005654496864170826,
          0.0031123699337353545,
          -0.003110131564681188,
          -0.003497574803762513,
          -0.0061209518387307735,
          -0.0012035763761350043,
          -0.00031389122131894625,
          -3.4512607601029386e-07,
          -2.4073939399911167e-07,
          -2.939505824116368e-07
         ]
        },
        {
         "line": {
          "color": "green"
         },
         "mode": "lines",
         "name": "Input angle",
         "showlegend": false,
         "type": "scatter",
         "x": [
          6396.291787868748,
          6426.970287868749,
          6439.475787868749,
          6471.375787868747,
          6492.493787868749,
          6513.550287868748,
          6606.466287868749,
          6633.191787868749,
          6643.141787868746,
          6686.2847990978735,
          6696.249799097874,
          6723.095299097877,
          6815.891297475875,
          6836.947797475874,
          6864.355797475873,
          6896.255797475875,
          6923.979797475877
         ],
         "y": [
          3.7591376799249783e-08,
          1.0647604075174945e-07,
          0.00014310535667708623,
          0.0009072395083272067,
          0.0017835220033249103,
          0.002274067281154482,
          0.004542138438052515,
          0.005767131993018922,
          0.0031743668061840783,
          -0.003172085154365931,
          -0.003567245960685046,
          -0.006242879523225811,
          -0.0012275497442276926,
          -0.0003201418789540936,
          -3.489995727908317e-07,
          -2.432681135576377e-07,
          -2.9683609333271784e-07
         ]
        }
       ],
       "layout": {
        "grid": {
         "columns": 1,
         "rows": 1
        },
        "legend": {
         "x": 0,
         "y": 1
        },
        "template": {
         "data": {
          "bar": [
           {
            "error_x": {
             "color": "#2a3f5f"
            },
            "error_y": {
             "color": "#2a3f5f"
            },
            "marker": {
             "line": {
              "color": "#E5ECF6",
              "width": 0.5
             },
             "pattern": {
              "fillmode": "overlay",
              "size": 10,
              "solidity": 0.2
             }
            },
            "type": "bar"
           }
          ],
          "barpolar": [
           {
            "marker": {
             "line": {
              "color": "#E5ECF6",
              "width": 0.5
             },
             "pattern": {
              "fillmode": "overlay",
              "size": 10,
              "solidity": 0.2
             }
            },
            "type": "barpolar"
           }
          ],
          "carpet": [
           {
            "aaxis": {
             "endlinecolor": "#2a3f5f",
             "gridcolor": "white",
             "linecolor": "white",
             "minorgridcolor": "white",
             "startlinecolor": "#2a3f5f"
            },
            "baxis": {
             "endlinecolor": "#2a3f5f",
             "gridcolor": "white",
             "linecolor": "white",
             "minorgridcolor": "white",
             "startlinecolor": "#2a3f5f"
            },
            "type": "carpet"
           }
          ],
          "choropleth": [
           {
            "colorbar": {
             "outlinewidth": 0,
             "ticks": ""
            },
            "type": "choropleth"
           }
          ],
          "contour": [
           {
            "colorbar": {
             "outlinewidth": 0,
             "ticks": ""
            },
            "colorscale": [
             [
              0,
              "#0d0887"
             ],
             [
              0.1111111111111111,
              "#46039f"
             ],
             [
              0.2222222222222222,
              "#7201a8"
             ],
             [
              0.3333333333333333,
              "#9c179e"
             ],
             [
              0.4444444444444444,
              "#bd3786"
             ],
             [
              0.5555555555555556,
              "#d8576b"
             ],
             [
              0.6666666666666666,
              "#ed7953"
             ],
             [
              0.7777777777777778,
              "#fb9f3a"
             ],
             [
              0.8888888888888888,
              "#fdca26"
             ],
             [
              1,
              "#f0f921"
             ]
            ],
            "type": "contour"
           }
          ],
          "contourcarpet": [
           {
            "colorbar": {
             "outlinewidth": 0,
             "ticks": ""
            },
            "type": "contourcarpet"
           }
          ],
          "heatmap": [
           {
            "colorbar": {
             "outlinewidth": 0,
             "ticks": ""
            },
            "colorscale": [
             [
              0,
              "#0d0887"
             ],
             [
              0.1111111111111111,
              "#46039f"
             ],
             [
              0.2222222222222222,
              "#7201a8"
             ],
             [
              0.3333333333333333,
              "#9c179e"
             ],
             [
              0.4444444444444444,
              "#bd3786"
             ],
             [
              0.5555555555555556,
              "#d8576b"
             ],
             [
              0.6666666666666666,
              "#ed7953"
             ],
             [
              0.7777777777777778,
              "#fb9f3a"
             ],
             [
              0.8888888888888888,
              "#fdca26"
             ],
             [
              1,
              "#f0f921"
             ]
            ],
            "type": "heatmap"
           }
          ],
          "heatmapgl": [
           {
            "colorbar": {
             "outlinewidth": 0,
             "ticks": ""
            },
            "colorscale": [
             [
              0,
              "#0d0887"
             ],
             [
              0.1111111111111111,
              "#46039f"
             ],
             [
              0.2222222222222222,
              "#7201a8"
             ],
             [
              0.3333333333333333,
              "#9c179e"
             ],
             [
              0.4444444444444444,
              "#bd3786"
             ],
             [
              0.5555555555555556,
              "#d8576b"
             ],
             [
              0.6666666666666666,
              "#ed7953"
             ],
             [
              0.7777777777777778,
              "#fb9f3a"
             ],
             [
              0.8888888888888888,
              "#fdca26"
             ],
             [
              1,
              "#f0f921"
             ]
            ],
            "type": "heatmapgl"
           }
          ],
          "histogram": [
           {
            "marker": {
             "pattern": {
              "fillmode": "overlay",
              "size": 10,
              "solidity": 0.2
             }
            },
            "type": "histogram"
           }
          ],
          "histogram2d": [
           {
            "colorbar": {
             "outlinewidth": 0,
             "ticks": ""
            },
            "colorscale": [
             [
              0,
              "#0d0887"
             ],
             [
              0.1111111111111111,
              "#46039f"
             ],
             [
              0.2222222222222222,
              "#7201a8"
             ],
             [
              0.3333333333333333,
              "#9c179e"
             ],
             [
              0.4444444444444444,
              "#bd3786"
             ],
             [
              0.5555555555555556,
              "#d8576b"
             ],
             [
              0.6666666666666666,
              "#ed7953"
             ],
             [
              0.7777777777777778,
              "#fb9f3a"
             ],
             [
              0.8888888888888888,
              "#fdca26"
             ],
             [
              1,
              "#f0f921"
             ]
            ],
            "type": "histogram2d"
           }
          ],
          "histogram2dcontour": [
           {
            "colorbar": {
             "outlinewidth": 0,
             "ticks": ""
            },
            "colorscale": [
             [
              0,
              "#0d0887"
             ],
             [
              0.1111111111111111,
              "#46039f"
             ],
             [
              0.2222222222222222,
              "#7201a8"
             ],
             [
              0.3333333333333333,
              "#9c179e"
             ],
             [
              0.4444444444444444,
              "#bd3786"
             ],
             [
              0.5555555555555556,
              "#d8576b"
             ],
             [
              0.6666666666666666,
              "#ed7953"
             ],
             [
              0.7777777777777778,
              "#fb9f3a"
             ],
             [
              0.8888888888888888,
              "#fdca26"
             ],
             [
              1,
              "#f0f921"
             ]
            ],
            "type": "histogram2dcontour"
           }
          ],
          "mesh3d": [
           {
            "colorbar": {
             "outlinewidth": 0,
             "ticks": ""
            },
            "type": "mesh3d"
           }
          ],
          "parcoords": [
           {
            "line": {
             "colorbar": {
              "outlinewidth": 0,
              "ticks": ""
             }
            },
            "type": "parcoords"
           }
          ],
          "pie": [
           {
            "automargin": true,
            "type": "pie"
           }
          ],
          "scatter": [
           {
            "fillpattern": {
             "fillmode": "overlay",
             "size": 10,
             "solidity": 0.2
            },
            "type": "scatter"
           }
          ],
          "scatter3d": [
           {
            "line": {
             "colorbar": {
              "outlinewidth": 0,
              "ticks": ""
             }
            },
            "marker": {
             "colorbar": {
              "outlinewidth": 0,
              "ticks": ""
             }
            },
            "type": "scatter3d"
           }
          ],
          "scattercarpet": [
           {
            "marker": {
             "colorbar": {
              "outlinewidth": 0,
              "ticks": ""
             }
            },
            "type": "scattercarpet"
           }
          ],
          "scattergeo": [
           {
            "marker": {
             "colorbar": {
              "outlinewidth": 0,
              "ticks": ""
             }
            },
            "type": "scattergeo"
           }
          ],
          "scattergl": [
           {
            "marker": {
             "colorbar": {
              "outlinewidth": 0,
              "ticks": ""
             }
            },
            "type": "scattergl"
           }
          ],
          "scattermapbox": [
           {
            "marker": {
             "colorbar": {
              "outlinewidth": 0,
              "ticks": ""
             }
            },
            "type": "scattermapbox"
           }
          ],
          "scatterpolar": [
           {
            "marker": {
             "colorbar": {
              "outlinewidth": 0,
              "ticks": ""
             }
            },
            "type": "scatterpolar"
           }
          ],
          "scatterpolargl": [
           {
            "marker": {
             "colorbar": {
              "outlinewidth": 0,
              "ticks": ""
             }
            },
            "type": "scatterpolargl"
           }
          ],
          "scatterternary": [
           {
            "marker": {
             "colorbar": {
              "outlinewidth": 0,
              "ticks": ""
             }
            },
            "type": "scatterternary"
           }
          ],
          "surface": [
           {
            "colorbar": {
             "outlinewidth": 0,
             "ticks": ""
            },
            "colorscale": [
             [
              0,
              "#0d0887"
             ],
             [
              0.1111111111111111,
              "#46039f"
             ],
             [
              0.2222222222222222,
              "#7201a8"
             ],
             [
              0.3333333333333333,
              "#9c179e"
             ],
             [
              0.4444444444444444,
              "#bd3786"
             ],
             [
              0.5555555555555556,
              "#d8576b"
             ],
             [
              0.6666666666666666,
              "#ed7953"
             ],
             [
              0.7777777777777778,
              "#fb9f3a"
             ],
             [
              0.8888888888888888,
              "#fdca26"
             ],
             [
              1,
              "#f0f921"
             ]
            ],
            "type": "surface"
           }
          ],
          "table": [
           {
            "cells": {
             "fill": {
              "color": "#EBF0F8"
             },
             "line": {
              "color": "white"
             }
            },
            "header": {
             "fill": {
              "color": "#C8D4E3"
             },
             "line": {
              "color": "white"
             }
            },
            "type": "table"
           }
          ]
         },
         "layout": {
          "annotationdefaults": {
           "arrowcolor": "#2a3f5f",
           "arrowhead": 0,
           "arrowwidth": 1
          },
          "autotypenumbers": "strict",
          "coloraxis": {
           "colorbar": {
            "outlinewidth": 0,
            "ticks": ""
           }
          },
          "colorscale": {
           "diverging": [
            [
             0,
             "#8e0152"
            ],
            [
             0.1,
             "#c51b7d"
            ],
            [
             0.2,
             "#de77ae"
            ],
            [
             0.3,
             "#f1b6da"
            ],
            [
             0.4,
             "#fde0ef"
            ],
            [
             0.5,
             "#f7f7f7"
            ],
            [
             0.6,
             "#e6f5d0"
            ],
            [
             0.7,
             "#b8e186"
            ],
            [
             0.8,
             "#7fbc41"
            ],
            [
             0.9,
             "#4d9221"
            ],
            [
             1,
             "#276419"
            ]
           ],
           "sequential": [
            [
             0,
             "#0d0887"
            ],
            [
             0.1111111111111111,
             "#46039f"
            ],
            [
             0.2222222222222222,
             "#7201a8"
            ],
            [
             0.3333333333333333,
             "#9c179e"
            ],
            [
             0.4444444444444444,
             "#bd3786"
            ],
            [
             0.5555555555555556,
             "#d8576b"
            ],
            [
             0.6666666666666666,
             "#ed7953"
            ],
            [
             0.7777777777777778,
             "#fb9f3a"
            ],
            [
             0.8888888888888888,
             "#fdca26"
            ],
            [
             1,
             "#f0f921"
            ]
           ],
           "sequentialminus": [
            [
             0,
             "#0d0887"
            ],
            [
             0.1111111111111111,
             "#46039f"
            ],
            [
             0.2222222222222222,
             "#7201a8"
            ],
            [
             0.3333333333333333,
             "#9c179e"
            ],
            [
             0.4444444444444444,
             "#bd3786"
            ],
            [
             0.5555555555555556,
             "#d8576b"
            ],
            [
             0.6666666666666666,
             "#ed7953"
            ],
            [
             0.7777777777777778,
             "#fb9f3a"
            ],
            [
             0.8888888888888888,
             "#fdca26"
            ],
            [
             1,
             "#f0f921"
            ]
           ]
          },
          "colorway": [
           "#636efa",
           "#EF553B",
           "#00cc96",
           "#ab63fa",
           "#FFA15A",
           "#19d3f3",
           "#FF6692",
           "#B6E880",
           "#FF97FF",
           "#FECB52"
          ],
          "font": {
           "color": "#2a3f5f"
          },
          "geo": {
           "bgcolor": "white",
           "lakecolor": "white",
           "landcolor": "#E5ECF6",
           "showlakes": true,
           "showland": true,
           "subunitcolor": "white"
          },
          "hoverlabel": {
           "align": "left"
          },
          "hovermode": "closest",
          "mapbox": {
           "style": "light"
          },
          "paper_bgcolor": "white",
          "plot_bgcolor": "#E5ECF6",
          "polar": {
           "angularaxis": {
            "gridcolor": "white",
            "linecolor": "white",
            "ticks": ""
           },
           "bgcolor": "#E5ECF6",
           "radialaxis": {
            "gridcolor": "white",
            "linecolor": "white",
            "ticks": ""
           }
          },
          "scene": {
           "xaxis": {
            "backgroundcolor": "#E5ECF6",
            "gridcolor": "white",
            "gridwidth": 2,
            "linecolor": "white",
            "showbackground": true,
            "ticks": "",
            "zerolinecolor": "white"
           },
           "yaxis": {
            "backgroundcolor": "#E5ECF6",
            "gridcolor": "white",
            "gridwidth": 2,
            "linecolor": "white",
            "showbackground": true,
            "ticks": "",
            "zerolinecolor": "white"
           },
           "zaxis": {
            "backgroundcolor": "#E5ECF6",
            "gridcolor": "white",
            "gridwidth": 2,
            "linecolor": "white",
            "showbackground": true,
            "ticks": "",
            "zerolinecolor": "white"
           }
          },
          "shapedefaults": {
           "line": {
            "color": "#2a3f5f"
           }
          },
          "ternary": {
           "aaxis": {
            "gridcolor": "white",
            "linecolor": "white",
            "ticks": ""
           },
           "baxis": {
            "gridcolor": "white",
            "linecolor": "white",
            "ticks": ""
           },
           "bgcolor": "#E5ECF6",
           "caxis": {
            "gridcolor": "white",
            "linecolor": "white",
            "ticks": ""
           }
          },
          "title": {
           "x": 0.05
          },
          "xaxis": {
           "automargin": true,
           "gridcolor": "white",
           "linecolor": "white",
           "ticks": "",
           "title": {
            "standoff": 15
           },
           "zerolinecolor": "white",
           "zerolinewidth": 2
          },
          "yaxis": {
           "automargin": true,
           "gridcolor": "white",
           "linecolor": "white",
           "ticks": "",
           "title": {
            "standoff": 15
           },
           "zerolinecolor": "white",
           "zerolinewidth": 2
          }
         }
        },
        "title": {
         "text": "Comparison between Measured Data and Best-Fit Simulation"
        },
        "xaxis": {
         "title": {
          "text": "X"
         }
        },
        "yaxis": {
         "title": {
          "text": "Y"
         }
        }
       }
      },
      "text/html": [
       "<div>                            <div id=\"55ec5f5a-8aba-4829-a97f-69f388a6e6be\" class=\"plotly-graph-div\" style=\"height:525px; width:100%;\"></div>            <script type=\"text/javascript\">                require([\"plotly\"], function(Plotly) {                    window.PLOTLYENV=window.PLOTLYENV || {};                                    if (document.getElementById(\"55ec5f5a-8aba-4829-a97f-69f388a6e6be\")) {                    Plotly.newPlot(                        \"55ec5f5a-8aba-4829-a97f-69f388a6e6be\",                        [{\"marker\":{\"color\":\"blue\"},\"mode\":\"markers\",\"name\":\"Measured Data\",\"showlegend\":true,\"text\":[\"bpmr.7l1.b1\",\"bpm.6l1.b1\",\"bpmr.5l1.b1\",\"bpmya.4l1.b1\",\"bpmwb.4l1.b1\",\"bpmsy.4l1.b1\",\"bpms.2l1.b1\",\"bpmsw.1l1.b1\",\"bpmsw.1r1.b1\",\"bpms.2r1.b1\",\"bpmsy.4r1.b1\",\"bpmwb.4r1.b1\",\"bpmya.4r1.b1\",\"bpm.5r1.b1\",\"bpmr.6r1.b1\",\"bpmsx.7r1.b1\",\"bpm_a.7r1.b1\"],\"x\":[6396.291796744015,6439.475796744016,6471.375796744014,6492.493796744016,6513.626296744016,6606.346295971012,6633.191795971015,6643.1417959710125,6686.2847990978735,6696.249799097874,6722.975299097874,6815.815299097874,6836.947799097874,6864.355799097873,6896.255799097875,6902.471299097873,6923.979799097873],\"y\":[0.0002617757524544777,0.0005528816709771144,-0.0010554215547128635,-0.0006187188540672915,-0.0017530166901858274,-0.005666156375105821,-0.003150631341692056,-0.002732787032406387,0.00326944283664107,0.006131126312589264,0.005465492398793479,0.0019942678761888264,0.002750937918023985,9.153875522107401e-05,2.161746700959581e-05,0.0016286938791600985,-0.0007768938096068086],\"type\":\"scatter\"},{\"line\":{\"color\":\"red\"},\"mode\":\"lines\",\"name\":\"Best Fit Simulation\",\"showlegend\":true,\"x\":[6396.291796744015,6439.475796744016,6471.375796744014,6492.493796744016,6513.626296744016,6606.346295971012,6633.191795971015,6643.1417959710125,6686.2847990978735,6696.249799097874,6722.975299097874,6815.815299097874,6836.947799097874,6864.355799097873,6896.255799097875,6902.471299097873,6923.979799097873],\"y\":[-1.4836614747975194e-07,-1.3034745250790898e-07,-7.767916711123988e-05,-0.00032933077500400397,-0.001207485190508273,-0.006120841659889563,-0.00349753160144126,-0.003112265996967701,0.0031101309027235647,0.005654372249147751,0.004453327147184151,0.002231388942068361,0.0017462813586073512,0.0006246482720499054,9.578524367258884e-08,8.762700476780746e-08,5.939573109980162e-08],\"type\":\"scatter\"},{\"line\":{\"color\":\"green\"},\"mode\":\"lines\",\"name\":\"Input angle\",\"showlegend\":true,\"x\":[6396.291796744015,6439.475796744016,6471.375796744014,6492.493796744016,6513.626296744016,6606.346295971012,6633.191795971015,6643.1417959710125,6686.2847990978735,6696.249799097874,6722.975299097874,6815.815299097874,6836.947799097874,6864.355799097873,6896.255799097875,6902.471299097873,6923.979799097873],\"y\":[-1.5001459113901524e-07,-1.322847436712709e-07,-7.92260297633147e-05,-0.00033589085599532376,-0.0012315382513569883,-0.006242769138895563,-0.003567202678716654,-0.0031742626318043005,0.0031720846079690813,0.0057670072737834015,0.004542037506131176,0.0022758391738906085,0.0017810683660815204,0.0006370920163941425,9.851582997148186e-08,9.006156170885906e-08,6.080588977150526e-08],\"type\":\"scatter\"},{\"marker\":{\"color\":\"blue\"},\"mode\":\"markers\",\"name\":\"Measured Data\",\"showlegend\":false,\"text\":[\"bpm.7l1.b2\",\"bpmsx.7l1.b2\",\"bpmr.6l1.b2\",\"bpm.5l1.b2\",\"bpmya.4l1.b2\",\"bpmwb.4l1.b2\",\"bpmsy.4l1.b2\",\"bpms.2l1.b2\",\"bpmsw.1l1.b2\",\"bpmsw.1r1.b2\",\"bpms.2r1.b2\",\"bpmsy.4r1.b2\",\"bpmwb.4r1.b2\",\"bpmya.4r1.b2\",\"bpmr.5r1.b2\",\"bpm.6r1.b2\",\"bpmra.7r1.b2\"],\"x\":[6396.291787868748,6426.970287868749,6439.475787868749,6471.375787868747,6492.493787868749,6513.550287868748,6606.466287868749,6633.191787868749,6643.141787868746,6686.2847990978735,6696.249799097874,6723.095299097877,6815.891297475875,6836.947797475874,6864.355797475873,6896.255797475875,6923.979797475877],\"y\":[0.0002825700343716109,0.0003265934357645676,0.0005060483075528806,0.0005427408596618754,0.0018391311465112794,0.0029781463369994193,0.004514797023854941,0.005851981099625662,0.0032292978402396265,-0.0022665832566424295,-0.0028291954892605007,-0.005750606428869242,-0.0010572880162527107,0.0002056970444344521,-0.0004902587180453573,-0.0022618481048441784,9.344504051298802e-05],\"type\":\"scatter\"},{\"line\":{\"color\":\"red\"},\"mode\":\"lines\",\"name\":\"Best Fit Simulation\",\"showlegend\":false,\"x\":[6396.291787868748,6426.970287868749,6439.475787868749,6471.375787868747,6492.493787868749,6513.550287868748,6606.466287868749,6633.191787868749,6643.141787868746,6686.2847990978735,6696.249799097874,6723.095299097877,6815.891297475875,6836.947797475874,6864.355797475873,6896.255797475875,6923.979797475877],\"y\":[3.5685466571261606e-08,1.0280398223527239e-07,0.00014030871048112517,0.0008895194308947062,0.0017486874428221649,0.00222965229762343,0.004453427844382214,0.005654496864170826,0.0031123699337353545,-0.003110131564681188,-0.003497574803762513,-0.0061209518387307735,-0.0012035763761350043,-0.00031389122131894625,-3.4512607601029386e-07,-2.4073939399911167e-07,-2.939505824116368e-07],\"type\":\"scatter\"},{\"line\":{\"color\":\"green\"},\"mode\":\"lines\",\"name\":\"Input angle\",\"showlegend\":false,\"x\":[6396.291787868748,6426.970287868749,6439.475787868749,6471.375787868747,6492.493787868749,6513.550287868748,6606.466287868749,6633.191787868749,6643.141787868746,6686.2847990978735,6696.249799097874,6723.095299097877,6815.891297475875,6836.947797475874,6864.355797475873,6896.255797475875,6923.979797475877],\"y\":[3.7591376799249783e-08,1.0647604075174945e-07,0.00014310535667708623,0.0009072395083272067,0.0017835220033249103,0.002274067281154482,0.004542138438052515,0.005767131993018922,0.0031743668061840783,-0.003172085154365931,-0.003567245960685046,-0.006242879523225811,-0.0012275497442276926,-0.0003201418789540936,-3.489995727908317e-07,-2.432681135576377e-07,-2.9683609333271784e-07],\"type\":\"scatter\"}],                        {\"grid\":{\"columns\":1,\"rows\":1},\"legend\":{\"x\":0,\"y\":1},\"title\":{\"text\":\"Comparison between Measured Data and Best-Fit Simulation\"},\"xaxis\":{\"title\":{\"text\":\"X\"}},\"yaxis\":{\"title\":{\"text\":\"Y\"}},\"template\":{\"data\":{\"histogram2dcontour\":[{\"type\":\"histogram2dcontour\",\"colorbar\":{\"outlinewidth\":0,\"ticks\":\"\"},\"colorscale\":[[0.0,\"#0d0887\"],[0.1111111111111111,\"#46039f\"],[0.2222222222222222,\"#7201a8\"],[0.3333333333333333,\"#9c179e\"],[0.4444444444444444,\"#bd3786\"],[0.5555555555555556,\"#d8576b\"],[0.6666666666666666,\"#ed7953\"],[0.7777777777777778,\"#fb9f3a\"],[0.8888888888888888,\"#fdca26\"],[1.0,\"#f0f921\"]]}],\"choropleth\":[{\"type\":\"choropleth\",\"colorbar\":{\"outlinewidth\":0,\"ticks\":\"\"}}],\"histogram2d\":[{\"type\":\"histogram2d\",\"colorbar\":{\"outlinewidth\":0,\"ticks\":\"\"},\"colorscale\":[[0.0,\"#0d0887\"],[0.1111111111111111,\"#46039f\"],[0.2222222222222222,\"#7201a8\"],[0.3333333333333333,\"#9c179e\"],[0.4444444444444444,\"#bd3786\"],[0.5555555555555556,\"#d8576b\"],[0.6666666666666666,\"#ed7953\"],[0.7777777777777778,\"#fb9f3a\"],[0.8888888888888888,\"#fdca26\"],[1.0,\"#f0f921\"]]}],\"heatmap\":[{\"type\":\"heatmap\",\"colorbar\":{\"outlinewidth\":0,\"ticks\":\"\"},\"colorscale\":[[0.0,\"#0d0887\"],[0.1111111111111111,\"#46039f\"],[0.2222222222222222,\"#7201a8\"],[0.3333333333333333,\"#9c179e\"],[0.4444444444444444,\"#bd3786\"],[0.5555555555555556,\"#d8576b\"],[0.6666666666666666,\"#ed7953\"],[0.7777777777777778,\"#fb9f3a\"],[0.8888888888888888,\"#fdca26\"],[1.0,\"#f0f921\"]]}],\"heatmapgl\":[{\"type\":\"heatmapgl\",\"colorbar\":{\"outlinewidth\":0,\"ticks\":\"\"},\"colorscale\":[[0.0,\"#0d0887\"],[0.1111111111111111,\"#46039f\"],[0.2222222222222222,\"#7201a8\"],[0.3333333333333333,\"#9c179e\"],[0.4444444444444444,\"#bd3786\"],[0.5555555555555556,\"#d8576b\"],[0.6666666666666666,\"#ed7953\"],[0.7777777777777778,\"#fb9f3a\"],[0.8888888888888888,\"#fdca26\"],[1.0,\"#f0f921\"]]}],\"contourcarpet\":[{\"type\":\"contourcarpet\",\"colorbar\":{\"outlinewidth\":0,\"ticks\":\"\"}}],\"contour\":[{\"type\":\"contour\",\"colorbar\":{\"outlinewidth\":0,\"ticks\":\"\"},\"colorscale\":[[0.0,\"#0d0887\"],[0.1111111111111111,\"#46039f\"],[0.2222222222222222,\"#7201a8\"],[0.3333333333333333,\"#9c179e\"],[0.4444444444444444,\"#bd3786\"],[0.5555555555555556,\"#d8576b\"],[0.6666666666666666,\"#ed7953\"],[0.7777777777777778,\"#fb9f3a\"],[0.8888888888888888,\"#fdca26\"],[1.0,\"#f0f921\"]]}],\"surface\":[{\"type\":\"surface\",\"colorbar\":{\"outlinewidth\":0,\"ticks\":\"\"},\"colorscale\":[[0.0,\"#0d0887\"],[0.1111111111111111,\"#46039f\"],[0.2222222222222222,\"#7201a8\"],[0.3333333333333333,\"#9c179e\"],[0.4444444444444444,\"#bd3786\"],[0.5555555555555556,\"#d8576b\"],[0.6666666666666666,\"#ed7953\"],[0.7777777777777778,\"#fb9f3a\"],[0.8888888888888888,\"#fdca26\"],[1.0,\"#f0f921\"]]}],\"mesh3d\":[{\"type\":\"mesh3d\",\"colorbar\":{\"outlinewidth\":0,\"ticks\":\"\"}}],\"scatter\":[{\"fillpattern\":{\"fillmode\":\"overlay\",\"size\":10,\"solidity\":0.2},\"type\":\"scatter\"}],\"parcoords\":[{\"type\":\"parcoords\",\"line\":{\"colorbar\":{\"outlinewidth\":0,\"ticks\":\"\"}}}],\"scatterpolargl\":[{\"type\":\"scatterpolargl\",\"marker\":{\"colorbar\":{\"outlinewidth\":0,\"ticks\":\"\"}}}],\"bar\":[{\"error_x\":{\"color\":\"#2a3f5f\"},\"error_y\":{\"color\":\"#2a3f5f\"},\"marker\":{\"line\":{\"color\":\"#E5ECF6\",\"width\":0.5},\"pattern\":{\"fillmode\":\"overlay\",\"size\":10,\"solidity\":0.2}},\"type\":\"bar\"}],\"scattergeo\":[{\"type\":\"scattergeo\",\"marker\":{\"colorbar\":{\"outlinewidth\":0,\"ticks\":\"\"}}}],\"scatterpolar\":[{\"type\":\"scatterpolar\",\"marker\":{\"colorbar\":{\"outlinewidth\":0,\"ticks\":\"\"}}}],\"histogram\":[{\"marker\":{\"pattern\":{\"fillmode\":\"overlay\",\"size\":10,\"solidity\":0.2}},\"type\":\"histogram\"}],\"scattergl\":[{\"type\":\"scattergl\",\"marker\":{\"colorbar\":{\"outlinewidth\":0,\"ticks\":\"\"}}}],\"scatter3d\":[{\"type\":\"scatter3d\",\"line\":{\"colorbar\":{\"outlinewidth\":0,\"ticks\":\"\"}},\"marker\":{\"colorbar\":{\"outlinewidth\":0,\"ticks\":\"\"}}}],\"scattermapbox\":[{\"type\":\"scattermapbox\",\"marker\":{\"colorbar\":{\"outlinewidth\":0,\"ticks\":\"\"}}}],\"scatterternary\":[{\"type\":\"scatterternary\",\"marker\":{\"colorbar\":{\"outlinewidth\":0,\"ticks\":\"\"}}}],\"scattercarpet\":[{\"type\":\"scattercarpet\",\"marker\":{\"colorbar\":{\"outlinewidth\":0,\"ticks\":\"\"}}}],\"carpet\":[{\"aaxis\":{\"endlinecolor\":\"#2a3f5f\",\"gridcolor\":\"white\",\"linecolor\":\"white\",\"minorgridcolor\":\"white\",\"startlinecolor\":\"#2a3f5f\"},\"baxis\":{\"endlinecolor\":\"#2a3f5f\",\"gridcolor\":\"white\",\"linecolor\":\"white\",\"minorgridcolor\":\"white\",\"startlinecolor\":\"#2a3f5f\"},\"type\":\"carpet\"}],\"table\":[{\"cells\":{\"fill\":{\"color\":\"#EBF0F8\"},\"line\":{\"color\":\"white\"}},\"header\":{\"fill\":{\"color\":\"#C8D4E3\"},\"line\":{\"color\":\"white\"}},\"type\":\"table\"}],\"barpolar\":[{\"marker\":{\"line\":{\"color\":\"#E5ECF6\",\"width\":0.5},\"pattern\":{\"fillmode\":\"overlay\",\"size\":10,\"solidity\":0.2}},\"type\":\"barpolar\"}],\"pie\":[{\"automargin\":true,\"type\":\"pie\"}]},\"layout\":{\"autotypenumbers\":\"strict\",\"colorway\":[\"#636efa\",\"#EF553B\",\"#00cc96\",\"#ab63fa\",\"#FFA15A\",\"#19d3f3\",\"#FF6692\",\"#B6E880\",\"#FF97FF\",\"#FECB52\"],\"font\":{\"color\":\"#2a3f5f\"},\"hovermode\":\"closest\",\"hoverlabel\":{\"align\":\"left\"},\"paper_bgcolor\":\"white\",\"plot_bgcolor\":\"#E5ECF6\",\"polar\":{\"bgcolor\":\"#E5ECF6\",\"angularaxis\":{\"gridcolor\":\"white\",\"linecolor\":\"white\",\"ticks\":\"\"},\"radialaxis\":{\"gridcolor\":\"white\",\"linecolor\":\"white\",\"ticks\":\"\"}},\"ternary\":{\"bgcolor\":\"#E5ECF6\",\"aaxis\":{\"gridcolor\":\"white\",\"linecolor\":\"white\",\"ticks\":\"\"},\"baxis\":{\"gridcolor\":\"white\",\"linecolor\":\"white\",\"ticks\":\"\"},\"caxis\":{\"gridcolor\":\"white\",\"linecolor\":\"white\",\"ticks\":\"\"}},\"coloraxis\":{\"colorbar\":{\"outlinewidth\":0,\"ticks\":\"\"}},\"colorscale\":{\"sequential\":[[0.0,\"#0d0887\"],[0.1111111111111111,\"#46039f\"],[0.2222222222222222,\"#7201a8\"],[0.3333333333333333,\"#9c179e\"],[0.4444444444444444,\"#bd3786\"],[0.5555555555555556,\"#d8576b\"],[0.6666666666666666,\"#ed7953\"],[0.7777777777777778,\"#fb9f3a\"],[0.8888888888888888,\"#fdca26\"],[1.0,\"#f0f921\"]],\"sequentialminus\":[[0.0,\"#0d0887\"],[0.1111111111111111,\"#46039f\"],[0.2222222222222222,\"#7201a8\"],[0.3333333333333333,\"#9c179e\"],[0.4444444444444444,\"#bd3786\"],[0.5555555555555556,\"#d8576b\"],[0.6666666666666666,\"#ed7953\"],[0.7777777777777778,\"#fb9f3a\"],[0.8888888888888888,\"#fdca26\"],[1.0,\"#f0f921\"]],\"diverging\":[[0,\"#8e0152\"],[0.1,\"#c51b7d\"],[0.2,\"#de77ae\"],[0.3,\"#f1b6da\"],[0.4,\"#fde0ef\"],[0.5,\"#f7f7f7\"],[0.6,\"#e6f5d0\"],[0.7,\"#b8e186\"],[0.8,\"#7fbc41\"],[0.9,\"#4d9221\"],[1,\"#276419\"]]},\"xaxis\":{\"gridcolor\":\"white\",\"linecolor\":\"white\",\"ticks\":\"\",\"title\":{\"standoff\":15},\"zerolinecolor\":\"white\",\"automargin\":true,\"zerolinewidth\":2},\"yaxis\":{\"gridcolor\":\"white\",\"linecolor\":\"white\",\"ticks\":\"\",\"title\":{\"standoff\":15},\"zerolinecolor\":\"white\",\"automargin\":true,\"zerolinewidth\":2},\"scene\":{\"xaxis\":{\"backgroundcolor\":\"#E5ECF6\",\"gridcolor\":\"white\",\"linecolor\":\"white\",\"showbackground\":true,\"ticks\":\"\",\"zerolinecolor\":\"white\",\"gridwidth\":2},\"yaxis\":{\"backgroundcolor\":\"#E5ECF6\",\"gridcolor\":\"white\",\"linecolor\":\"white\",\"showbackground\":true,\"ticks\":\"\",\"zerolinecolor\":\"white\",\"gridwidth\":2},\"zaxis\":{\"backgroundcolor\":\"#E5ECF6\",\"gridcolor\":\"white\",\"linecolor\":\"white\",\"showbackground\":true,\"ticks\":\"\",\"zerolinecolor\":\"white\",\"gridwidth\":2}},\"shapedefaults\":{\"line\":{\"color\":\"#2a3f5f\"}},\"annotationdefaults\":{\"arrowcolor\":\"#2a3f5f\",\"arrowhead\":0,\"arrowwidth\":1},\"geo\":{\"bgcolor\":\"white\",\"landcolor\":\"#E5ECF6\",\"subunitcolor\":\"white\",\"showland\":true,\"showlakes\":true,\"lakecolor\":\"white\"},\"title\":{\"x\":0.05},\"mapbox\":{\"style\":\"light\"}}}},                        {\"responsive\": true}                    ).then(function(){\n",
       "                            \n",
       "var gd = document.getElementById('55ec5f5a-8aba-4829-a97f-69f388a6e6be');\n",
       "var x = new MutationObserver(function (mutations, observer) {{\n",
       "        var display = window.getComputedStyle(gd).display;\n",
       "        if (!display || display === 'none') {{\n",
       "            console.log([gd, 'removed!']);\n",
       "            Plotly.purge(gd);\n",
       "            observer.disconnect();\n",
       "        }}\n",
       "}});\n",
       "\n",
       "// Listen for the removal of the full notebook cells\n",
       "var notebookContainer = gd.closest('#notebook-container');\n",
       "if (notebookContainer) {{\n",
       "    x.observe(notebookContainer, {childList: true});\n",
       "}}\n",
       "\n",
       "// Listen for the clearing of the current output cell\n",
       "var outputEl = gd.closest('.output');\n",
       "if (outputEl) {{\n",
       "    x.observe(outputEl, {childList: true});\n",
       "}}\n",
       "\n",
       "                        })                };                });            </script>        </div>"
      ]
     },
     "metadata": {},
     "output_type": "display_data"
    }
   ],
   "source": [
    "# Define the time and initial guess for the angle\n",
    "time = datetime(2021, 10, 29, 9, 17, 43)\n",
    "init_angle = 147.1\n",
    "\n",
    "# Call the function with your BPMData and aper_data\n",
    "result, results = optimize_and_plot(time, init_angle, 'ip1', aper_data)"
   ]
  },
  {
   "cell_type": "code",
   "execution_count": 60,
   "id": "5e34a303",
   "metadata": {
    "scrolled": true
   },
   "outputs": [
    {
     "data": {
      "text/plain": [
       "[{'initial_angle': 147.1,\n",
       "  'best_fit_angle': 144.22703450390833,\n",
       "  'uncertainty': 6.218870435208671,\n",
       "  'sum_squared_residuals': 1.6082044725908513e-05}]"
      ]
     },
     "execution_count": 60,
     "metadata": {},
     "output_type": "execute_result"
    }
   ],
   "source": [
    "results"
   ]
  },
  {
   "cell_type": "code",
   "execution_count": 61,
   "id": "2a6b87ed",
   "metadata": {},
   "outputs": [
    {
     "data": {
      "text/plain": [
       "     message: `gtol` termination condition is satisfied.\n",
       "     success: True\n",
       "      status: 1\n",
       "         fun: [ 2.619e-04  5.530e-04 ... -2.262e-03  9.374e-05]\n",
       "           x: [ 1.442e+02]\n",
       "        cost: 8.041022362954255e-06\n",
       "         jac: [[ 7.628e-09]\n",
       "               [ 7.141e-09]\n",
       "               ...\n",
       "               [ 3.130e-10]\n",
       "               [ 3.150e-10]]\n",
       "        grad: [-2.093e-11]\n",
       "  optimality: 3.2608725876617137e-09\n",
       " active_mask: [0]\n",
       "        nfev: 3\n",
       "        njev: 3"
      ]
     },
     "execution_count": 61,
     "metadata": {},
     "output_type": "execute_result"
    }
   ],
   "source": [
    "result"
   ]
  },
  {
   "cell_type": "code",
   "execution_count": null,
   "id": "8661fef0",
   "metadata": {},
   "outputs": [],
   "source": []
  }
 ],
 "metadata": {
  "@webio": {
   "lastCommId": null,
   "lastKernelId": null
  },
  "kernelspec": {
   "display_name": "Python 3",
   "language": "python",
   "name": "python3"
  },
  "language_info": {
   "codemirror_mode": {
    "name": "ipython",
    "version": 3
   },
   "file_extension": ".py",
   "mimetype": "text/x-python",
   "name": "python",
   "nbconvert_exporter": "python",
   "pygments_lexer": "ipython3",
   "version": "3.9.12"
  },
  "sparkconnect": {
   "bundled_options": [
    "NXCALS",
    "SparkMetrics"
   ],
   "list_of_options": []
  }
 },
 "nbformat": 4,
 "nbformat_minor": 5
}
