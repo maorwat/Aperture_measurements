{
 "cells": [
  {
   "cell_type": "code",
   "execution_count": 2,
   "id": "77ebee03",
   "metadata": {},
   "outputs": [],
   "source": [
    "%load_ext autoreload\n",
    "%autoreload 2\n",
    "\n",
    "from pathlib import Path\n",
    "import sys\n",
    "import re\n",
    "\n",
    "home_path = str(Path.cwd().parent)\n",
    "sys.path.append(home_path)\n",
    "sys.path.append('/eos/home-i03/m/morwat/.local/lib/python3.9/site-packages/')"
   ]
  },
  {
   "cell_type": "code",
   "execution_count": 3,
   "id": "23361faa",
   "metadata": {},
   "outputs": [],
   "source": [
    "from aper_package.interactive_tool import InteractiveTool"
   ]
  },
  {
   "cell_type": "code",
   "execution_count": 4,
   "id": "e76f05ac",
   "metadata": {
    "scrolled": false
   },
   "outputs": [],
   "source": [
    "tool = InteractiveTool(initial_path=home_path+'/test_data')"
   ]
  },
  {
   "cell_type": "code",
   "execution_count": 5,
   "id": "e4cd2a60",
   "metadata": {
    "scrolled": false
   },
   "outputs": [
    {
     "data": {
      "application/vnd.jupyter.widget-view+json": {
       "model_id": "6dc021749f3442a3a2842eb1c5383426",
       "version_major": 2,
       "version_minor": 0
      },
      "text/plain": [
       "VBox(children=(Tab(children=(VBox(children=(HBox(children=(HBox(children=(Label(value='Select Line File:'), Fi…"
      ]
     },
     "metadata": {},
     "output_type": "display_data"
    }
   ],
   "source": [
    "tool.show()"
   ]
  },
  {
   "cell_type": "code",
   "execution_count": 1,
   "id": "0007920b",
   "metadata": {
    "scrolled": true
   },
   "outputs": [
    {
     "ename": "NameError",
     "evalue": "name 'tool' is not defined",
     "output_type": "error",
     "traceback": [
      "\u001b[0;31m---------------------------------------------------------------------------\u001b[0m",
      "\u001b[0;31mNameError\u001b[0m                                 Traceback (most recent call last)",
      "\u001b[0;32m/tmp/ipykernel_3221/1183364077.py\u001b[0m in \u001b[0;36m<module>\u001b[0;34m\u001b[0m\n\u001b[1;32m      3\u001b[0m \u001b[0mmiddle\u001b[0m \u001b[0;34m=\u001b[0m \u001b[0;34m'mcbv.21l3.b1'\u001b[0m\u001b[0;34m\u001b[0m\u001b[0;34m\u001b[0m\u001b[0m\n\u001b[1;32m      4\u001b[0m \u001b[0;34m\u001b[0m\u001b[0m\n\u001b[0;32m----> 5\u001b[0;31m \u001b[0mtw0\u001b[0m \u001b[0;34m=\u001b[0m \u001b[0mtool\u001b[0m\u001b[0;34m.\u001b[0m\u001b[0maperture_data\u001b[0m\u001b[0;34m.\u001b[0m\u001b[0mline_b1\u001b[0m\u001b[0;34m.\u001b[0m\u001b[0mtwiss\u001b[0m\u001b[0;34m(\u001b[0m\u001b[0;34m)\u001b[0m\u001b[0;34m\u001b[0m\u001b[0;34m\u001b[0m\u001b[0m\n\u001b[0m\u001b[1;32m      6\u001b[0m \u001b[0;34m\u001b[0m\u001b[0m\n\u001b[1;32m      7\u001b[0m \u001b[0mtarget2\u001b[0m \u001b[0;34m=\u001b[0m \u001b[0mxt\u001b[0m\u001b[0;34m.\u001b[0m\u001b[0mTarget\u001b[0m\u001b[0;34m(\u001b[0m\u001b[0;34m'y'\u001b[0m\u001b[0;34m,\u001b[0m \u001b[0mat\u001b[0m\u001b[0;34m=\u001b[0m\u001b[0mmiddle\u001b[0m\u001b[0;34m,\u001b[0m \u001b[0mvalue\u001b[0m\u001b[0;34m=\u001b[0m\u001b[0;36m7e-3\u001b[0m\u001b[0;34m)\u001b[0m\u001b[0;34m\u001b[0m\u001b[0;34m\u001b[0m\u001b[0m\n",
      "\u001b[0;31mNameError\u001b[0m: name 'tool' is not defined"
     ]
    }
   ],
   "source": [
    "left = 'mcbv.23l3.b1'\n",
    "right = 'mcbv.19l3.b1'\n",
    "middle = 'mcbv.21l3.b1'\n",
    "\n",
    "tw0 = tool.aperture_data.line_b1.twiss()\n",
    "\n",
    "target2 = xt.Target('y', at=middle, value=7e-3)\n",
    "target4 = xt.TargetSet(['py','y'], value=tw0, at='mcbv.19l3.b1')\n",
    "target1 = xt.TargetSet(['py','y'], value=tw0, at='mcbv.23l3.b1')\n",
    "\n",
    "targets = [target1, target2, target4]\n",
    "\n",
    "opt = tool.aperture_data.line_b1.match(solve=False,\n",
    "                start=left, \n",
    "                end=right,\n",
    "                init=tw0.get_twiss_init(at_element=left),\n",
    "                vary=[xt.Vary(name='acbv23.l3b1', step=1e-10),\n",
    "                        xt.Vary(name='acbv21.l3b1', step=1e-10),\n",
    "                        xt.Vary(name='acbv19.l3b1', step=1e-10)],\n",
    "                targets = targets)"
   ]
  },
  {
   "cell_type": "code",
   "execution_count": null,
   "id": "e0dcb5c7",
   "metadata": {},
   "outputs": [],
   "source": [
    "tw0['y', 'mcbv.19l3.b1']*1000"
   ]
  },
  {
   "cell_type": "code",
   "execution_count": 224,
   "id": "5b434d05",
   "metadata": {
    "scrolled": true
   },
   "outputs": [
    {
     "name": "stdout",
     "output_type": "stream",
     "text": [
      "Matching: model call n. 24               \r"
     ]
    },
    {
     "data": {
      "text/plain": [
       "<xdeps.optimize.optimize.Optimize at 0x7ff8c2ec6b50>"
      ]
     },
     "execution_count": 224,
     "metadata": {},
     "output_type": "execute_result"
    }
   ],
   "source": [
    "opt.step(4)"
   ]
  },
  {
   "cell_type": "code",
   "execution_count": 225,
   "id": "d20e88dc",
   "metadata": {},
   "outputs": [
    {
     "data": {
      "text/plain": [
       "Table: 5 rows, 18 cols\n",
       "iteration    penalty alpha tag tol_met target_active hit_limits vary_active      vary_0 ...\n",
       "        0  0.0387552    -1     yynyy   yyyyy         nnn        yyy          1.3479e-05\n",
       "        1 0.00222347     0     yynnn   yyyyy         nnn        yyy         3.57111e-05\n",
       "        2 0.00222346     0     yynnn   yyyyy         nnn        yyy          3.5711e-05\n",
       "        3 0.00222346     0     yynnn   yyyyy         nnn        yyy          3.5711e-05\n",
       "        4 0.00222346     4     yynnn   yyyyy         nnn        yyy          3.5711e-05"
      ]
     },
     "execution_count": 225,
     "metadata": {},
     "output_type": "execute_result"
    }
   ],
   "source": [
    "opt.log()"
   ]
  },
  {
   "cell_type": "code",
   "execution_count": 226,
   "id": "70230db0",
   "metadata": {},
   "outputs": [
    {
     "name": "stdout",
     "output_type": "stream",
     "text": [
      "Target status:                           \n",
      "id state tag tol_met      residue  current_val   target_val description                                 \n",
      " 0 ON           True            0 -0.000190654 -0.000190654 ('py', 'mcbv.23l3.b1'), val=-0.000190654 ...\n",
      " 1 ON           True            0    0.0142529    0.0142529 ('y', 'mcbv.23l3.b1'), val=0.0142529, to ...\n",
      " 2 ON          False -1.27618e-05   0.00698724        0.007 ('y', 'mcbv.21l3.b1'), val=0.007, tol=1e ...\n",
      " 3 ON          False -2.20172e-05  0.000140347  0.000162365 ('py', 'mcbv.19l3.b1'), val=0.000162365, ...\n",
      " 4 ON          False -2.82711e-05   -0.0140806   -0.0140523 ('y', 'mcbv.19l3.b1'), val=-0.0140523, t ...\n"
     ]
    }
   ],
   "source": [
    "opt.target_status()"
   ]
  },
  {
   "cell_type": "code",
   "execution_count": 227,
   "id": "210097d7",
   "metadata": {},
   "outputs": [
    {
     "name": "stdout",
     "output_type": "stream",
     "text": [
      "Computing twiss for beam 1...                                                                            \n",
      "\n",
      "Could not find point within tolerance.\n",
      "\n",
      "\n",
      "Warning! Need second attempt on closed orbit search\n",
      "\n",
      "\n",
      "Could not find point within tolerance.\n",
      "\n",
      "\n"
     ]
    },
    {
     "ename": "ClosedOrbitSearchError",
     "evalue": "",
     "output_type": "error",
     "traceback": [
      "\u001b[0;31m---------------------------------------------------------------------------\u001b[0m",
      "\u001b[0;31mClosedOrbitSearchError\u001b[0m                    Traceback (most recent call last)",
      "\u001b[0;32m/tmp/ipykernel_2552/36674696.py\u001b[0m in \u001b[0;36m<module>\u001b[0;34m\u001b[0m\n\u001b[0;32m----> 1\u001b[0;31m \u001b[0mtool\u001b[0m\u001b[0;34m.\u001b[0m\u001b[0maperture_data\u001b[0m\u001b[0;34m.\u001b[0m\u001b[0mtwiss\u001b[0m\u001b[0;34m(\u001b[0m\u001b[0;34m)\u001b[0m\u001b[0;34m\u001b[0m\u001b[0;34m\u001b[0m\u001b[0m\n\u001b[0m\u001b[1;32m      2\u001b[0m \u001b[0mtool\u001b[0m\u001b[0;34m.\u001b[0m\u001b[0mupdate_graph\u001b[0m\u001b[0;34m(\u001b[0m\u001b[0;34m)\u001b[0m\u001b[0;34m\u001b[0m\u001b[0;34m\u001b[0m\u001b[0m\n",
      "\u001b[0;32m/eos/home-i03/m/morwat/aperture_measurements/aper_package/aperture_data.py\u001b[0m in \u001b[0;36mtwiss\u001b[0;34m(self)\u001b[0m\n\u001b[1;32m    113\u001b[0m         \u001b[0;31m# Generate twiss\u001b[0m\u001b[0;34m\u001b[0m\u001b[0;34m\u001b[0m\u001b[0m\n\u001b[1;32m    114\u001b[0m         \u001b[0mprint_and_clear\u001b[0m\u001b[0;34m(\u001b[0m\u001b[0;34m'Computing twiss for beam 1...'\u001b[0m\u001b[0;34m)\u001b[0m\u001b[0;34m\u001b[0m\u001b[0;34m\u001b[0m\u001b[0m\n\u001b[0;32m--> 115\u001b[0;31m         \u001b[0mtw_b1\u001b[0m \u001b[0;34m=\u001b[0m \u001b[0mself\u001b[0m\u001b[0;34m.\u001b[0m\u001b[0mline_b1\u001b[0m\u001b[0;34m.\u001b[0m\u001b[0mtwiss\u001b[0m\u001b[0;34m(\u001b[0m\u001b[0mskip_global_quantities\u001b[0m\u001b[0;34m=\u001b[0m\u001b[0;32mTrue\u001b[0m\u001b[0;34m)\u001b[0m\u001b[0;34m.\u001b[0m\u001b[0mto_pandas\u001b[0m\u001b[0;34m(\u001b[0m\u001b[0;34m)\u001b[0m\u001b[0;34m\u001b[0m\u001b[0;34m\u001b[0m\u001b[0m\n\u001b[0m\u001b[1;32m    116\u001b[0m         \u001b[0mprint_and_clear\u001b[0m\u001b[0;34m(\u001b[0m\u001b[0;34m'Computing twiss for beam 2...'\u001b[0m\u001b[0;34m)\u001b[0m\u001b[0;34m\u001b[0m\u001b[0;34m\u001b[0m\u001b[0m\n\u001b[1;32m    117\u001b[0m         \u001b[0mtw_b2\u001b[0m \u001b[0;34m=\u001b[0m \u001b[0mself\u001b[0m\u001b[0;34m.\u001b[0m\u001b[0mline_b2\u001b[0m\u001b[0;34m.\u001b[0m\u001b[0mtwiss\u001b[0m\u001b[0;34m(\u001b[0m\u001b[0mskip_global_quantities\u001b[0m\u001b[0;34m=\u001b[0m\u001b[0;32mTrue\u001b[0m\u001b[0;34m,\u001b[0m \u001b[0mreverse\u001b[0m\u001b[0;34m=\u001b[0m\u001b[0;32mTrue\u001b[0m\u001b[0;34m)\u001b[0m\u001b[0;34m.\u001b[0m\u001b[0mto_pandas\u001b[0m\u001b[0;34m(\u001b[0m\u001b[0;34m)\u001b[0m\u001b[0;34m\u001b[0m\u001b[0;34m\u001b[0m\u001b[0m\n",
      "\u001b[0;32m/eos/home-i03/m/morwat/.local/lib/python3.9/site-packages/xtrack/line.py\u001b[0m in \u001b[0;36mtwiss\u001b[0;34m(self, particle_ref, method, particle_on_co, R_matrix, W_matrix, delta0, zeta0, r_sigma, nemitt_x, nemitt_y, delta_disp, delta_chrom, zeta_disp, co_guess, steps_r_matrix, co_search_settings, at_elements, at_s, continue_on_closed_orbit_error, freeze_longitudinal, freeze_energy, values_at_element_exit, radiation_method, eneloss_and_damping, start, end, init, num_turns, skip_global_quantities, matrix_responsiveness_tol, matrix_stability_tol, symplectify, reverse, use_full_inverse, strengths, hide_thin_groups, search_for_t_rev, num_turns_search_t_rev, only_twiss_init, only_markers, only_orbit, compute_R_element_by_element, compute_lattice_functions, compute_chromatic_properties, init_at, x, px, y, py, zeta, delta, betx, alfx, bety, alfy, bets, dx, dpx, dy, dpy, dzeta, mux, muy, muzeta, ax_chrom, bx_chrom, ay_chrom, by_chrom, ddx, ddpx, ddy, ddpy, zero_at, co_search_at, _continue_if_lost, _keep_tracking_data, _keep_initial_particles, _initial_particles, _ebe_monitor, ele_start, ele_stop, ele_init, twiss_init)\u001b[0m\n\u001b[1;32m   1193\u001b[0m \u001b[0;34m\u001b[0m\u001b[0m\n\u001b[1;32m   1194\u001b[0m         \u001b[0mtw_kwargs\u001b[0m\u001b[0;34m.\u001b[0m\u001b[0mpop\u001b[0m\u001b[0;34m(\u001b[0m\u001b[0;34m'self'\u001b[0m\u001b[0;34m)\u001b[0m\u001b[0;34m\u001b[0m\u001b[0;34m\u001b[0m\u001b[0m\n\u001b[0;32m-> 1195\u001b[0;31m         \u001b[0;32mreturn\u001b[0m \u001b[0mtwiss_line\u001b[0m\u001b[0;34m(\u001b[0m\u001b[0mself\u001b[0m\u001b[0;34m,\u001b[0m \u001b[0;34m**\u001b[0m\u001b[0mtw_kwargs\u001b[0m\u001b[0;34m)\u001b[0m\u001b[0;34m\u001b[0m\u001b[0;34m\u001b[0m\u001b[0m\n\u001b[0m\u001b[1;32m   1196\u001b[0m \u001b[0;34m\u001b[0m\u001b[0m\n\u001b[1;32m   1197\u001b[0m     \u001b[0mtwiss\u001b[0m\u001b[0;34m.\u001b[0m\u001b[0m__doc__\u001b[0m \u001b[0;34m=\u001b[0m \u001b[0mtwiss_line\u001b[0m\u001b[0;34m.\u001b[0m\u001b[0m__doc__\u001b[0m\u001b[0;34m\u001b[0m\u001b[0;34m\u001b[0m\u001b[0m\n",
      "\u001b[0;32m/eos/home-i03/m/morwat/.local/lib/python3.9/site-packages/xtrack/twiss.py\u001b[0m in \u001b[0;36mtwiss_line\u001b[0;34m(line, particle_ref, method, particle_on_co, R_matrix, W_matrix, delta0, zeta0, r_sigma, nemitt_x, nemitt_y, delta_disp, delta_chrom, zeta_disp, co_guess, steps_r_matrix, co_search_settings, at_elements, at_s, continue_on_closed_orbit_error, freeze_longitudinal, freeze_energy, values_at_element_exit, radiation_method, eneloss_and_damping, start, end, init, num_turns, skip_global_quantities, matrix_responsiveness_tol, matrix_stability_tol, symplectify, reverse, use_full_inverse, strengths, hide_thin_groups, search_for_t_rev, num_turns_search_t_rev, only_twiss_init, only_orbit, compute_R_element_by_element, compute_lattice_functions, compute_chromatic_properties, init_at, x, px, y, py, zeta, delta, betx, alfx, bety, alfy, bets, dx, dpx, dy, dpy, dzeta, mux, muy, muzeta, ax_chrom, bx_chrom, ay_chrom, by_chrom, ddx, ddpx, ddy, ddpy, zero_at, co_search_at, _continue_if_lost, _keep_tracking_data, _keep_initial_particles, _initial_particles, _ebe_monitor, only_markers)\u001b[0m\n\u001b[1;32m    597\u001b[0m         \u001b[0msteps_r_matrix\u001b[0m \u001b[0;34m=\u001b[0m \u001b[0m_complete_steps_r_matrix_with_default\u001b[0m\u001b[0;34m(\u001b[0m\u001b[0msteps_r_matrix\u001b[0m\u001b[0;34m)\u001b[0m\u001b[0;34m\u001b[0m\u001b[0;34m\u001b[0m\u001b[0m\n\u001b[1;32m    598\u001b[0m \u001b[0;34m\u001b[0m\u001b[0m\n\u001b[0;32m--> 599\u001b[0;31m         init, R_matrix, steps_r_matrix, eigenvalues, Rot, RR_ebe = _find_periodic_solution(\n\u001b[0m\u001b[1;32m    600\u001b[0m             \u001b[0mline\u001b[0m\u001b[0;34m=\u001b[0m\u001b[0mline\u001b[0m\u001b[0;34m,\u001b[0m \u001b[0mparticle_on_co\u001b[0m\u001b[0;34m=\u001b[0m\u001b[0mparticle_on_co\u001b[0m\u001b[0;34m,\u001b[0m\u001b[0;34m\u001b[0m\u001b[0;34m\u001b[0m\u001b[0m\n\u001b[1;32m    601\u001b[0m             \u001b[0mparticle_ref\u001b[0m\u001b[0;34m=\u001b[0m\u001b[0mparticle_ref\u001b[0m\u001b[0;34m,\u001b[0m \u001b[0mmethod\u001b[0m\u001b[0;34m=\u001b[0m\u001b[0mmethod\u001b[0m\u001b[0;34m,\u001b[0m\u001b[0;34m\u001b[0m\u001b[0;34m\u001b[0m\u001b[0m\n",
      "\u001b[0;32m/eos/home-i03/m/morwat/.local/lib/python3.9/site-packages/xtrack/twiss.py\u001b[0m in \u001b[0;36m_find_periodic_solution\u001b[0;34m(line, particle_on_co, particle_ref, method, co_search_settings, continue_on_closed_orbit_error, delta0, zeta0, steps_r_matrix, W_matrix, R_matrix, co_guess, delta_disp, symplectify, matrix_responsiveness_tol, matrix_stability_tol, nemitt_x, nemitt_y, r_sigma, start, end, num_turns, co_search_at, search_for_t_rev, num_turns_search_t_rev, compute_R_element_by_element, only_markers, only_orbit)\u001b[0m\n\u001b[1;32m   1764\u001b[0m         \u001b[0;32mif\u001b[0m \u001b[0msearch_for_t_rev\u001b[0m\u001b[0;34m:\u001b[0m\u001b[0;34m\u001b[0m\u001b[0;34m\u001b[0m\u001b[0m\n\u001b[1;32m   1765\u001b[0m             \u001b[0;32massert\u001b[0m \u001b[0mmethod\u001b[0m \u001b[0;34m==\u001b[0m \u001b[0;34m'6d'\u001b[0m\u001b[0;34m,\u001b[0m \u001b[0;34m'search_for_t_rev possible when `method` is \"6d\"'\u001b[0m\u001b[0;34m\u001b[0m\u001b[0;34m\u001b[0m\u001b[0m\n\u001b[0;32m-> 1766\u001b[0;31m         part_on_co = line.find_closed_orbit(\n\u001b[0m\u001b[1;32m   1767\u001b[0m                                 \u001b[0mco_guess\u001b[0m\u001b[0;34m=\u001b[0m\u001b[0mco_guess\u001b[0m\u001b[0;34m,\u001b[0m\u001b[0;34m\u001b[0m\u001b[0;34m\u001b[0m\u001b[0m\n\u001b[1;32m   1768\u001b[0m                                 \u001b[0mparticle_ref\u001b[0m\u001b[0;34m=\u001b[0m\u001b[0mparticle_ref\u001b[0m\u001b[0;34m,\u001b[0m\u001b[0;34m\u001b[0m\u001b[0;34m\u001b[0m\u001b[0m\n",
      "\u001b[0;32m/eos/home-i03/m/morwat/.local/lib/python3.9/site-packages/xtrack/line.py\u001b[0m in \u001b[0;36mfind_closed_orbit\u001b[0;34m(self, co_guess, particle_ref, co_search_settings, delta_zeta, delta0, zeta0, continue_on_closed_orbit_error, freeze_longitudinal, start, end, num_turns, co_search_at, search_for_t_rev, num_turns_search_t_rev)\u001b[0m\n\u001b[1;32m   1616\u001b[0m             \u001b[0mline\u001b[0m \u001b[0;34m=\u001b[0m \u001b[0mself\u001b[0m\u001b[0;34m\u001b[0m\u001b[0;34m\u001b[0m\u001b[0m\n\u001b[1;32m   1617\u001b[0m \u001b[0;34m\u001b[0m\u001b[0m\n\u001b[0;32m-> 1618\u001b[0;31m         return find_closed_orbit_line(line, co_guess=co_guess,\n\u001b[0m\u001b[1;32m   1619\u001b[0m                                  \u001b[0mparticle_ref\u001b[0m\u001b[0;34m=\u001b[0m\u001b[0mparticle_ref\u001b[0m\u001b[0;34m,\u001b[0m \u001b[0mdelta0\u001b[0m\u001b[0;34m=\u001b[0m\u001b[0mdelta0\u001b[0m\u001b[0;34m,\u001b[0m \u001b[0mzeta0\u001b[0m\u001b[0;34m=\u001b[0m\u001b[0mzeta0\u001b[0m\u001b[0;34m,\u001b[0m\u001b[0;34m\u001b[0m\u001b[0;34m\u001b[0m\u001b[0m\n\u001b[1;32m   1620\u001b[0m                                  \u001b[0mco_search_settings\u001b[0m\u001b[0;34m=\u001b[0m\u001b[0mco_search_settings\u001b[0m\u001b[0;34m,\u001b[0m \u001b[0mdelta_zeta\u001b[0m\u001b[0;34m=\u001b[0m\u001b[0mdelta_zeta\u001b[0m\u001b[0;34m,\u001b[0m\u001b[0;34m\u001b[0m\u001b[0;34m\u001b[0m\u001b[0m\n",
      "\u001b[0;32m/eos/home-i03/m/morwat/.local/lib/python3.9/site-packages/xtrack/twiss.py\u001b[0m in \u001b[0;36mfind_closed_orbit_line\u001b[0;34m(line, co_guess, particle_ref, co_search_settings, delta_zeta, delta0, zeta0, start, end, num_turns, co_search_at, search_for_t_rev, continue_on_closed_orbit_error, num_turns_search_t_rev)\u001b[0m\n\u001b[1;32m   2158\u001b[0m \u001b[0;34m\u001b[0m\u001b[0m\n\u001b[1;32m   2159\u001b[0m     \u001b[0;32mif\u001b[0m \u001b[0mier\u001b[0m \u001b[0;34m!=\u001b[0m \u001b[0;36m1\u001b[0m \u001b[0;32mand\u001b[0m \u001b[0;32mnot\u001b[0m\u001b[0;34m(\u001b[0m\u001b[0mcontinue_on_closed_orbit_error\u001b[0m\u001b[0;34m)\u001b[0m\u001b[0;34m:\u001b[0m\u001b[0;34m\u001b[0m\u001b[0;34m\u001b[0m\u001b[0m\n\u001b[0;32m-> 2160\u001b[0;31m         \u001b[0;32mraise\u001b[0m \u001b[0mClosedOrbitSearchError\u001b[0m\u001b[0;34m\u001b[0m\u001b[0;34m\u001b[0m\u001b[0m\n\u001b[0m\u001b[1;32m   2161\u001b[0m \u001b[0;34m\u001b[0m\u001b[0m\n\u001b[1;32m   2162\u001b[0m     \u001b[0mparticle_on_co\u001b[0m \u001b[0;34m=\u001b[0m \u001b[0mco_guess\u001b[0m\u001b[0;34m.\u001b[0m\u001b[0mcopy\u001b[0m\u001b[0;34m(\u001b[0m\u001b[0;34m)\u001b[0m\u001b[0;34m\u001b[0m\u001b[0;34m\u001b[0m\u001b[0m\n",
      "\u001b[0;31mClosedOrbitSearchError\u001b[0m: "
     ]
    }
   ],
   "source": [
    "tool.aperture_data.twiss()\n",
    "tool.update_graph()"
   ]
  },
  {
   "cell_type": "code",
   "execution_count": null,
   "id": "bde9962c",
   "metadata": {},
   "outputs": [],
   "source": []
  }
 ],
 "metadata": {
  "@webio": {
   "lastCommId": null,
   "lastKernelId": null
  },
  "kernelspec": {
   "display_name": "Python 3",
   "language": "python",
   "name": "python3"
  },
  "language_info": {
   "codemirror_mode": {
    "name": "ipython",
    "version": 3
   },
   "file_extension": ".py",
   "mimetype": "text/x-python",
   "name": "python",
   "nbconvert_exporter": "python",
   "pygments_lexer": "ipython3",
   "version": "3.9.12"
  },
  "sparkconnect": {
   "bundled_options": [
    "NXCALS",
    "SparkMetrics"
   ],
   "list_of_options": []
  }
 },
 "nbformat": 4,
 "nbformat_minor": 5
}
