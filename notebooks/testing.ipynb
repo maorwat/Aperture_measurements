{
 "cells": [
  {
   "cell_type": "code",
   "execution_count": 1,
   "id": "4f0d71a7",
   "metadata": {},
   "outputs": [],
   "source": [
    "from pathlib import Path\n",
    "import sys\n",
    "\n",
    "sys.path.append('/eos/home-i03/m/morwat/.local/lib/python3.9/site-packages/')"
   ]
  },
  {
   "cell_type": "code",
   "execution_count": 2,
   "id": "77ebee03",
   "metadata": {},
   "outputs": [],
   "source": [
    "home_path = str(Path.cwd().parent)\n",
    "sys.path.append(home_path)"
   ]
  },
  {
   "cell_type": "code",
   "execution_count": 3,
   "id": "adddff48",
   "metadata": {},
   "outputs": [],
   "source": [
    "from aper_package.aperture_data import Data\n",
    "from aper_package.plotting import plot\n",
    "\n",
    "from aper_package.timber_data import BPMData\n",
    "from aper_package.timber_data import CollimatorsData"
   ]
  },
  {
   "cell_type": "code",
   "execution_count": 4,
   "id": "5893e58a",
   "metadata": {},
   "outputs": [],
   "source": [
    "from datetime import datetime"
   ]
  },
  {
   "cell_type": "code",
   "execution_count": 5,
   "id": "a0a28f91",
   "metadata": {
    "scrolled": false
   },
   "outputs": [
    {
     "data": {
      "application/vnd.jupyter.widget-view+json": {
       "model_id": "470e9234791648c3a8067992310410c4",
       "version_major": 2,
       "version_minor": 0
      },
      "text/plain": [
       "Loading line from dict:   0%|          | 0/102050 [00:00<?, ?it/s]"
      ]
     },
     "metadata": {},
     "output_type": "display_data"
    },
    {
     "name": "stdout",
     "output_type": "stream",
     "text": [
      "Done loading line from dict.           \n"
     ]
    },
    {
     "data": {
      "application/vnd.jupyter.widget-view+json": {
       "model_id": "9ce69375c91a48219c94fb8faf04fa99",
       "version_major": 2,
       "version_minor": 0
      },
      "text/plain": [
       "Loading line from dict:   0%|          | 0/102122 [00:00<?, ?it/s]"
      ]
     },
     "metadata": {},
     "output_type": "display_data"
    },
    {
     "name": "stdout",
     "output_type": "stream",
     "text": [
      "Done loading line from dict.           \n",
      "Computing twiss for beam 1...\n",
      "Compiling ContextCpu kernels...\n",
      "Done compiling ContextCpu kernels.\n",
      "Computing twiss for beam 2...\n",
      "Compiling ContextCpu kernels...\n",
      "Done compiling ContextCpu kernels.\n",
      "Done computing twiss.\n"
     ]
    }
   ],
   "source": [
    "aper = Data(path_b1=home_path+'/test_data/Martas_injection_b1.json')"
   ]
  },
  {
   "cell_type": "code",
   "execution_count": 6,
   "id": "390c4caa",
   "metadata": {},
   "outputs": [],
   "source": [
    "aper.load_aperture(path_b1=home_path+'/test_data/all_optics_B1.tfs')"
   ]
  },
  {
   "cell_type": "code",
   "execution_count": 7,
   "id": "61f3efc1",
   "metadata": {},
   "outputs": [],
   "source": [
    "aper.envelope(11)"
   ]
  },
  {
   "cell_type": "code",
   "execution_count": 22,
   "id": "1230b422",
   "metadata": {},
   "outputs": [],
   "source": [
    "aper.load_elements(path=home_path+'/test_data/thick_all_optics_B1.tfs')"
   ]
  },
  {
   "cell_type": "code",
   "execution_count": 9,
   "id": "2ee64ed5",
   "metadata": {
    "scrolled": true
   },
   "outputs": [],
   "source": [
    "data = BPMData(spark, datetime(2023, 4, 21, 10, 53, 15))"
   ]
  },
  {
   "cell_type": "code",
   "execution_count": 10,
   "id": "6d9ec51b",
   "metadata": {},
   "outputs": [],
   "source": [
    "col_data = CollimatorsData(spark, datetime(2023, 4, 21, 10, 53, 15))"
   ]
  },
  {
   "cell_type": "code",
   "execution_count": 8,
   "id": "3499a927",
   "metadata": {},
   "outputs": [],
   "source": [
    "from aper_package.plotting import add_velo\n",
    "trace = add_velo(aper)"
   ]
  },
  {
   "cell_type": "code",
   "execution_count": 10,
   "id": "08e15b2a",
   "metadata": {
    "scrolled": false
   },
   "outputs": [
    {
     "data": {
      "application/vnd.jupyter.widget-view+json": {
       "model_id": "21fb1b7d6f074f1a84eb1a7a9a93b0dd",
       "version_major": 2,
       "version_minor": 0
      },
      "text/plain": [
       "VBox(children=(HBox(children=(Dropdown(description='Select knob:', options=('on_x1', 'on_x2h', 'on_x2v', 'on_x…"
      ]
     },
     "metadata": {},
     "output_type": "display_data"
    }
   ],
   "source": [
    "plot(aper, 'v', width=1600, additional_traces=[trace])"
   ]
  },
  {
   "cell_type": "code",
   "execution_count": 12,
   "id": "d73c9459",
   "metadata": {},
   "outputs": [
    {
     "data": {
      "application/vnd.jupyter.widget-view+json": {
       "model_id": "2b0d3ee47a254ca5882ca811626458a1",
       "version_major": 2,
       "version_minor": 0
      },
      "text/plain": [
       "VBox(children=(HBox(children=(Dropdown(description='Select knob:', options=('on_x1', 'on_x2h', 'on_x2v', 'on_x…"
      ]
     },
     "metadata": {},
     "output_type": "display_data"
    }
   ],
   "source": [
    "plot(aper, 'h', BPM_data=data, collimator_data=col_data, width=1600)"
   ]
  }
 ],
 "metadata": {
  "@webio": {
   "lastCommId": null,
   "lastKernelId": null
  },
  "kernelspec": {
   "display_name": "Python 3",
   "language": "python",
   "name": "python3"
  },
  "language_info": {
   "codemirror_mode": {
    "name": "ipython",
    "version": 3
   },
   "file_extension": ".py",
   "mimetype": "text/x-python",
   "name": "python",
   "nbconvert_exporter": "python",
   "pygments_lexer": "ipython3",
   "version": "3.9.12"
  },
  "sparkconnect": {
   "bundled_options": [
    "NXCALS",
    "SparkMetrics"
   ],
   "list_of_options": []
  }
 },
 "nbformat": 4,
 "nbformat_minor": 5
}
