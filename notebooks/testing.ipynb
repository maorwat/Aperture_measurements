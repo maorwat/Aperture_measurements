{
 "cells": [
  {
   "cell_type": "code",
   "execution_count": 1,
   "id": "77ebee03",
   "metadata": {},
   "outputs": [],
   "source": [
    "%load_ext autoreload\n",
    "%autoreload 2\n",
    "\n",
    "from pathlib import Path\n",
    "import sys\n",
    "import re\n",
    "\n",
    "home_path = str(Path.cwd().parent)\n",
    "sys.path.append(home_path)\n",
    "sys.path.append('/eos/home-i03/m/morwat/.local/lib/python3.9/site-packages/')"
   ]
  },
  {
   "cell_type": "code",
   "execution_count": 2,
   "id": "23361faa",
   "metadata": {},
   "outputs": [],
   "source": [
    "from aper_package.interactive_tool import InteractiveTool"
   ]
  },
  {
   "cell_type": "code",
   "execution_count": 3,
   "id": "e76f05ac",
   "metadata": {
    "scrolled": false
   },
   "outputs": [],
   "source": [
    "tool = InteractiveTool(initial_path=home_path+'/test_data')"
   ]
  },
  {
   "cell_type": "code",
   "execution_count": 4,
   "id": "e4cd2a60",
   "metadata": {
    "scrolled": false
   },
   "outputs": [
    {
     "data": {
      "application/vnd.jupyter.widget-view+json": {
       "model_id": "689821c12f384b6091abe99026f1bc27",
       "version_major": 2,
       "version_minor": 0
      },
      "text/plain": [
       "VBox(children=(Tab(children=(VBox(children=(HBox(children=(HBox(children=(Label(value='Select Line File:'), Fi…"
      ]
     },
     "metadata": {},
     "output_type": "display_data"
    },
    {
     "name": "stdout",
     "output_type": "stream",
     "text": [
      "Loading new JSON data...                                                                            \r"
     ]
    },
    {
     "data": {
      "application/vnd.jupyter.widget-view+json": {
       "model_id": "a482c7a4bc55470d8ff41baac47cda46",
       "version_major": 2,
       "version_minor": 0
      },
      "text/plain": [
       "Loading line from dict:   0%|          | 0/102050 [00:00<?, ?it/s]"
      ]
     },
     "metadata": {},
     "output_type": "display_data"
    },
    {
     "name": "stdout",
     "output_type": "stream",
     "text": [
      "Done loading line from dict.           \n"
     ]
    },
    {
     "data": {
      "application/vnd.jupyter.widget-view+json": {
       "model_id": "47047033838a4761992299f90d76dec7",
       "version_major": 2,
       "version_minor": 0
      },
      "text/plain": [
       "Loading line from dict:   0%|          | 0/102122 [00:00<?, ?it/s]"
      ]
     },
     "metadata": {},
     "output_type": "display_data"
    },
    {
     "name": "stdout",
     "output_type": "stream",
     "text": [
      "Done loading line from dict.           \n",
      "Compiling ContextCpu kernels...                                                                          \n",
      "Done compiling ContextCpu kernels.\n",
      "Compiling ContextCpu kernels...                                                                          \n",
      "Done compiling ContextCpu kernels.\n",
      "Setting envelope size to 4.0...                                                                            \r"
     ]
    }
   ],
   "source": [
    "tool.show()"
   ]
  },
  {
   "cell_type": "code",
   "execution_count": null,
   "id": "e89c40cd",
   "metadata": {},
   "outputs": [],
   "source": []
  }
 ],
 "metadata": {
  "@webio": {
   "lastCommId": null,
   "lastKernelId": null
  },
  "kernelspec": {
   "display_name": "Python 3",
   "language": "python",
   "name": "python3"
  },
  "language_info": {
   "codemirror_mode": {
    "name": "ipython",
    "version": 3
   },
   "file_extension": ".py",
   "mimetype": "text/x-python",
   "name": "python",
   "nbconvert_exporter": "python",
   "pygments_lexer": "ipython3",
   "version": "3.9.12"
  },
  "sparkconnect": {
   "bundled_options": [
    "NXCALS",
    "SparkMetrics"
   ],
   "list_of_options": []
  }
 },
 "nbformat": 4,
 "nbformat_minor": 5
}
