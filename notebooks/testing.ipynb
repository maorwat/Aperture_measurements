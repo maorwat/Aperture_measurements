{
 "cells": [
  {
   "cell_type": "code",
   "execution_count": 1,
   "id": "77ebee03",
   "metadata": {},
   "outputs": [],
   "source": [
    "from pathlib import Path\n",
    "import sys\n",
    "\n",
    "home_path = str(Path.cwd().parent)\n",
    "sys.path.append(home_path)\n",
    "sys.path.append('/eos/home-i03/m/morwat/.local/lib/python3.9/site-packages/')"
   ]
  },
  {
   "cell_type": "code",
   "execution_count": 2,
   "id": "adddff48",
   "metadata": {},
   "outputs": [],
   "source": [
    "from aper_package.aperture_data import Data\n",
    "from aper_package.plotting import plot\n",
    "\n",
    "from aper_package.timber_data import BPMData\n",
    "from aper_package.timber_data import CollimatorsData"
   ]
  },
  {
   "cell_type": "code",
   "execution_count": 3,
   "id": "5893e58a",
   "metadata": {},
   "outputs": [],
   "source": [
    "from datetime import datetime"
   ]
  },
  {
   "cell_type": "code",
   "execution_count": 4,
   "id": "a0a28f91",
   "metadata": {
    "scrolled": true
   },
   "outputs": [
    {
     "data": {
      "application/vnd.jupyter.widget-view+json": {
       "model_id": "68e02d97cf294e198465d5edca717a20",
       "version_major": 2,
       "version_minor": 0
      },
      "text/plain": [
       "Loading line from dict:   0%|          | 0/102050 [00:00<?, ?it/s]"
      ]
     },
     "metadata": {},
     "output_type": "display_data"
    },
    {
     "name": "stdout",
     "output_type": "stream",
     "text": [
      "Done loading line from dict.           \n"
     ]
    },
    {
     "data": {
      "application/vnd.jupyter.widget-view+json": {
       "model_id": "7a42a04990e542b4a7bc96d5fa52cc6b",
       "version_major": 2,
       "version_minor": 0
      },
      "text/plain": [
       "Loading line from dict:   0%|          | 0/102122 [00:00<?, ?it/s]"
      ]
     },
     "metadata": {},
     "output_type": "display_data"
    },
    {
     "name": "stdout",
     "output_type": "stream",
     "text": [
      "Done loading line from dict.           \n",
      "Computing twiss for beam 1...\n",
      "Compiling ContextCpu kernels...\n",
      "Done compiling ContextCpu kernels.\n",
      "Computing twiss for beam 2...\n",
      "Compiling ContextCpu kernels...\n",
      "Done compiling ContextCpu kernels.\n",
      "Done computing twiss.\n"
     ]
    }
   ],
   "source": [
    "aper = Data(path_b1=home_path+'/test_data/Martas_injection_b1.json')"
   ]
  },
  {
   "cell_type": "code",
   "execution_count": 5,
   "id": "390c4caa",
   "metadata": {},
   "outputs": [],
   "source": [
    "aper.load_aperture(path_b1=home_path+'/test_data/all_optics_B1.tfs')"
   ]
  },
  {
   "cell_type": "code",
   "execution_count": 6,
   "id": "ba6b66d6",
   "metadata": {},
   "outputs": [
    {
     "data": {
      "application/vnd.jupyter.widget-view+json": {
       "model_id": "8192652da15741ac9237f993f5108124",
       "version_major": 2,
       "version_minor": 0
      },
      "text/plain": [
       "VBox(children=(HBox(children=(Dropdown(description='Select knob:', options=('on_a1', 'on_a1_aux', 'on_a2', 'on…"
      ]
     },
     "metadata": {},
     "output_type": "display_data"
    }
   ],
   "source": [
    "plot(aper, 'h')"
   ]
  },
  {
   "cell_type": "code",
   "execution_count": 7,
   "id": "f119a17e",
   "metadata": {},
   "outputs": [],
   "source": [
    "data = BPMData(spark)\n",
    "col_data = CollimatorsData(spark)"
   ]
  },
  {
   "cell_type": "code",
   "execution_count": 14,
   "id": "8390b3cd",
   "metadata": {},
   "outputs": [],
   "source": [
    "aper.load_elements(path=home_path+'/test_data/thick_all_optics_B1.tfs')"
   ]
  },
  {
   "cell_type": "code",
   "execution_count": 9,
   "id": "27e2b4c4",
   "metadata": {
    "scrolled": false
   },
   "outputs": [
    {
     "data": {
      "application/vnd.jupyter.widget-view+json": {
       "model_id": "776ceda7e4c54fd5a37a74556cba0d72",
       "version_major": 2,
       "version_minor": 0
      },
      "text/plain": [
       "VBox(children=(HBox(children=(Text(value='', description='First element:', layout=Layout(width='300px'), place…"
      ]
     },
     "metadata": {},
     "output_type": "display_data"
    },
    {
     "name": "stderr",
     "output_type": "stream",
     "text": [
      "No such comm: 2b63387d04294e96855d53b00672bfbc\n"
     ]
    }
   ],
   "source": [
    "plot(aper, 'h', width=1600, BPM_data=data, collimator_data=col_data)"
   ]
  },
  {
   "cell_type": "code",
   "execution_count": 22,
   "id": "cd572e29",
   "metadata": {},
   "outputs": [
    {
     "name": "stdout",
     "output_type": "stream",
     "text": [
      "yes\n"
     ]
    }
   ],
   "source": [
    "if not None:\n",
    "    print('yes')"
   ]
  },
  {
   "cell_type": "code",
   "execution_count": 25,
   "id": "6588b9cd",
   "metadata": {},
   "outputs": [
    {
     "data": {
      "application/vnd.jupyter.widget-view+json": {
       "model_id": "6da90ea7a768450b96c8091dc5512346",
       "version_major": 2,
       "version_minor": 0
      },
      "text/plain": [
       "VBox(children=(HBox(children=(FileChooser(path='/eos/home-i03/m/morwat/aperture_measurements', filename='', ti…"
      ]
     },
     "metadata": {},
     "output_type": "display_data"
    }
   ],
   "source": [
    "import plotly.graph_objects as go\n",
    "from plotly.subplots import make_subplots\n",
    "from ipywidgets import widgets, VBox, HBox, Button, Layout, FloatText, DatePicker, Text\n",
    "\n",
    "# Sample data\n",
    "x_values = [1, 2, 3, 4, 5]\n",
    "y_values = [10, 11, 12, 13, 14]\n",
    "\n",
    "# Create a scatter plot\n",
    "fig = go.Figure(data=go.Scatter(x=x_values, y=y_values, mode='markers'))\n",
    "\n",
    "# Customize the layout\n",
    "fig.update_layout(\n",
    "    title=\"Simple Scatter Plot\",\n",
    "    xaxis_title=\"X Axis\",\n",
    "    yaxis_title=\"Y Axis\",\n",
    "    width=1600\n",
    ")\n",
    "\n",
    "# Create a dropdown to select a knob\n",
    "knob_dropdown = widgets.Dropdown(\n",
    "        options=aper.knobs['knob'].to_list(),\n",
    "        description='Select knob:',\n",
    "        disabled=False)\n",
    "\n",
    "# Button to add selection\n",
    "add_button = Button(description=\"Add\", style=widgets.ButtonStyle(button_color='rgb(166, 216, 84)'))\n",
    "# Button to remove selection\n",
    "remove_button = Button(description=\"Remove\", style=widgets.ButtonStyle(button_color='rgb(237, 100, 90)'))\n",
    "# Button to apply selection and update graph\n",
    "apply_button = Button(description=\"Apply\", style=widgets.ButtonStyle(button_color='lightblue'))\n",
    "# Button to shift the graph\n",
    "cycle_button = Button(description=\"Cycle\", style=widgets.ButtonStyle(button_color='pink'))\n",
    "# Button to reset knobs    \n",
    "reset_button = Button(description=\"Reset knobs\", style=widgets.ButtonStyle(button_color='rgb(255, 242, 174)'))\n",
    "# Buttons to load timber data\n",
    "load_BPMs_button = Button(description=\"Load BPMs\", style=widgets.ButtonStyle(button_color='pink'))\n",
    "load_cols_button = Button(description=\"Load collimators\", style=widgets.ButtonStyle(button_color='pink'))\n",
    "\n",
    "# Button to change envelope size\n",
    "envelope_button = Button(description=\"Apply\", style=widgets.ButtonStyle(button_color='pink'))\n",
    "\n",
    "initial_path = home_path  # Replace with your actual initial path\n",
    "file_chooser1 = FileChooser(initial_path)\n",
    "file_chooser2 = FileChooser(initial_path)\n",
    "\n",
    "# Create date and time input widgets\n",
    "date_picker = DatePicker(\n",
    "        description='Select Date:',\n",
    "        style={'description_width': 'initial'},\n",
    "        layout=Layout(width='300px')\n",
    "    )\n",
    "\n",
    "time_input = Text(\n",
    "        description='Enter Time (HH:MM:SS):',\n",
    "        placeholder='10:53:15',\n",
    "        style={'description_width': 'initial'},\n",
    "        layout=Layout(width='300px')\n",
    "    )\n",
    "\n",
    "# To specify cycle start\n",
    "envelope_input = widgets.FloatText(\n",
    "        value=0,                  # Initial value (empty string)\n",
    "        description='Size of envelope [σ]:',      # Label for the widget \n",
    "        style={'description_width': 'initial'},  # Adjust the width of the description label\n",
    "        layout=widgets.Layout(width='300px')  # Set the width of the widget\n",
    "    )\n",
    "\n",
    "\n",
    "# To specify cycle start\n",
    "cycle_input = widgets.Text(\n",
    "        value='',                  # Initial value (empty string)\n",
    "        description='First element:',      # Label for the widget\n",
    "        placeholder='e. g. ip3',  # Placeholder text when the input is empty\n",
    "        style={'description_width': 'initial'},  # Adjust the width of the description label\n",
    "        layout=widgets.Layout(width='300px')  # Set the width of the widget\n",
    "    )\n",
    "\n",
    "# Create an empty VBox container for the graph and widgets\n",
    "graph_container = VBox(layout=Layout(\n",
    "        justify_content='center',\n",
    "        align_items='center',\n",
    "        width='100%',\n",
    "        padding='10px',\n",
    "        border='solid 2px #eee'\n",
    "    ))\n",
    "    \n",
    "# Create a box to store selected knobs\n",
    "knob_box = VBox(layout=Layout(\n",
    "        justify_content='center',\n",
    "        align_items='center',\n",
    "        width='100%',\n",
    "        padding='10px',\n",
    "        border='solid 2px #eee'\n",
    "    ))\n",
    "\n",
    "# Organize the layout with the FileChooser widget\n",
    "new_controls = HBox(\n",
    "    [file_chooser1, file_chooser2],\n",
    "    layout=Layout(\n",
    "        justify_content='center',\n",
    "        align_items='center',\n",
    "        width='100%',\n",
    "        padding='10px',\n",
    "        border='solid 1px #ccc',\n",
    "        background_color='#f9f9f9'\n",
    "    )\n",
    ")\n",
    "\n",
    "\n",
    "# Arrange knob dropdown and buttons in a horizontal layout\n",
    "controls = HBox(\n",
    "        [cycle_input, cycle_button, knob_dropdown, add_button, remove_button, apply_button, reset_button],\n",
    "        layout=Layout(\n",
    "            justify_content='space-around',  # Distribute space evenly\n",
    "            align_items='center',            # Center align all items\n",
    "            width='100%',\n",
    "            padding='10px',                  # Add padding around controls\n",
    "            border='solid 2px #ccc'\n",
    "        )\n",
    "    )\n",
    "\n",
    "timber_controls = [date_picker, time_input, load_BPMs_button, load_cols_button]\n",
    "\n",
    "# Arrange knob dropdown and buttons in a horizontal layout\n",
    "more_controls = HBox(\n",
    "        [envelope_input, envelope_button]+timber_controls,\n",
    "        layout=Layout(\n",
    "            justify_content='space-around',  # Distribute space evenly\n",
    "            align_items='center',            # Center align all items\n",
    "            width='100%',\n",
    "            padding='10px',                  # Add padding around controls\n",
    "            border='solid 2px #ccc'\n",
    "        )\n",
    "    )\n",
    "\n",
    "# Change to a widget\n",
    "fig_widget = go.FigureWidget(fig)\n",
    "    \n",
    "# Put the figure in the graph container\n",
    "graph_container.children = [fig_widget]\n",
    "    \n",
    "# Combine everything into the main VBox layout\n",
    "everything = VBox(\n",
    "        [new_controls, controls, knob_box, more_controls, graph_container],\n",
    "        layout=Layout(\n",
    "            justify_content='center',\n",
    "            align_items='center',\n",
    "            width='80%',                     # Limit width to 80% of the page\n",
    "            margin='0 auto',                 # Center the VBox horizontally\n",
    "            padding='20px',                  # Add padding around the whole container\n",
    "            border='solid 2px #ddd'\n",
    "        )\n",
    "    )\n",
    "\n",
    "# Display the widgets and the graph\n",
    "display(everything)"
   ]
  },
  {
   "cell_type": "code",
   "execution_count": 30,
   "id": "7f134d73",
   "metadata": {},
   "outputs": [
    {
     "data": {
      "application/vnd.jupyter.widget-view+json": {
       "model_id": "2ee57a011e8a441b86ec2dacce8b6ad2",
       "version_major": 2,
       "version_minor": 0
      },
      "text/plain": [
       "VBox(children=(HBox(children=(Dropdown(description='Select knob:', options=('on_a1', 'on_a1_aux', 'on_a2', 'on…"
      ]
     },
     "metadata": {},
     "output_type": "display_data"
    }
   ],
   "source": [
    "import plotly.graph_objects as go\n",
    "from plotly.subplots import make_subplots\n",
    "from ipywidgets import widgets, VBox, HBox, Button, Layout, FloatText, DatePicker, Text\n",
    "\n",
    "# Sample data\n",
    "x_values = [1, 2, 3, 4, 5]\n",
    "y_values = [10, 11, 12, 13, 14]\n",
    "\n",
    "# Create a scatter plot\n",
    "fig = go.Figure(data=go.Scatter(x=x_values, y=y_values, mode='markers'))\n",
    "\n",
    "# Customize the layout\n",
    "fig.update_layout(\n",
    "    title=\"Simple Scatter Plot\",\n",
    "    xaxis_title=\"X Axis\",\n",
    "    yaxis_title=\"Y Axis\",\n",
    "    width=1600\n",
    ")\n",
    "\n",
    "# Create a dropdown to select a knob\n",
    "knob_dropdown = widgets.Dropdown(\n",
    "        options=aper.knobs['knob'].to_list(),\n",
    "        description='Select knob:',\n",
    "        disabled=False)\n",
    "\n",
    "# Button to add selection\n",
    "add_button = Button(description=\"Add\", style=widgets.ButtonStyle(button_color='rgb(166, 216, 84)'))\n",
    "# Button to remove selection\n",
    "remove_button = Button(description=\"Remove\", style=widgets.ButtonStyle(button_color='rgb(237, 100, 90)'))\n",
    "# Button to apply selection and update graph\n",
    "apply_button = Button(description=\"Apply\", style=widgets.ButtonStyle(button_color='lightblue'))\n",
    "# Button to shift the graph\n",
    "cycle_button = Button(description=\"Cycle\", style=widgets.ButtonStyle(button_color='pink'))\n",
    "# Button to reset knobs    \n",
    "reset_button = Button(description=\"Reset knobs\", style=widgets.ButtonStyle(button_color='rgb(255, 242, 174)'))\n",
    "# Buttons to load timber data\n",
    "load_BPMs_button = Button(description=\"Load BPMs\", style=widgets.ButtonStyle(button_color='pink'))\n",
    "load_cols_button = Button(description=\"Load collimators\", style=widgets.ButtonStyle(button_color='pink'))\n",
    "\n",
    "# Button to change envelope size\n",
    "envelope_button = Button(description=\"Apply\", style=widgets.ButtonStyle(button_color='pink'))\n",
    "\n",
    "initial_path = home_path  # Replace with your actual initial path\n",
    "file_chooser1 = FileChooser(initial_path)\n",
    "file_chooser2 = FileChooser(initial_path)\n",
    "\n",
    "# Create date and time input widgets\n",
    "date_picker = DatePicker(\n",
    "        description='Select Date:',\n",
    "        style={'description_width': 'initial'},\n",
    "        layout=Layout(width='300px')\n",
    "    )\n",
    "\n",
    "time_input = Text(\n",
    "        description='Enter Time (HH:MM:SS):',\n",
    "        placeholder='10:53:15',\n",
    "        style={'description_width': 'initial'},\n",
    "        layout=Layout(width='300px')\n",
    "    )\n",
    "\n",
    "# To specify cycle start\n",
    "envelope_input = widgets.FloatText(\n",
    "        value=0,                  # Initial value (empty string)\n",
    "        description='Size of envelope [σ]:',      # Label for the widget \n",
    "        style={'description_width': 'initial'},  # Adjust the width of the description label\n",
    "        layout=widgets.Layout(width='300px')  # Set the width of the widget\n",
    "    )\n",
    "\n",
    "\n",
    "# To specify cycle start\n",
    "cycle_input = widgets.Text(\n",
    "        value='',                  # Initial value (empty string)\n",
    "        description='First element:',      # Label for the widget\n",
    "        placeholder='e. g. ip3',  # Placeholder text when the input is empty\n",
    "        style={'description_width': 'initial'},  # Adjust the width of the description label\n",
    "        layout=widgets.Layout(width='300px')  # Set the width of the widget\n",
    "    )\n",
    "\n",
    "# Create an empty VBox container for the graph and widgets\n",
    "graph_container = VBox(layout=Layout(\n",
    "        justify_content='center',\n",
    "        align_items='center',\n",
    "        width='100%',\n",
    "        padding='10px',\n",
    "        border='solid 2px #eee'\n",
    "    ))\n",
    "    \n",
    "# Create a box to store selected knobs\n",
    "knob_box = VBox(layout=Layout(\n",
    "        justify_content='center',\n",
    "        align_items='center',\n",
    "        width='100%',\n",
    "        padding='10px',\n",
    "        border='solid 2px #eee'\n",
    "    ))\n",
    "\n",
    "\n",
    "# Arrange knob dropdown and buttons in a horizontal layout\n",
    "controls = HBox(\n",
    "        [knob_dropdown, add_button, remove_button, apply_button, reset_button],\n",
    "        layout=Layout(\n",
    "            justify_content='space-around',  # Distribute space evenly\n",
    "            align_items='center',            # Center align all items\n",
    "            width='100%',\n",
    "            padding='10px',                  # Add padding around controls\n",
    "            border='solid 2px #ccc'\n",
    "        )\n",
    "    )\n",
    "\n",
    "timber_controls = [date_picker, time_input, load_BPMs_button, load_cols_button]\n",
    "\n",
    "# Arrange knob dropdown and buttons in a horizontal layout\n",
    "more_controls = HBox(\n",
    "        [file_chooser1, file_chooser2, cycle_input, cycle_button, envelope_input, envelope_button],\n",
    "        layout=Layout(\n",
    "            justify_content='space-around',  # Distribute space evenly\n",
    "            align_items='center',            # Center align all items\n",
    "            width='100%',\n",
    "            padding='10px',                  # Add padding around controls\n",
    "            border='solid 2px #ccc'\n",
    "        )\n",
    "    )\n",
    "\n",
    "# Arrange knob dropdown and buttons in a horizontal layout\n",
    "even_more_controls = HBox(\n",
    "        timber_controls,\n",
    "        layout=Layout(\n",
    "            justify_content='space-around',  # Distribute space evenly\n",
    "            align_items='center',            # Center align all items\n",
    "            width='100%',\n",
    "            padding='10px',                  # Add padding around controls\n",
    "            border='solid 2px #ccc'\n",
    "        )\n",
    "    )\n",
    "\n",
    "\n",
    "# Change to a widget\n",
    "fig_widget = go.FigureWidget(fig)\n",
    "    \n",
    "# Put the figure in the graph container\n",
    "graph_container.children = [fig_widget]\n",
    "    \n",
    "# Combine everything into the main VBox layout\n",
    "everything = VBox(\n",
    "        [controls, knob_box, more_controls, even_more_controls, graph_container],\n",
    "        layout=Layout(\n",
    "            justify_content='center',\n",
    "            align_items='center',\n",
    "            width='80%',                     # Limit width to 80% of the page\n",
    "            margin='0 auto',                 # Center the VBox horizontally\n",
    "            padding='20px',                  # Add padding around the whole container\n",
    "            border='solid 2px #ddd'\n",
    "        )\n",
    "    )\n",
    "\n",
    "# Display the widgets and the graph\n",
    "display(everything)"
   ]
  },
  {
   "cell_type": "code",
   "execution_count": null,
   "id": "45ed653a",
   "metadata": {},
   "outputs": [],
   "source": []
  }
 ],
 "metadata": {
  "@webio": {
   "lastCommId": null,
   "lastKernelId": null
  },
  "kernelspec": {
   "display_name": "Python 3",
   "language": "python",
   "name": "python3"
  },
  "language_info": {
   "codemirror_mode": {
    "name": "ipython",
    "version": 3
   },
   "file_extension": ".py",
   "mimetype": "text/x-python",
   "name": "python",
   "nbconvert_exporter": "python",
   "pygments_lexer": "ipython3",
   "version": "3.9.12"
  },
  "sparkconnect": {
   "bundled_options": [
    "NXCALS",
    "SparkMetrics"
   ],
   "list_of_options": []
  }
 },
 "nbformat": 4,
 "nbformat_minor": 5
}
