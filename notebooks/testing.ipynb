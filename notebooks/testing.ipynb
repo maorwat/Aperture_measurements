{
 "cells": [
  {
   "cell_type": "code",
   "execution_count": 1,
   "id": "77ebee03",
   "metadata": {},
   "outputs": [],
   "source": [
    "from pathlib import Path\n",
    "import sys\n",
    "\n",
    "home_path = str(Path.cwd().parent)\n",
    "sys.path.append(home_path)\n",
    "sys.path.append('/eos/home-i03/m/morwat/.local/lib/python3.9/site-packages/')"
   ]
  },
  {
   "cell_type": "code",
   "execution_count": 2,
   "id": "23361faa",
   "metadata": {},
   "outputs": [],
   "source": [
    "from aper_package.interactive_tool import InteractiveTool"
   ]
  },
  {
   "cell_type": "code",
   "execution_count": 3,
   "id": "e76f05ac",
   "metadata": {
    "scrolled": false
   },
   "outputs": [
    {
     "ename": "TypeError",
     "evalue": "initialise_timber_data() missing 1 required positional argument: 'spark'",
     "output_type": "error",
     "traceback": [
      "\u001b[0;31m---------------------------------------------------------------------------\u001b[0m",
      "\u001b[0;31mTypeError\u001b[0m                                 Traceback (most recent call last)",
      "\u001b[0;32m/tmp/ipykernel_12205/397646012.py\u001b[0m in \u001b[0;36m<module>\u001b[0;34m\u001b[0m\n\u001b[0;32m----> 1\u001b[0;31m \u001b[0mtool\u001b[0m \u001b[0;34m=\u001b[0m \u001b[0mInteractiveTool\u001b[0m\u001b[0;34m(\u001b[0m\u001b[0;34m)\u001b[0m\u001b[0;34m\u001b[0m\u001b[0;34m\u001b[0m\u001b[0m\n\u001b[0m",
      "\u001b[0;32m/eos/home-i03/m/morwat/aperture_measurements/aper_package/interactive_tool.py\u001b[0m in \u001b[0;36m__init__\u001b[0;34m(self, line_b1_path, initial_path, spark, plane, additional_traces)\u001b[0m\n\u001b[1;32m     51\u001b[0m \u001b[0;34m\u001b[0m\u001b[0m\n\u001b[1;32m     52\u001b[0m         \u001b[0;31m# Put all the widgets together into a nice layout\u001b[0m\u001b[0;34m\u001b[0m\u001b[0;34m\u001b[0m\u001b[0m\n\u001b[0;32m---> 53\u001b[0;31m         \u001b[0mself\u001b[0m\u001b[0;34m.\u001b[0m\u001b[0mgroup_controls_into_rows\u001b[0m\u001b[0;34m(\u001b[0m\u001b[0;34m)\u001b[0m\u001b[0;34m\u001b[0m\u001b[0;34m\u001b[0m\u001b[0m\n\u001b[0m\u001b[1;32m     54\u001b[0m         \u001b[0mself\u001b[0m\u001b[0;34m.\u001b[0m\u001b[0mdefine_widget_layout\u001b[0m\u001b[0;34m(\u001b[0m\u001b[0;34m)\u001b[0m\u001b[0;34m\u001b[0m\u001b[0;34m\u001b[0m\u001b[0m\n\u001b[1;32m     55\u001b[0m \u001b[0;34m\u001b[0m\u001b[0m\n",
      "\u001b[0;32m/eos/home-i03/m/morwat/aperture_measurements/aper_package/interactive_tool.py\u001b[0m in \u001b[0;36mgroup_controls_into_rows\u001b[0;34m(self)\u001b[0m\n\u001b[1;32m    169\u001b[0m         \u001b[0mself\u001b[0m\u001b[0;34m.\u001b[0m\u001b[0msecond_row_controls\u001b[0m \u001b[0;34m=\u001b[0m \u001b[0;34m[\u001b[0m\u001b[0mself\u001b[0m\u001b[0;34m.\u001b[0m\u001b[0mcycle_input\u001b[0m\u001b[0;34m,\u001b[0m \u001b[0mself\u001b[0m\u001b[0;34m.\u001b[0m\u001b[0mcycle_button\u001b[0m\u001b[0;34m,\u001b[0m \u001b[0mself\u001b[0m\u001b[0;34m.\u001b[0m\u001b[0menvelope_input\u001b[0m\u001b[0;34m,\u001b[0m \u001b[0mself\u001b[0m\u001b[0;34m.\u001b[0m\u001b[0menvelope_button\u001b[0m\u001b[0;34m,\u001b[0m \u001b[0mself\u001b[0m\u001b[0;34m.\u001b[0m\u001b[0mplane_dropdown\u001b[0m\u001b[0;34m,\u001b[0m \u001b[0mself\u001b[0m\u001b[0;34m.\u001b[0m\u001b[0mplane_button\u001b[0m\u001b[0;34m]\u001b[0m\u001b[0;34m\u001b[0m\u001b[0;34m\u001b[0m\u001b[0m\n\u001b[1;32m    170\u001b[0m         \u001b[0mself\u001b[0m\u001b[0;34m.\u001b[0m\u001b[0mwidgets\u001b[0m \u001b[0;34m=\u001b[0m \u001b[0mself\u001b[0m\u001b[0;34m.\u001b[0m\u001b[0mfile_chooser_controls\u001b[0m\u001b[0;34m+\u001b[0m\u001b[0mself\u001b[0m\u001b[0;34m.\u001b[0m\u001b[0mfirst_row_controls\u001b[0m\u001b[0;34m+\u001b[0m\u001b[0mself\u001b[0m\u001b[0;34m.\u001b[0m\u001b[0msecond_row_controls\u001b[0m\u001b[0;34m+\u001b[0m\u001b[0mself\u001b[0m\u001b[0;34m.\u001b[0m\u001b[0msecond_row_controls\u001b[0m\u001b[0;34m\u001b[0m\u001b[0;34m\u001b[0m\u001b[0m\n\u001b[0;32m--> 171\u001b[0;31m         \u001b[0mself\u001b[0m\u001b[0;34m.\u001b[0m\u001b[0mtimber_row_controls\u001b[0m \u001b[0;34m=\u001b[0m \u001b[0mself\u001b[0m\u001b[0;34m.\u001b[0m\u001b[0minitialise_timber_data\u001b[0m\u001b[0;34m(\u001b[0m\u001b[0;34m)\u001b[0m \u001b[0;31m# If spark was not given this will return a None\u001b[0m\u001b[0;34m\u001b[0m\u001b[0;34m\u001b[0m\u001b[0m\n\u001b[0m\u001b[1;32m    172\u001b[0m \u001b[0;34m\u001b[0m\u001b[0m\n\u001b[1;32m    173\u001b[0m     \u001b[0;32mdef\u001b[0m \u001b[0minitialise_timber_data\u001b[0m\u001b[0;34m(\u001b[0m\u001b[0mself\u001b[0m\u001b[0;34m,\u001b[0m \u001b[0mspark\u001b[0m\u001b[0;34m)\u001b[0m\u001b[0;34m:\u001b[0m\u001b[0;34m\u001b[0m\u001b[0;34m\u001b[0m\u001b[0m\n",
      "\u001b[0;31mTypeError\u001b[0m: initialise_timber_data() missing 1 required positional argument: 'spark'"
     ]
    }
   ],
   "source": [
    "tool = InteractiveTool()"
   ]
  },
  {
   "cell_type": "code",
   "execution_count": null,
   "id": "dd53e059",
   "metadata": {
    "scrolled": false
   },
   "outputs": [],
   "source": [
    "tool.show()"
   ]
  },
  {
   "cell_type": "code",
   "execution_count": 3,
   "id": "6588b9cd",
   "metadata": {
    "scrolled": true
   },
   "outputs": [
    {
     "data": {
      "application/vnd.jupyter.widget-view+json": {
       "model_id": "84a3fbf2c96646228de7516993e0e8a1",
       "version_major": 2,
       "version_minor": 0
      },
      "text/plain": [
       "VBox(children=(HBox(children=(FileChooser(path='/eos/home-i03/m/morwat/aperture_measurements', filename='', ti…"
      ]
     },
     "metadata": {},
     "output_type": "display_data"
    }
   ],
   "source": [
    "import plotly.graph_objects as go\n",
    "from plotly.subplots import make_subplots\n",
    "from ipywidgets import widgets, VBox, HBox, Button, Layout, FloatText, DatePicker, Text\n",
    "from ipyfilechooser import FileChooser\n",
    "\n",
    "# Sample data\n",
    "x_values = [1, 2, 3, 4, 5]\n",
    "y_values = [10, 11, 12, 13, 14]\n",
    "\n",
    "# Create a scatter plot\n",
    "fig = go.Figure(data=go.Scatter(x=x_values, y=y_values, mode='markers'))\n",
    "\n",
    "# Customize the layout\n",
    "fig.update_layout(\n",
    "    title=\"Simple Scatter Plot\",\n",
    "    xaxis_title=\"X Axis\",\n",
    "    yaxis_title=\"Y Axis\",\n",
    "    width=1600\n",
    ")\n",
    "\n",
    "# Create a dropdown to select a knob\n",
    "knob_dropdown = widgets.Dropdown(\n",
    "        options=['a', 'b', 'c'],\n",
    "        description='Select knob:',\n",
    "        disabled=False)\n",
    "\n",
    "# Button to add selection\n",
    "add_button = Button(description=\"Add\", style=widgets.ButtonStyle(button_color='rgb(179, 222, 105)'))\n",
    "# Button to remove selection\n",
    "remove_button = Button(description=\"Remove\", style=widgets.ButtonStyle(button_color='rgb(249, 123, 114)'))\n",
    "# Button to apply selection and update graph\n",
    "apply_button = Button(description=\"Apply\", style=widgets.ButtonStyle(button_color='lightblue'))\n",
    "# Button to shift the graph\n",
    "cycle_button = Button(description=\"Cycle\", style=widgets.ButtonStyle(button_color='pink'))\n",
    "# Button to reset knobs    \n",
    "reset_button = Button(description=\"Reset knobs\", style=widgets.ButtonStyle(button_color='rgb(255, 242, 174)'))\n",
    "# Buttons to load timber data\n",
    "load_BPMs_button = Button(description=\"Load BPMs\", style=widgets.ButtonStyle(button_color='pink'))\n",
    "load_cols_button = Button(description=\"Load collimators\", style=widgets.ButtonStyle(button_color='pink'))\n",
    "\n",
    "# Button to change envelope size\n",
    "envelope_button = Button(description=\"Apply\", style=widgets.ButtonStyle(button_color='pink'))\n",
    "\n",
    "# Create date and time input widgets\n",
    "date_picker = DatePicker(\n",
    "        description='Select Date:',\n",
    "        style={'description_width': 'initial'},\n",
    "        layout=Layout(width='300px')\n",
    "    )\n",
    "\n",
    "time_input = Text(\n",
    "        description='Enter Time (HH:MM:SS):',\n",
    "        placeholder='10:53:15',\n",
    "        style={'description_width': 'initial'},\n",
    "        layout=Layout(width='300px')\n",
    "    )\n",
    "\n",
    "# To specify cycle start\n",
    "envelope_input = widgets.FloatText(\n",
    "        value=0,                  # Initial value (empty string)\n",
    "        description='Size of envelope [σ]:',      # Label for the widget \n",
    "        style={'description_width': 'initial'},  # Adjust the width of the description label\n",
    "        layout=widgets.Layout(width='300px')  # Set the width of the widget\n",
    "    )\n",
    "\n",
    "\n",
    "# To specify cycle start\n",
    "cycle_input = widgets.Text(\n",
    "        value='',                  # Initial value (empty string)\n",
    "        description='First element:',      # Label for the widget\n",
    "        placeholder='e. g. ip3',  # Placeholder text when the input is empty\n",
    "        style={'description_width': 'initial'},  # Adjust the width of the description label\n",
    "        layout=widgets.Layout(width='300px')  # Set the width of the widget\n",
    "    )\n",
    "\n",
    "# Create an empty VBox container for the graph and widgets\n",
    "graph_container = VBox(layout=Layout(\n",
    "        justify_content='center',\n",
    "        align_items='center',\n",
    "        width='100%',\n",
    "        padding='10px',\n",
    "        border='solid 2px #eee'\n",
    "    ))\n",
    "    \n",
    "# Create a box to store selected knobs\n",
    "knob_box = VBox(layout=Layout(\n",
    "        justify_content='center',\n",
    "        align_items='center',\n",
    "        width='100%',\n",
    "        padding='10px',\n",
    "        border='solid 2px #eee'\n",
    "    ))\n",
    "initial_path=home_path\n",
    "# Create filechoosers\n",
    "file_chooser_line = FileChooser(initial_path)\n",
    "file_chooser_aperture = FileChooser(initial_path)\n",
    "file_chooser_optics = FileChooser(initial_path)\n",
    "# Corresponding load buttons\n",
    "load_line_button = Button(description=\"Load line\", style=widgets.ButtonStyle(button_color='pink'))\n",
    "load_aperture_button = Button(description=\"Load aperture\", style=widgets.ButtonStyle(button_color='pink'))\n",
    "load_optics_button = Button(description=\"Load optics\", style=widgets.ButtonStyle(button_color='pink'))\n",
    "\n",
    "# Create layout for the first row of controls\n",
    "file_chooser_layout = HBox(\n",
    "        [file_chooser_line, file_chooser_aperture, file_chooser_optics, load_line_button, load_aperture_button, load_optics_button],\n",
    "        layout=Layout(\n",
    "            justify_content='space-around', # Distribute space evenly\n",
    "            align_items='flex-start',           # Center align all items\n",
    "            width='100%',                   # Full width of the container\n",
    "            padding='10px',                 # Add padding around controls\n",
    "            border='solid 2px #ccc'))       # Border around the HBox\n",
    "\n",
    "# Arrange knob dropdown and buttons in a horizontal layout\n",
    "controls = HBox(\n",
    "        [cycle_input, cycle_button, knob_dropdown, add_button, remove_button, apply_button, reset_button],\n",
    "        layout=Layout(\n",
    "            justify_content='space-around',  # Distribute space evenly\n",
    "            align_items='center',            # Center align all items\n",
    "            width='100%',\n",
    "            padding='10px',                  # Add padding around controls\n",
    "            border='solid 2px #ccc'\n",
    "        )\n",
    "    )\n",
    "\n",
    "timber_controls = [date_picker, time_input, load_BPMs_button, load_cols_button]\n",
    "\n",
    "# Arrange knob dropdown and buttons in a horizontal layout\n",
    "more_controls = HBox(\n",
    "        [envelope_input, envelope_button]+timber_controls,\n",
    "        layout=Layout(\n",
    "            justify_content='space-around',  # Distribute space evenly\n",
    "            align_items='center',            # Center align all items\n",
    "            width='100%',\n",
    "            padding='10px',                  # Add padding around controls\n",
    "            border='solid 2px #ccc'\n",
    "        )\n",
    "    )\n",
    "\n",
    "# Change to a widget\n",
    "fig_widget = go.FigureWidget(fig)\n",
    "    \n",
    "# Put the figure in the graph container\n",
    "graph_container.children = [fig_widget]\n",
    "    \n",
    "# Combine everything into the main VBox layout\n",
    "everything = VBox(\n",
    "        [file_chooser_layout, controls, knob_box, more_controls, graph_container],\n",
    "        layout=Layout(\n",
    "            justify_content='center',\n",
    "            align_items='center',\n",
    "            width='80%',                     # Limit width to 80% of the page\n",
    "            margin='0 auto',                 # Center the VBox horizontally\n",
    "            padding='20px',                  # Add padding around the whole container\n",
    "            border='solid 2px #ddd'\n",
    "        )\n",
    "    )\n",
    "\n",
    "# Display the widgets and the graph\n",
    "display(everything)"
   ]
  }
 ],
 "metadata": {
  "@webio": {
   "lastCommId": null,
   "lastKernelId": null
  },
  "kernelspec": {
   "display_name": "Python 3",
   "language": "python",
   "name": "python3"
  },
  "language_info": {
   "codemirror_mode": {
    "name": "ipython",
    "version": 3
   },
   "file_extension": ".py",
   "mimetype": "text/x-python",
   "name": "python",
   "nbconvert_exporter": "python",
   "pygments_lexer": "ipython3",
   "version": "3.9.12"
  },
  "sparkconnect": {
   "bundled_options": [
    "NXCALS",
    "SparkMetrics"
   ],
   "list_of_options": []
  }
 },
 "nbformat": 4,
 "nbformat_minor": 5
}
