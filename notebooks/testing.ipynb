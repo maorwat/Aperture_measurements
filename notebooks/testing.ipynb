{
 "cells": [
  {
   "cell_type": "code",
   "execution_count": 1,
   "id": "4f0d71a7",
   "metadata": {},
   "outputs": [],
   "source": [
    "from pathlib import Path\n",
    "import sys\n",
    "\n",
    "sys.path.append('/eos/home-i03/m/morwat/.local/lib/python3.9/site-packages/')"
   ]
  },
  {
   "cell_type": "code",
   "execution_count": 2,
   "id": "77ebee03",
   "metadata": {},
   "outputs": [],
   "source": [
    "home_path = str(Path.cwd().parent)\n",
    "sys.path.append(home_path)"
   ]
  },
  {
   "cell_type": "code",
   "execution_count": 3,
   "id": "adddff48",
   "metadata": {},
   "outputs": [],
   "source": [
    "from aper_package.aperture_data import Data\n",
    "from aper_package.plotting import plot\n",
    "\n",
    "from aper_package.timber_data import BPMData\n",
    "from aper_package.timber_data import CollimatorsData"
   ]
  },
  {
   "cell_type": "code",
   "execution_count": 4,
   "id": "5893e58a",
   "metadata": {},
   "outputs": [],
   "source": [
    "from datetime import datetime"
   ]
  },
  {
   "cell_type": "code",
   "execution_count": 5,
   "id": "a0a28f91",
   "metadata": {
    "scrolled": true
   },
   "outputs": [
    {
     "data": {
      "application/vnd.jupyter.widget-view+json": {
       "model_id": "693979afca414fadb10b4b485b117c22",
       "version_major": 2,
       "version_minor": 0
      },
      "text/plain": [
       "Loading line from dict:   0%|          | 0/102050 [00:00<?, ?it/s]"
      ]
     },
     "metadata": {},
     "output_type": "display_data"
    },
    {
     "name": "stdout",
     "output_type": "stream",
     "text": [
      "Done loading line from dict.           \n"
     ]
    },
    {
     "data": {
      "application/vnd.jupyter.widget-view+json": {
       "model_id": "60feeb665358459c9d942c67ba1acb05",
       "version_major": 2,
       "version_minor": 0
      },
      "text/plain": [
       "Loading line from dict:   0%|          | 0/102122 [00:00<?, ?it/s]"
      ]
     },
     "metadata": {},
     "output_type": "display_data"
    },
    {
     "name": "stdout",
     "output_type": "stream",
     "text": [
      "Done loading line from dict.           \n",
      "Computing twiss for beam 1...\n",
      "Compiling ContextCpu kernels...\n",
      "Done compiling ContextCpu kernels.\n",
      "Computing twiss for beam 2...\n",
      "Compiling ContextCpu kernels...\n",
      "Done compiling ContextCpu kernels.\n",
      "Done computing twiss.\n"
     ]
    }
   ],
   "source": [
    "aper = Data(path_b1=home_path+'/test_data/Martas_injection_b1.json')"
   ]
  },
  {
   "cell_type": "code",
   "execution_count": 6,
   "id": "390c4caa",
   "metadata": {},
   "outputs": [],
   "source": [
    "aper.load_aperture(path_b1=home_path+'/test_data/all_optics_B1.tfs')"
   ]
  },
  {
   "cell_type": "code",
   "execution_count": 7,
   "id": "61f3efc1",
   "metadata": {},
   "outputs": [],
   "source": [
    "aper.envelope(11)"
   ]
  },
  {
   "cell_type": "code",
   "execution_count": 9,
   "id": "2ee64ed5",
   "metadata": {
    "scrolled": true
   },
   "outputs": [],
   "source": [
    "data = BPMData(spark, datetime(2023, 4, 21, 10, 53, 15))"
   ]
  },
  {
   "cell_type": "code",
   "execution_count": 10,
   "id": "6d9ec51b",
   "metadata": {},
   "outputs": [],
   "source": [
    "col_data = CollimatorsData(spark, datetime(2023, 4, 21, 10, 53, 15))"
   ]
  },
  {
   "cell_type": "code",
   "execution_count": 11,
   "id": "d73c9459",
   "metadata": {
    "scrolled": true
   },
   "outputs": [
    {
     "data": {
      "application/vnd.jupyter.widget-view+json": {
       "model_id": "370bca00312f48a990328ecd12741bef",
       "version_major": 2,
       "version_minor": 0
      },
      "text/plain": [
       "VBox(children=(HBox(children=(Dropdown(description='Select knob:', options=('on_x1', 'on_x2h', 'on_x2v', 'on_x…"
      ]
     },
     "metadata": {},
     "output_type": "display_data"
    }
   ],
   "source": [
    "plot(aper, 'h', BPM_data=data, collimator_data=col_data, width=1600)"
   ]
  },
  {
   "cell_type": "code",
   "execution_count": 21,
   "id": "e131e22b",
   "metadata": {},
   "outputs": [
    {
     "data": {
      "application/vnd.jupyter.widget-view+json": {
       "model_id": "607987f7c3e0466098338ef104a73237",
       "version_major": 2,
       "version_minor": 0
      },
      "text/plain": [
       "Button(description='Default', style=ButtonStyle())"
      ]
     },
     "metadata": {},
     "output_type": "display_data"
    },
    {
     "data": {
      "application/vnd.jupyter.widget-view+json": {
       "model_id": "bb48204962b44ebdb5f8f0faaeb69b07",
       "version_major": 2,
       "version_minor": 0
      },
      "text/plain": [
       "Button(button_style='primary', description='Primary', style=ButtonStyle())"
      ]
     },
     "metadata": {},
     "output_type": "display_data"
    },
    {
     "data": {
      "application/vnd.jupyter.widget-view+json": {
       "model_id": "69727f569bf841ffb3be2a6f4b9a27d3",
       "version_major": 2,
       "version_minor": 0
      },
      "text/plain": [
       "Button(button_style='success', description='Success', style=ButtonStyle())"
      ]
     },
     "metadata": {},
     "output_type": "display_data"
    },
    {
     "data": {
      "application/vnd.jupyter.widget-view+json": {
       "model_id": "cda9b0655be740488e180e7ad6959480",
       "version_major": 2,
       "version_minor": 0
      },
      "text/plain": [
       "Button(button_style='info', description='Info', style=ButtonStyle())"
      ]
     },
     "metadata": {},
     "output_type": "display_data"
    },
    {
     "data": {
      "application/vnd.jupyter.widget-view+json": {
       "model_id": "e36cc9d0ead34c23bc861b19f64f001e",
       "version_major": 2,
       "version_minor": 0
      },
      "text/plain": [
       "Button(button_style='warning', description='Warning', style=ButtonStyle())"
      ]
     },
     "metadata": {},
     "output_type": "display_data"
    },
    {
     "data": {
      "application/vnd.jupyter.widget-view+json": {
       "model_id": "918544e61e6e49ce9284321a85202fca",
       "version_major": 2,
       "version_minor": 0
      },
      "text/plain": [
       "Button(button_style='danger', description='Danger', style=ButtonStyle())"
      ]
     },
     "metadata": {},
     "output_type": "display_data"
    },
    {
     "data": {
      "application/vnd.jupyter.widget-view+json": {
       "model_id": "b8a0122ce809419eaa9302cdeb0e9e0c",
       "version_major": 2,
       "version_minor": 0
      },
      "text/plain": [
       "Button(description='Custom', style=ButtonStyle(button_color='pink'))"
      ]
     },
     "metadata": {},
     "output_type": "display_data"
    }
   ],
   "source": [
    "import ipywidgets as widgets\n",
    "from IPython.display import display\n",
    "\n",
    "# Define buttons with different styles\n",
    "button_default = widgets.Button(\n",
    "    description=\"Default\",\n",
    "    button_style='',  # No pre-defined style\n",
    ")\n",
    "\n",
    "button_primary = widgets.Button(\n",
    "    description=\"Primary\",\n",
    "    button_style='primary',  # Primary action\n",
    ")\n",
    "\n",
    "button_success = widgets.Button(\n",
    "    description=\"Success\",\n",
    "    button_style='success',  # Indicates success\n",
    ")\n",
    "\n",
    "button_info = widgets.Button(\n",
    "    description=\"Info\",\n",
    "    button_style='info',  # Informational\n",
    ")\n",
    "\n",
    "button_warning = widgets.Button(\n",
    "    description=\"Warning\",\n",
    "    button_style='warning',  # Warning action\n",
    ")\n",
    "\n",
    "button_danger = widgets.Button(\n",
    "    description=\"Danger\",\n",
    "    button_style='danger',  # Danger action\n",
    ")\n",
    "\n",
    "# Custom styled button\n",
    "custom_button = widgets.Button(\n",
    "    description=\"Custom\",\n",
    "    style=widgets.ButtonStyle(\n",
    "        button_color='pink'\n",
    "    )\n",
    ")\n",
    "\n",
    "# Display all buttons\n",
    "display(button_default, button_primary, button_success, button_info, button_warning, button_danger, custom_button)\n"
   ]
  },
  {
   "cell_type": "code",
   "execution_count": 22,
   "id": "6665910f",
   "metadata": {},
   "outputs": [
    {
     "data": {
      "application/vnd.jupyter.widget-view+json": {
       "model_id": "cd502373cacb424a9ae480d7f90df2ad",
       "version_major": 2,
       "version_minor": 0
      },
      "text/plain": [
       "Text(value='', description='Input:', layout=Layout(width='300px'), placeholder='Enter text here', style=Descri…"
      ]
     },
     "metadata": {},
     "output_type": "display_data"
    }
   ],
   "source": [
    "import ipywidgets as widgets\n",
    "from IPython.display import display\n",
    "\n",
    "# Create a Text widget\n",
    "text_input = widgets.Text(\n",
    "    value='',                  # Initial value (empty string)\n",
    "    description='Input:',      # Label for the widget\n",
    "    placeholder='Enter text here',  # Placeholder text when the input is empty\n",
    "    style={'description_width': 'initial'},  # Adjust the width of the description label\n",
    "    layout=widgets.Layout(width='300px')  # Set the width of the widget\n",
    ")\n",
    "\n",
    "# Display the widget\n",
    "display(text_input)\n"
   ]
  },
  {
   "cell_type": "code",
   "execution_count": null,
   "id": "64f8ee94",
   "metadata": {},
   "outputs": [],
   "source": []
  }
 ],
 "metadata": {
  "@webio": {
   "lastCommId": null,
   "lastKernelId": null
  },
  "kernelspec": {
   "display_name": "Python 3",
   "language": "python",
   "name": "python3"
  },
  "language_info": {
   "codemirror_mode": {
    "name": "ipython",
    "version": 3
   },
   "file_extension": ".py",
   "mimetype": "text/x-python",
   "name": "python",
   "nbconvert_exporter": "python",
   "pygments_lexer": "ipython3",
   "version": "3.9.12"
  },
  "sparkconnect": {
   "bundled_options": [
    "NXCALS",
    "SparkMetrics"
   ],
   "list_of_options": []
  }
 },
 "nbformat": 4,
 "nbformat_minor": 5
}
