{
 "cells": [
  {
   "cell_type": "code",
   "execution_count": 1,
   "id": "77ebee03",
   "metadata": {},
   "outputs": [],
   "source": [
    "from pathlib import Path\n",
    "import sys\n",
    "\n",
    "home_path = str(Path.cwd().parent)\n",
    "sys.path.append(home_path)\n",
    "sys.path.append('/eos/home-i03/m/morwat/.local/lib/python3.9/site-packages/')"
   ]
  },
  {
   "cell_type": "code",
   "execution_count": 2,
   "id": "23361faa",
   "metadata": {},
   "outputs": [],
   "source": [
    "from aper_package.interactive_tool import InteractiveTool"
   ]
  },
  {
   "cell_type": "code",
   "execution_count": 4,
   "id": "e76f05ac",
   "metadata": {
    "scrolled": false
   },
   "outputs": [],
   "source": [
    "tool = InteractiveTool(initial_path=home_path, spark=spark)"
   ]
  },
  {
   "cell_type": "code",
   "execution_count": 6,
   "id": "4a273dca",
   "metadata": {},
   "outputs": [
    {
     "data": {
      "text/plain": [
       "[True, False, True, False, True, False, True, True, False, False]"
      ]
     },
     "execution_count": 6,
     "metadata": {},
     "output_type": "execute_result"
    }
   ],
   "source": [
    "tool.visibility_b1"
   ]
  },
  {
   "cell_type": "code",
   "execution_count": 5,
   "id": "dd53e059",
   "metadata": {
    "scrolled": false
   },
   "outputs": [
    {
     "data": {
      "application/vnd.jupyter.widget-view+json": {
       "model_id": "65b8a3346ba942459f6c94b31283fca1",
       "version_major": 2,
       "version_minor": 0
      },
      "text/plain": [
       "VBox(children=(HBox(children=(FileChooser(path='/eos/home-i03/m/morwat/aperture_measurements', filename='', ti…"
      ]
     },
     "metadata": {},
     "output_type": "display_data"
    },
    {
     "name": "stdout",
     "output_type": "stream",
     "text": [
      "Loading new line...                                      \r"
     ]
    },
    {
     "data": {
      "application/vnd.jupyter.widget-view+json": {
       "model_id": "ac427204b75441cbbd7cc4ed54134131",
       "version_major": 2,
       "version_minor": 0
      },
      "text/plain": [
       "Loading line from dict:   0%|          | 0/102050 [00:00<?, ?it/s]"
      ]
     },
     "metadata": {},
     "output_type": "display_data"
    },
    {
     "name": "stdout",
     "output_type": "stream",
     "text": [
      "Done loading line from dict.           \n"
     ]
    },
    {
     "data": {
      "application/vnd.jupyter.widget-view+json": {
       "model_id": "cb366e04eef14719828abe78b8306f73",
       "version_major": 2,
       "version_minor": 0
      },
      "text/plain": [
       "Loading line from dict:   0%|          | 0/102122 [00:00<?, ?it/s]"
      ]
     },
     "metadata": {},
     "output_type": "display_data"
    },
    {
     "name": "stdout",
     "output_type": "stream",
     "text": [
      "Done loading line from dict.           \n",
      "Compiling ContextCpu kernels...                                    \n",
      "Done compiling ContextCpu kernels.\n",
      "Compiling ContextCpu kernels...                                    \n",
      "Done compiling ContextCpu kernels.\n",
      "Done computing twiss.                                      \r"
     ]
    },
    {
     "ename": "ValueError",
     "evalue": "year 12023 is out of range",
     "output_type": "error",
     "traceback": [
      "\u001b[0;31m---------------------------------------------------------------------------\u001b[0m",
      "\u001b[0;31mValueError\u001b[0m                                Traceback (most recent call last)",
      "\u001b[0;32m/cvmfs/sft.cern.ch/lcg/views/LCG_105a_nxcals_pro/x86_64-el9-gcc13-opt/lib/python3.9/site-packages/ipywidgets/widgets/widget.py\u001b[0m in \u001b[0;36m_handle_msg\u001b[0;34m(self, msg)\u001b[0m\n\u001b[1;32m    674\u001b[0m                 \u001b[0;32mif\u001b[0m \u001b[0;34m'buffer_paths'\u001b[0m \u001b[0;32min\u001b[0m \u001b[0mdata\u001b[0m\u001b[0;34m:\u001b[0m\u001b[0;34m\u001b[0m\u001b[0;34m\u001b[0m\u001b[0m\n\u001b[1;32m    675\u001b[0m                     \u001b[0m_put_buffers\u001b[0m\u001b[0;34m(\u001b[0m\u001b[0mstate\u001b[0m\u001b[0;34m,\u001b[0m \u001b[0mdata\u001b[0m\u001b[0;34m[\u001b[0m\u001b[0;34m'buffer_paths'\u001b[0m\u001b[0;34m]\u001b[0m\u001b[0;34m,\u001b[0m \u001b[0mmsg\u001b[0m\u001b[0;34m[\u001b[0m\u001b[0;34m'buffers'\u001b[0m\u001b[0;34m]\u001b[0m\u001b[0;34m)\u001b[0m\u001b[0;34m\u001b[0m\u001b[0;34m\u001b[0m\u001b[0m\n\u001b[0;32m--> 676\u001b[0;31m                 \u001b[0mself\u001b[0m\u001b[0;34m.\u001b[0m\u001b[0mset_state\u001b[0m\u001b[0;34m(\u001b[0m\u001b[0mstate\u001b[0m\u001b[0;34m)\u001b[0m\u001b[0;34m\u001b[0m\u001b[0;34m\u001b[0m\u001b[0m\n\u001b[0m\u001b[1;32m    677\u001b[0m \u001b[0;34m\u001b[0m\u001b[0m\n\u001b[1;32m    678\u001b[0m         \u001b[0;31m# Handle a state request.\u001b[0m\u001b[0;34m\u001b[0m\u001b[0;34m\u001b[0m\u001b[0m\n",
      "\u001b[0;32m/cvmfs/sft.cern.ch/lcg/views/LCG_105a_nxcals_pro/x86_64-el9-gcc13-opt/lib/python3.9/site-packages/ipywidgets/widgets/widget.py\u001b[0m in \u001b[0;36mset_state\u001b[0;34m(self, sync_data)\u001b[0m\n\u001b[1;32m    543\u001b[0m                     from_json = self.trait_metadata(name, 'from_json',\n\u001b[1;32m    544\u001b[0m                                                     self._trait_from_json)\n\u001b[0;32m--> 545\u001b[0;31m                     \u001b[0mself\u001b[0m\u001b[0;34m.\u001b[0m\u001b[0mset_trait\u001b[0m\u001b[0;34m(\u001b[0m\u001b[0mname\u001b[0m\u001b[0;34m,\u001b[0m \u001b[0mfrom_json\u001b[0m\u001b[0;34m(\u001b[0m\u001b[0msync_data\u001b[0m\u001b[0;34m[\u001b[0m\u001b[0mname\u001b[0m\u001b[0;34m]\u001b[0m\u001b[0;34m,\u001b[0m \u001b[0mself\u001b[0m\u001b[0;34m)\u001b[0m\u001b[0;34m)\u001b[0m\u001b[0;34m\u001b[0m\u001b[0;34m\u001b[0m\u001b[0m\n\u001b[0m\u001b[1;32m    546\u001b[0m \u001b[0;34m\u001b[0m\u001b[0m\n\u001b[1;32m    547\u001b[0m     \u001b[0;32mdef\u001b[0m \u001b[0msend\u001b[0m\u001b[0;34m(\u001b[0m\u001b[0mself\u001b[0m\u001b[0;34m,\u001b[0m \u001b[0mcontent\u001b[0m\u001b[0;34m,\u001b[0m \u001b[0mbuffers\u001b[0m\u001b[0;34m=\u001b[0m\u001b[0;32mNone\u001b[0m\u001b[0;34m)\u001b[0m\u001b[0;34m:\u001b[0m\u001b[0;34m\u001b[0m\u001b[0;34m\u001b[0m\u001b[0m\n",
      "\u001b[0;32m/cvmfs/sft.cern.ch/lcg/views/LCG_105a_nxcals_pro/x86_64-el9-gcc13-opt/lib/python3.9/site-packages/ipywidgets/widgets/trait_types.py\u001b[0m in \u001b[0;36mdate_from_json\u001b[0;34m(js, manager)\u001b[0m\n\u001b[1;32m    138\u001b[0m         \u001b[0;32mreturn\u001b[0m \u001b[0;32mNone\u001b[0m\u001b[0;34m\u001b[0m\u001b[0;34m\u001b[0m\u001b[0m\n\u001b[1;32m    139\u001b[0m     \u001b[0;32melse\u001b[0m\u001b[0;34m:\u001b[0m\u001b[0;34m\u001b[0m\u001b[0;34m\u001b[0m\u001b[0m\n\u001b[0;32m--> 140\u001b[0;31m         return dt.date(\n\u001b[0m\u001b[1;32m    141\u001b[0m             \u001b[0mjs\u001b[0m\u001b[0;34m[\u001b[0m\u001b[0;34m'year'\u001b[0m\u001b[0;34m]\u001b[0m\u001b[0;34m,\u001b[0m\u001b[0;34m\u001b[0m\u001b[0;34m\u001b[0m\u001b[0m\n\u001b[1;32m    142\u001b[0m             \u001b[0mjs\u001b[0m\u001b[0;34m[\u001b[0m\u001b[0;34m'month'\u001b[0m\u001b[0;34m]\u001b[0m \u001b[0;34m+\u001b[0m \u001b[0;36m1\u001b[0m\u001b[0;34m,\u001b[0m  \u001b[0;31m# Months are 1-based in Python\u001b[0m\u001b[0;34m\u001b[0m\u001b[0;34m\u001b[0m\u001b[0m\n",
      "\u001b[0;31mValueError\u001b[0m: year 12023 is out of range"
     ]
    },
    {
     "ename": "ValueError",
     "evalue": "year 20232 is out of range",
     "output_type": "error",
     "traceback": [
      "\u001b[0;31m---------------------------------------------------------------------------\u001b[0m",
      "\u001b[0;31mValueError\u001b[0m                                Traceback (most recent call last)",
      "\u001b[0;32m/cvmfs/sft.cern.ch/lcg/views/LCG_105a_nxcals_pro/x86_64-el9-gcc13-opt/lib/python3.9/site-packages/ipywidgets/widgets/widget.py\u001b[0m in \u001b[0;36m_handle_msg\u001b[0;34m(self, msg)\u001b[0m\n\u001b[1;32m    674\u001b[0m                 \u001b[0;32mif\u001b[0m \u001b[0;34m'buffer_paths'\u001b[0m \u001b[0;32min\u001b[0m \u001b[0mdata\u001b[0m\u001b[0;34m:\u001b[0m\u001b[0;34m\u001b[0m\u001b[0;34m\u001b[0m\u001b[0m\n\u001b[1;32m    675\u001b[0m                     \u001b[0m_put_buffers\u001b[0m\u001b[0;34m(\u001b[0m\u001b[0mstate\u001b[0m\u001b[0;34m,\u001b[0m \u001b[0mdata\u001b[0m\u001b[0;34m[\u001b[0m\u001b[0;34m'buffer_paths'\u001b[0m\u001b[0;34m]\u001b[0m\u001b[0;34m,\u001b[0m \u001b[0mmsg\u001b[0m\u001b[0;34m[\u001b[0m\u001b[0;34m'buffers'\u001b[0m\u001b[0;34m]\u001b[0m\u001b[0;34m)\u001b[0m\u001b[0;34m\u001b[0m\u001b[0;34m\u001b[0m\u001b[0m\n\u001b[0;32m--> 676\u001b[0;31m                 \u001b[0mself\u001b[0m\u001b[0;34m.\u001b[0m\u001b[0mset_state\u001b[0m\u001b[0;34m(\u001b[0m\u001b[0mstate\u001b[0m\u001b[0;34m)\u001b[0m\u001b[0;34m\u001b[0m\u001b[0;34m\u001b[0m\u001b[0m\n\u001b[0m\u001b[1;32m    677\u001b[0m \u001b[0;34m\u001b[0m\u001b[0m\n\u001b[1;32m    678\u001b[0m         \u001b[0;31m# Handle a state request.\u001b[0m\u001b[0;34m\u001b[0m\u001b[0;34m\u001b[0m\u001b[0m\n",
      "\u001b[0;32m/cvmfs/sft.cern.ch/lcg/views/LCG_105a_nxcals_pro/x86_64-el9-gcc13-opt/lib/python3.9/site-packages/ipywidgets/widgets/widget.py\u001b[0m in \u001b[0;36mset_state\u001b[0;34m(self, sync_data)\u001b[0m\n\u001b[1;32m    543\u001b[0m                     from_json = self.trait_metadata(name, 'from_json',\n\u001b[1;32m    544\u001b[0m                                                     self._trait_from_json)\n\u001b[0;32m--> 545\u001b[0;31m                     \u001b[0mself\u001b[0m\u001b[0;34m.\u001b[0m\u001b[0mset_trait\u001b[0m\u001b[0;34m(\u001b[0m\u001b[0mname\u001b[0m\u001b[0;34m,\u001b[0m \u001b[0mfrom_json\u001b[0m\u001b[0;34m(\u001b[0m\u001b[0msync_data\u001b[0m\u001b[0;34m[\u001b[0m\u001b[0mname\u001b[0m\u001b[0;34m]\u001b[0m\u001b[0;34m,\u001b[0m \u001b[0mself\u001b[0m\u001b[0;34m)\u001b[0m\u001b[0;34m)\u001b[0m\u001b[0;34m\u001b[0m\u001b[0;34m\u001b[0m\u001b[0m\n\u001b[0m\u001b[1;32m    546\u001b[0m \u001b[0;34m\u001b[0m\u001b[0m\n\u001b[1;32m    547\u001b[0m     \u001b[0;32mdef\u001b[0m \u001b[0msend\u001b[0m\u001b[0;34m(\u001b[0m\u001b[0mself\u001b[0m\u001b[0;34m,\u001b[0m \u001b[0mcontent\u001b[0m\u001b[0;34m,\u001b[0m \u001b[0mbuffers\u001b[0m\u001b[0;34m=\u001b[0m\u001b[0;32mNone\u001b[0m\u001b[0;34m)\u001b[0m\u001b[0;34m:\u001b[0m\u001b[0;34m\u001b[0m\u001b[0;34m\u001b[0m\u001b[0m\n",
      "\u001b[0;32m/cvmfs/sft.cern.ch/lcg/views/LCG_105a_nxcals_pro/x86_64-el9-gcc13-opt/lib/python3.9/site-packages/ipywidgets/widgets/trait_types.py\u001b[0m in \u001b[0;36mdate_from_json\u001b[0;34m(js, manager)\u001b[0m\n\u001b[1;32m    138\u001b[0m         \u001b[0;32mreturn\u001b[0m \u001b[0;32mNone\u001b[0m\u001b[0;34m\u001b[0m\u001b[0;34m\u001b[0m\u001b[0m\n\u001b[1;32m    139\u001b[0m     \u001b[0;32melse\u001b[0m\u001b[0;34m:\u001b[0m\u001b[0;34m\u001b[0m\u001b[0;34m\u001b[0m\u001b[0m\n\u001b[0;32m--> 140\u001b[0;31m         return dt.date(\n\u001b[0m\u001b[1;32m    141\u001b[0m             \u001b[0mjs\u001b[0m\u001b[0;34m[\u001b[0m\u001b[0;34m'year'\u001b[0m\u001b[0;34m]\u001b[0m\u001b[0;34m,\u001b[0m\u001b[0;34m\u001b[0m\u001b[0;34m\u001b[0m\u001b[0m\n\u001b[1;32m    142\u001b[0m             \u001b[0mjs\u001b[0m\u001b[0;34m[\u001b[0m\u001b[0;34m'month'\u001b[0m\u001b[0;34m]\u001b[0m \u001b[0;34m+\u001b[0m \u001b[0;36m1\u001b[0m\u001b[0;34m,\u001b[0m  \u001b[0;31m# Months are 1-based in Python\u001b[0m\u001b[0;34m\u001b[0m\u001b[0;34m\u001b[0m\u001b[0m\n",
      "\u001b[0;31mValueError\u001b[0m: year 20232 is out of range"
     ]
    },
    {
     "name": "stdout",
     "output_type": "stream",
     "text": [
      "Done loading BPM data.                                      \r"
     ]
    }
   ],
   "source": [
    "tool.show()"
   ]
  },
  {
   "cell_type": "code",
   "execution_count": 3,
   "id": "6588b9cd",
   "metadata": {
    "scrolled": true
   },
   "outputs": [
    {
     "data": {
      "application/vnd.jupyter.widget-view+json": {
       "model_id": "84a3fbf2c96646228de7516993e0e8a1",
       "version_major": 2,
       "version_minor": 0
      },
      "text/plain": [
       "VBox(children=(HBox(children=(FileChooser(path='/eos/home-i03/m/morwat/aperture_measurements', filename='', ti…"
      ]
     },
     "metadata": {},
     "output_type": "display_data"
    }
   ],
   "source": [
    "import plotly.graph_objects as go\n",
    "from plotly.subplots import make_subplots\n",
    "from ipywidgets import widgets, VBox, HBox, Button, Layout, FloatText, DatePicker, Text\n",
    "from ipyfilechooser import FileChooser\n",
    "\n",
    "# Sample data\n",
    "x_values = [1, 2, 3, 4, 5]\n",
    "y_values = [10, 11, 12, 13, 14]\n",
    "\n",
    "# Create a scatter plot\n",
    "fig = go.Figure(data=go.Scatter(x=x_values, y=y_values, mode='markers'))\n",
    "\n",
    "# Customize the layout\n",
    "fig.update_layout(\n",
    "    title=\"Simple Scatter Plot\",\n",
    "    xaxis_title=\"X Axis\",\n",
    "    yaxis_title=\"Y Axis\",\n",
    "    width=1600\n",
    ")\n",
    "\n",
    "# Create a dropdown to select a knob\n",
    "knob_dropdown = widgets.Dropdown(\n",
    "        options=['a', 'b', 'c'],\n",
    "        description='Select knob:',\n",
    "        disabled=False)\n",
    "\n",
    "# Button to add selection\n",
    "add_button = Button(description=\"Add\", style=widgets.ButtonStyle(button_color='rgb(179, 222, 105)'))\n",
    "# Button to remove selection\n",
    "remove_button = Button(description=\"Remove\", style=widgets.ButtonStyle(button_color='rgb(249, 123, 114)'))\n",
    "# Button to apply selection and update graph\n",
    "apply_button = Button(description=\"Apply\", style=widgets.ButtonStyle(button_color='lightblue'))\n",
    "# Button to shift the graph\n",
    "cycle_button = Button(description=\"Cycle\", style=widgets.ButtonStyle(button_color='pink'))\n",
    "# Button to reset knobs    \n",
    "reset_button = Button(description=\"Reset knobs\", style=widgets.ButtonStyle(button_color='rgb(255, 242, 174)'))\n",
    "# Buttons to load timber data\n",
    "load_BPMs_button = Button(description=\"Load BPMs\", style=widgets.ButtonStyle(button_color='pink'))\n",
    "load_cols_button = Button(description=\"Load collimators\", style=widgets.ButtonStyle(button_color='pink'))\n",
    "\n",
    "# Button to change envelope size\n",
    "envelope_button = Button(description=\"Apply\", style=widgets.ButtonStyle(button_color='pink'))\n",
    "\n",
    "# Create date and time input widgets\n",
    "date_picker = DatePicker(\n",
    "        description='Select Date:',\n",
    "        style={'description_width': 'initial'},\n",
    "        layout=Layout(width='300px')\n",
    "    )\n",
    "\n",
    "time_input = Text(\n",
    "        description='Enter Time (HH:MM:SS):',\n",
    "        placeholder='10:53:15',\n",
    "        style={'description_width': 'initial'},\n",
    "        layout=Layout(width='300px')\n",
    "    )\n",
    "\n",
    "# To specify cycle start\n",
    "envelope_input = widgets.FloatText(\n",
    "        value=0,                  # Initial value (empty string)\n",
    "        description='Size of envelope [σ]:',      # Label for the widget \n",
    "        style={'description_width': 'initial'},  # Adjust the width of the description label\n",
    "        layout=widgets.Layout(width='300px')  # Set the width of the widget\n",
    "    )\n",
    "\n",
    "\n",
    "# To specify cycle start\n",
    "cycle_input = widgets.Text(\n",
    "        value='',                  # Initial value (empty string)\n",
    "        description='First element:',      # Label for the widget\n",
    "        placeholder='e. g. ip3',  # Placeholder text when the input is empty\n",
    "        style={'description_width': 'initial'},  # Adjust the width of the description label\n",
    "        layout=widgets.Layout(width='300px')  # Set the width of the widget\n",
    "    )\n",
    "\n",
    "# Create an empty VBox container for the graph and widgets\n",
    "graph_container = VBox(layout=Layout(\n",
    "        justify_content='center',\n",
    "        align_items='center',\n",
    "        width='100%',\n",
    "        padding='10px',\n",
    "        border='solid 2px #eee'\n",
    "    ))\n",
    "    \n",
    "# Create a box to store selected knobs\n",
    "knob_box = VBox(layout=Layout(\n",
    "        justify_content='center',\n",
    "        align_items='center',\n",
    "        width='100%',\n",
    "        padding='10px',\n",
    "        border='solid 2px #eee'\n",
    "    ))\n",
    "initial_path=home_path\n",
    "# Create filechoosers\n",
    "file_chooser_line = FileChooser(initial_path)\n",
    "file_chooser_aperture = FileChooser(initial_path)\n",
    "file_chooser_optics = FileChooser(initial_path)\n",
    "# Corresponding load buttons\n",
    "load_line_button = Button(description=\"Load line\", style=widgets.ButtonStyle(button_color='pink'))\n",
    "load_aperture_button = Button(description=\"Load aperture\", style=widgets.ButtonStyle(button_color='pink'))\n",
    "load_optics_button = Button(description=\"Load optics\", style=widgets.ButtonStyle(button_color='pink'))\n",
    "\n",
    "# Create layout for the first row of controls\n",
    "file_chooser_layout = HBox(\n",
    "        [file_chooser_line, file_chooser_aperture, file_chooser_optics, load_line_button, load_aperture_button, load_optics_button],\n",
    "        layout=Layout(\n",
    "            justify_content='space-around', # Distribute space evenly\n",
    "            align_items='flex-start',           # Center align all items\n",
    "            width='100%',                   # Full width of the container\n",
    "            padding='10px',                 # Add padding around controls\n",
    "            border='solid 2px #ccc'))       # Border around the HBox\n",
    "\n",
    "# Arrange knob dropdown and buttons in a horizontal layout\n",
    "controls = HBox(\n",
    "        [cycle_input, cycle_button, knob_dropdown, add_button, remove_button, apply_button, reset_button],\n",
    "        layout=Layout(\n",
    "            justify_content='space-around',  # Distribute space evenly\n",
    "            align_items='center',            # Center align all items\n",
    "            width='100%',\n",
    "            padding='10px',                  # Add padding around controls\n",
    "            border='solid 2px #ccc'\n",
    "        )\n",
    "    )\n",
    "\n",
    "timber_controls = [date_picker, time_input, load_BPMs_button, load_cols_button]\n",
    "\n",
    "# Arrange knob dropdown and buttons in a horizontal layout\n",
    "more_controls = HBox(\n",
    "        [envelope_input, envelope_button]+timber_controls,\n",
    "        layout=Layout(\n",
    "            justify_content='space-around',  # Distribute space evenly\n",
    "            align_items='center',            # Center align all items\n",
    "            width='100%',\n",
    "            padding='10px',                  # Add padding around controls\n",
    "            border='solid 2px #ccc'\n",
    "        )\n",
    "    )\n",
    "\n",
    "# Change to a widget\n",
    "fig_widget = go.FigureWidget(fig)\n",
    "    \n",
    "# Put the figure in the graph container\n",
    "graph_container.children = [fig_widget]\n",
    "    \n",
    "# Combine everything into the main VBox layout\n",
    "everything = VBox(\n",
    "        [file_chooser_layout, controls, knob_box, more_controls, graph_container],\n",
    "        layout=Layout(\n",
    "            justify_content='center',\n",
    "            align_items='center',\n",
    "            width='80%',                     # Limit width to 80% of the page\n",
    "            margin='0 auto',                 # Center the VBox horizontally\n",
    "            padding='20px',                  # Add padding around the whole container\n",
    "            border='solid 2px #ddd'\n",
    "        )\n",
    "    )\n",
    "\n",
    "# Display the widgets and the graph\n",
    "display(everything)"
   ]
  }
 ],
 "metadata": {
  "@webio": {
   "lastCommId": null,
   "lastKernelId": null
  },
  "kernelspec": {
   "display_name": "Python 3",
   "language": "python",
   "name": "python3"
  },
  "language_info": {
   "codemirror_mode": {
    "name": "ipython",
    "version": 3
   },
   "file_extension": ".py",
   "mimetype": "text/x-python",
   "name": "python",
   "nbconvert_exporter": "python",
   "pygments_lexer": "ipython3",
   "version": "3.9.12"
  },
  "sparkconnect": {
   "bundled_options": [
    "NXCALS",
    "SparkMetrics"
   ],
   "list_of_options": []
  }
 },
 "nbformat": 4,
 "nbformat_minor": 5
}
