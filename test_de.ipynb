{
 "cells": [
  {
   "cell_type": "code",
   "execution_count": 10,
   "id": "fdeaad35",
   "metadata": {},
   "outputs": [],
   "source": [
    "import sys\n",
    "sys.path.append('/eos/home-i03/m/morwat/.local/lib/python3.9/site-packages/')"
   ]
  },
  {
   "cell_type": "code",
   "execution_count": 11,
   "id": "de92b403",
   "metadata": {},
   "outputs": [],
   "source": [
    "import xtrack as xt"
   ]
  },
  {
   "cell_type": "code",
   "execution_count": 12,
   "id": "a8070480",
   "metadata": {},
   "outputs": [
    {
     "data": {
      "application/vnd.jupyter.widget-view+json": {
       "model_id": "ac7308868d394521b97ca68b87fdf465",
       "version_major": 2,
       "version_minor": 0
      },
      "text/plain": [
       "Loading line from dict:   0%|          | 0/106178 [00:00<?, ?it/s]"
      ]
     },
     "metadata": {},
     "output_type": "display_data"
    },
    {
     "name": "stdout",
     "output_type": "stream",
     "text": [
      "Done loading line from dict.           \n"
     ]
    }
   ],
   "source": [
    "line_b1 = xt.Line.from_json('/eos/project-c/collimation-team/machine_configurations/LHC_run3/2023_MD/xsuite/injection_VELOtest_de_b1.json')"
   ]
  },
  {
   "cell_type": "code",
   "execution_count": 16,
   "id": "059d6d90",
   "metadata": {},
   "outputs": [
    {
     "data": {
      "text/plain": [
       "Table: 10 rows, 7 cols\n",
       "name                   s element_type     isthick isreplica parent_name iscollective\n",
       "ip1_aper               0 LimitEllipse       False     False None               False\n",
       "ip1                    0 Marker             False     False None               False\n",
       "drift_0                0 Drift               True     False None               False\n",
       "mbas2.1r1_aper       1.5 LimitRectEllipse   False     False None               False\n",
       "mbas2.1r1            1.5 Drift               True     False None               False\n",
       "drift_1              1.5 Drift               True     False None               False\n",
       "vc1ax.1r1.a.b1_aper 4.54 LimitEllipse       False     False None               False\n",
       "vc1ax.1r1.a.b1      4.54 Marker             False     False None               False\n",
       "drift_2             4.54 Drift               True     False None               False\n",
       "vc1ax.1r1.b.b1_aper    9 LimitEllipse       False     False None               False"
      ]
     },
     "execution_count": 16,
     "metadata": {},
     "output_type": "execute_result"
    }
   ],
   "source": [
    "line_b1.get_table().rows[:10]"
   ]
  },
  {
   "cell_type": "code",
   "execution_count": 4,
   "id": "cc4991a7",
   "metadata": {},
   "outputs": [],
   "source": [
    "line_b1 = line_b1.merge_consecutive_drifts()"
   ]
  },
  {
   "cell_type": "code",
   "execution_count": 17,
   "id": "b0ab606d",
   "metadata": {},
   "outputs": [
    {
     "data": {
      "text/plain": [
       "<xtrack.line.Line at 0x7f3bbab43b20>"
      ]
     },
     "execution_count": 17,
     "metadata": {},
     "output_type": "execute_result"
    }
   ],
   "source": [
    "line_b1.cycle('ip3', inplace=True)"
   ]
  },
  {
   "cell_type": "code",
   "execution_count": 20,
   "id": "3cf8ab87",
   "metadata": {},
   "outputs": [
    {
     "name": "stdout",
     "output_type": "stream",
     "text": [
      "Compiling ContextCpu kernels...\n",
      "Done compiling ContextCpu kernels.\n"
     ]
    },
    {
     "ename": "AssertionError",
     "evalue": "Some test particles were lost during twiss! (state [0], at element [22413])",
     "output_type": "error",
     "traceback": [
      "\u001b[0;31m---------------------------------------------------------------------------\u001b[0m",
      "\u001b[0;31mAssertionError\u001b[0m                            Traceback (most recent call last)",
      "\u001b[0;32m/tmp/ipykernel_903/3766702797.py\u001b[0m in \u001b[0;36m<module>\u001b[0;34m\u001b[0m\n\u001b[0;32m----> 1\u001b[0;31m \u001b[0mtw\u001b[0m \u001b[0;34m=\u001b[0m \u001b[0mline_b1\u001b[0m\u001b[0;34m.\u001b[0m\u001b[0mtwiss4d\u001b[0m\u001b[0;34m(\u001b[0m\u001b[0mbetx\u001b[0m\u001b[0;34m=\u001b[0m\u001b[0;36m1\u001b[0m\u001b[0;34m,\u001b[0m \u001b[0mbety\u001b[0m\u001b[0;34m=\u001b[0m\u001b[0;36m1\u001b[0m\u001b[0;34m,\u001b[0m \u001b[0mstart\u001b[0m\u001b[0;34m=\u001b[0m\u001b[0mxt\u001b[0m\u001b[0;34m.\u001b[0m\u001b[0mSTART\u001b[0m\u001b[0;34m,\u001b[0m \u001b[0mend\u001b[0m\u001b[0;34m=\u001b[0m\u001b[0mxt\u001b[0m\u001b[0;34m.\u001b[0m\u001b[0mEND\u001b[0m\u001b[0;34m)\u001b[0m\u001b[0;34m\u001b[0m\u001b[0;34m\u001b[0m\u001b[0m\n\u001b[0m",
      "\u001b[0;32m/eos/home-i03/m/morwat/.local/lib/python3.9/site-packages/xtrack/line.py\u001b[0m in \u001b[0;36mtwiss4d\u001b[0;34m(self, **kwargs)\u001b[0m\n\u001b[1;32m   1204\u001b[0m \u001b[0;34m\u001b[0m\u001b[0m\n\u001b[1;32m   1205\u001b[0m         \u001b[0mkwargs\u001b[0m\u001b[0;34m[\u001b[0m\u001b[0;34m'method'\u001b[0m\u001b[0;34m]\u001b[0m \u001b[0;34m=\u001b[0m \u001b[0;34m'4d'\u001b[0m\u001b[0;34m\u001b[0m\u001b[0;34m\u001b[0m\u001b[0m\n\u001b[0;32m-> 1206\u001b[0;31m         \u001b[0;32mreturn\u001b[0m \u001b[0mself\u001b[0m\u001b[0;34m.\u001b[0m\u001b[0mtwiss\u001b[0m\u001b[0;34m(\u001b[0m\u001b[0;34m**\u001b[0m\u001b[0mkwargs\u001b[0m\u001b[0;34m)\u001b[0m\u001b[0;34m\u001b[0m\u001b[0;34m\u001b[0m\u001b[0m\n\u001b[0m\u001b[1;32m   1207\u001b[0m \u001b[0;34m\u001b[0m\u001b[0m\n\u001b[1;32m   1208\u001b[0m     def match(self, vary, targets, solve=True, assert_within_tol=True,\n",
      "\u001b[0;32m/eos/home-i03/m/morwat/.local/lib/python3.9/site-packages/xtrack/line.py\u001b[0m in \u001b[0;36mtwiss\u001b[0;34m(self, particle_ref, method, particle_on_co, R_matrix, W_matrix, delta0, zeta0, r_sigma, nemitt_x, nemitt_y, delta_disp, delta_chrom, zeta_disp, co_guess, steps_r_matrix, co_search_settings, at_elements, at_s, continue_on_closed_orbit_error, freeze_longitudinal, freeze_energy, values_at_element_exit, radiation_method, eneloss_and_damping, start, end, init, num_turns, skip_global_quantities, matrix_responsiveness_tol, matrix_stability_tol, symplectify, reverse, use_full_inverse, strengths, hide_thin_groups, search_for_t_rev, num_turns_search_t_rev, only_twiss_init, only_markers, only_orbit, compute_R_element_by_element, compute_lattice_functions, compute_chromatic_properties, init_at, x, px, y, py, zeta, delta, betx, alfx, bety, alfy, bets, dx, dpx, dy, dpy, dzeta, mux, muy, muzeta, ax_chrom, bx_chrom, ay_chrom, by_chrom, ddx, ddpx, ddy, ddpy, zero_at, co_search_at, _continue_if_lost, _keep_tracking_data, _keep_initial_particles, _initial_particles, _ebe_monitor, ele_start, ele_stop, ele_init, twiss_init)\u001b[0m\n\u001b[1;32m   1193\u001b[0m \u001b[0;34m\u001b[0m\u001b[0m\n\u001b[1;32m   1194\u001b[0m         \u001b[0mtw_kwargs\u001b[0m\u001b[0;34m.\u001b[0m\u001b[0mpop\u001b[0m\u001b[0;34m(\u001b[0m\u001b[0;34m'self'\u001b[0m\u001b[0;34m)\u001b[0m\u001b[0;34m\u001b[0m\u001b[0;34m\u001b[0m\u001b[0m\n\u001b[0;32m-> 1195\u001b[0;31m         \u001b[0;32mreturn\u001b[0m \u001b[0mtwiss_line\u001b[0m\u001b[0;34m(\u001b[0m\u001b[0mself\u001b[0m\u001b[0;34m,\u001b[0m \u001b[0;34m**\u001b[0m\u001b[0mtw_kwargs\u001b[0m\u001b[0;34m)\u001b[0m\u001b[0;34m\u001b[0m\u001b[0;34m\u001b[0m\u001b[0m\n\u001b[0m\u001b[1;32m   1196\u001b[0m \u001b[0;34m\u001b[0m\u001b[0m\n\u001b[1;32m   1197\u001b[0m     \u001b[0mtwiss\u001b[0m\u001b[0;34m.\u001b[0m\u001b[0m__doc__\u001b[0m \u001b[0;34m=\u001b[0m \u001b[0mtwiss_line\u001b[0m\u001b[0;34m.\u001b[0m\u001b[0m__doc__\u001b[0m\u001b[0;34m\u001b[0m\u001b[0;34m\u001b[0m\u001b[0m\n",
      "\u001b[0;32m/eos/home-i03/m/morwat/.local/lib/python3.9/site-packages/xtrack/twiss.py\u001b[0m in \u001b[0;36mtwiss_line\u001b[0;34m(line, particle_ref, method, particle_on_co, R_matrix, W_matrix, delta0, zeta0, r_sigma, nemitt_x, nemitt_y, delta_disp, delta_chrom, zeta_disp, co_guess, steps_r_matrix, co_search_settings, at_elements, at_s, continue_on_closed_orbit_error, freeze_longitudinal, freeze_energy, values_at_element_exit, radiation_method, eneloss_and_damping, start, end, init, num_turns, skip_global_quantities, matrix_responsiveness_tol, matrix_stability_tol, symplectify, reverse, use_full_inverse, strengths, hide_thin_groups, search_for_t_rev, num_turns_search_t_rev, only_twiss_init, only_orbit, compute_R_element_by_element, compute_lattice_functions, compute_chromatic_properties, init_at, x, px, y, py, zeta, delta, betx, alfx, bety, alfy, bets, dx, dpx, dy, dpy, dzeta, mux, muy, muzeta, ax_chrom, bx_chrom, ay_chrom, by_chrom, ddx, ddpx, ddy, ddpy, zero_at, co_search_at, _continue_if_lost, _keep_tracking_data, _keep_initial_particles, _initial_particles, _ebe_monitor, only_markers)\u001b[0m\n\u001b[1;32m    426\u001b[0m                 \u001b[0mline\u001b[0m\u001b[0;34m.\u001b[0m\u001b[0mfreeze_energy\u001b[0m\u001b[0;34m(\u001b[0m\u001b[0mforce\u001b[0m\u001b[0;34m=\u001b[0m\u001b[0;32mTrue\u001b[0m\u001b[0;34m)\u001b[0m \u001b[0;31m# need to force for collective lines\u001b[0m\u001b[0;34m\u001b[0m\u001b[0;34m\u001b[0m\u001b[0m\n\u001b[1;32m    427\u001b[0m                 return _add_action_in_res(\n\u001b[0;32m--> 428\u001b[0;31m                     twiss_line(freeze_energy=False, **kwargs), input_kwargs)\n\u001b[0m\u001b[1;32m    429\u001b[0m \u001b[0;34m\u001b[0m\u001b[0m\n\u001b[1;32m    430\u001b[0m     \u001b[0;32mif\u001b[0m \u001b[0mat_s\u001b[0m \u001b[0;32mis\u001b[0m \u001b[0;32mnot\u001b[0m \u001b[0;32mNone\u001b[0m\u001b[0;34m:\u001b[0m\u001b[0;34m\u001b[0m\u001b[0;34m\u001b[0m\u001b[0m\n",
      "\u001b[0;32m/eos/home-i03/m/morwat/.local/lib/python3.9/site-packages/xtrack/twiss.py\u001b[0m in \u001b[0;36mtwiss_line\u001b[0;34m(line, particle_ref, method, particle_on_co, R_matrix, W_matrix, delta0, zeta0, r_sigma, nemitt_x, nemitt_y, delta_disp, delta_chrom, zeta_disp, co_guess, steps_r_matrix, co_search_settings, at_elements, at_s, continue_on_closed_orbit_error, freeze_longitudinal, freeze_energy, values_at_element_exit, radiation_method, eneloss_and_damping, start, end, init, num_turns, skip_global_quantities, matrix_responsiveness_tol, matrix_stability_tol, symplectify, reverse, use_full_inverse, strengths, hide_thin_groups, search_for_t_rev, num_turns_search_t_rev, only_twiss_init, only_orbit, compute_R_element_by_element, compute_lattice_functions, compute_chromatic_properties, init_at, x, px, y, py, zeta, delta, betx, alfx, bety, alfy, bets, dx, dpx, dy, dpy, dzeta, mux, muy, muzeta, ax_chrom, bx_chrom, ay_chrom, by_chrom, ddx, ddpx, ddy, ddpy, zero_at, co_search_at, _continue_if_lost, _keep_tracking_data, _keep_initial_particles, _initial_particles, _ebe_monitor, only_markers)\u001b[0m\n\u001b[1;32m    633\u001b[0m             '`only_markers` not implemented for `eneloss_and_damping`')\n\u001b[1;32m    634\u001b[0m \u001b[0;34m\u001b[0m\u001b[0m\n\u001b[0;32m--> 635\u001b[0;31m     twiss_res = _twiss_open(\n\u001b[0m\u001b[1;32m    636\u001b[0m         \u001b[0mline\u001b[0m\u001b[0;34m=\u001b[0m\u001b[0mline\u001b[0m\u001b[0;34m,\u001b[0m\u001b[0;34m\u001b[0m\u001b[0;34m\u001b[0m\u001b[0m\n\u001b[1;32m    637\u001b[0m         \u001b[0minit\u001b[0m\u001b[0;34m=\u001b[0m\u001b[0minit\u001b[0m\u001b[0;34m,\u001b[0m\u001b[0;34m\u001b[0m\u001b[0;34m\u001b[0m\u001b[0m\n",
      "\u001b[0;32m/eos/home-i03/m/morwat/.local/lib/python3.9/site-packages/xtrack/twiss.py\u001b[0m in \u001b[0;36m_twiss_open\u001b[0;34m(line, init, start, end, nemitt_x, nemitt_y, r_sigma, delta_disp, zeta_disp, use_full_inverse, hide_thin_groups, only_markers, only_orbit, compute_lattice_functions, _continue_if_lost, _keep_tracking_data, _keep_initial_particles, _initial_particles, _ebe_monitor)\u001b[0m\n\u001b[1;32m    926\u001b[0m \u001b[0;34m\u001b[0m\u001b[0m\n\u001b[1;32m    927\u001b[0m     \u001b[0;32mif\u001b[0m \u001b[0;32mnot\u001b[0m \u001b[0m_continue_if_lost\u001b[0m\u001b[0;34m:\u001b[0m\u001b[0;34m\u001b[0m\u001b[0;34m\u001b[0m\u001b[0m\n\u001b[0;32m--> 928\u001b[0;31m         assert np.all(ctx2np(part_for_twiss.state) == 1), (\n\u001b[0m\u001b[1;32m    929\u001b[0m             \u001b[0;34m'Some test particles were lost during twiss! '\u001b[0m\u001b[0;34m\u001b[0m\u001b[0;34m\u001b[0m\u001b[0m\n\u001b[1;32m    930\u001b[0m           \u001b[0;34m+\u001b[0m \u001b[0;34mf'(state {np.unique(ctx2np(part_for_twiss.state))}, '\u001b[0m\u001b[0;34m\u001b[0m\u001b[0;34m\u001b[0m\u001b[0m\n",
      "\u001b[0;31mAssertionError\u001b[0m: Some test particles were lost during twiss! (state [0], at element [22413])"
     ]
    }
   ],
   "source": [
    "tw = line_b1.twiss4d(betx=1, bety=1, start=xt.START, end=xt.END)"
   ]
  },
  {
   "cell_type": "code",
   "execution_count": 6,
   "id": "543202a5",
   "metadata": {},
   "outputs": [
    {
     "data": {
      "text/plain": [
       "Particles(_capacity=1, _num_active_particles=1, _num_lost_particles=0, start_tracking_at_element=-1, q0=1, mass0=9.38e+08, t_sim=8.89e-05, _p0c=array([4.49999022e+11]), _gamma0=array([479.60501616]), _beta0=array([0.99999783]), s=array([0.]), zeta=array([0.]), x=array([0.]), y=array([0.]), px=array([0.]), py=array([0.]), _ptau=array([0.]), _delta=array([0.]), _rpp=array([1.]), _rvv=array([1.]), chi=array([1.]), charge_ratio=array([1.]), weight=array([1.]), ax=array([0.]), ay=array([0.]), pdg_id=array([0]), particle_id=array([0]), at_element=array([0]), at_turn=array([0]), state=array([1]), parent_particle_id=array([0]), _rng_s1=array([0], dtype=uint32), _rng_s2=array([0], dtype=uint32), _rng_s3=array([0], dtype=uint32), _rng_s4=array([0], dtype=uint32))"
      ]
     },
     "execution_count": 6,
     "metadata": {},
     "output_type": "execute_result"
    }
   ],
   "source": [
    "line_b1.particle_ref"
   ]
  },
  {
   "cell_type": "code",
   "execution_count": 7,
   "id": "29a94842",
   "metadata": {},
   "outputs": [],
   "source": [
    "line_b1.matrix_responsiveness_tol = 1\n",
    "line_b1.matrix_stability_tol = 1"
   ]
  },
  {
   "cell_type": "code",
   "execution_count": 9,
   "id": "a821d647",
   "metadata": {},
   "outputs": [
    {
     "name": "stdout",
     "output_type": "stream",
     "text": [
      "\n",
      "\n",
      "Could not find point within tolerance.\n",
      "\n",
      "\n",
      "Warning! Need second attempt on closed orbit search\n",
      "\n",
      "\n",
      "Could not find point within tolerance.\n",
      "\n",
      "\n"
     ]
    },
    {
     "ename": "ClosedOrbitSearchError",
     "evalue": "",
     "output_type": "error",
     "traceback": [
      "\u001b[0;31m---------------------------------------------------------------------------\u001b[0m",
      "\u001b[0;31mClosedOrbitSearchError\u001b[0m                    Traceback (most recent call last)",
      "\u001b[0;32m/tmp/ipykernel_903/3998986246.py\u001b[0m in \u001b[0;36m<module>\u001b[0;34m\u001b[0m\n\u001b[0;32m----> 1\u001b[0;31m \u001b[0mt\u001b[0m \u001b[0;34m=\u001b[0m \u001b[0mline_b1\u001b[0m\u001b[0;34m.\u001b[0m\u001b[0mtwiss\u001b[0m\u001b[0;34m(\u001b[0m\u001b[0;34m)\u001b[0m\u001b[0;34m\u001b[0m\u001b[0;34m\u001b[0m\u001b[0m\n\u001b[0m",
      "\u001b[0;32m/eos/home-i03/m/morwat/.local/lib/python3.9/site-packages/xtrack/line.py\u001b[0m in \u001b[0;36mtwiss\u001b[0;34m(self, particle_ref, method, particle_on_co, R_matrix, W_matrix, delta0, zeta0, r_sigma, nemitt_x, nemitt_y, delta_disp, delta_chrom, zeta_disp, co_guess, steps_r_matrix, co_search_settings, at_elements, at_s, continue_on_closed_orbit_error, freeze_longitudinal, freeze_energy, values_at_element_exit, radiation_method, eneloss_and_damping, start, end, init, num_turns, skip_global_quantities, matrix_responsiveness_tol, matrix_stability_tol, symplectify, reverse, use_full_inverse, strengths, hide_thin_groups, search_for_t_rev, num_turns_search_t_rev, only_twiss_init, only_markers, only_orbit, compute_R_element_by_element, compute_lattice_functions, compute_chromatic_properties, init_at, x, px, y, py, zeta, delta, betx, alfx, bety, alfy, bets, dx, dpx, dy, dpy, dzeta, mux, muy, muzeta, ax_chrom, bx_chrom, ay_chrom, by_chrom, ddx, ddpx, ddy, ddpy, zero_at, co_search_at, _continue_if_lost, _keep_tracking_data, _keep_initial_particles, _initial_particles, _ebe_monitor, ele_start, ele_stop, ele_init, twiss_init)\u001b[0m\n\u001b[1;32m   1193\u001b[0m \u001b[0;34m\u001b[0m\u001b[0m\n\u001b[1;32m   1194\u001b[0m         \u001b[0mtw_kwargs\u001b[0m\u001b[0;34m.\u001b[0m\u001b[0mpop\u001b[0m\u001b[0;34m(\u001b[0m\u001b[0;34m'self'\u001b[0m\u001b[0;34m)\u001b[0m\u001b[0;34m\u001b[0m\u001b[0;34m\u001b[0m\u001b[0m\n\u001b[0;32m-> 1195\u001b[0;31m         \u001b[0;32mreturn\u001b[0m \u001b[0mtwiss_line\u001b[0m\u001b[0;34m(\u001b[0m\u001b[0mself\u001b[0m\u001b[0;34m,\u001b[0m \u001b[0;34m**\u001b[0m\u001b[0mtw_kwargs\u001b[0m\u001b[0;34m)\u001b[0m\u001b[0;34m\u001b[0m\u001b[0;34m\u001b[0m\u001b[0m\n\u001b[0m\u001b[1;32m   1196\u001b[0m \u001b[0;34m\u001b[0m\u001b[0m\n\u001b[1;32m   1197\u001b[0m     \u001b[0mtwiss\u001b[0m\u001b[0;34m.\u001b[0m\u001b[0m__doc__\u001b[0m \u001b[0;34m=\u001b[0m \u001b[0mtwiss_line\u001b[0m\u001b[0;34m.\u001b[0m\u001b[0m__doc__\u001b[0m\u001b[0;34m\u001b[0m\u001b[0;34m\u001b[0m\u001b[0m\n",
      "\u001b[0;32m/eos/home-i03/m/morwat/.local/lib/python3.9/site-packages/xtrack/twiss.py\u001b[0m in \u001b[0;36mtwiss_line\u001b[0;34m(line, particle_ref, method, particle_on_co, R_matrix, W_matrix, delta0, zeta0, r_sigma, nemitt_x, nemitt_y, delta_disp, delta_chrom, zeta_disp, co_guess, steps_r_matrix, co_search_settings, at_elements, at_s, continue_on_closed_orbit_error, freeze_longitudinal, freeze_energy, values_at_element_exit, radiation_method, eneloss_and_damping, start, end, init, num_turns, skip_global_quantities, matrix_responsiveness_tol, matrix_stability_tol, symplectify, reverse, use_full_inverse, strengths, hide_thin_groups, search_for_t_rev, num_turns_search_t_rev, only_twiss_init, only_orbit, compute_R_element_by_element, compute_lattice_functions, compute_chromatic_properties, init_at, x, px, y, py, zeta, delta, betx, alfx, bety, alfy, bets, dx, dpx, dy, dpy, dzeta, mux, muy, muzeta, ax_chrom, bx_chrom, ay_chrom, by_chrom, ddx, ddpx, ddy, ddpy, zero_at, co_search_at, _continue_if_lost, _keep_tracking_data, _keep_initial_particles, _initial_particles, _ebe_monitor, only_markers)\u001b[0m\n\u001b[1;32m    597\u001b[0m         \u001b[0msteps_r_matrix\u001b[0m \u001b[0;34m=\u001b[0m \u001b[0m_complete_steps_r_matrix_with_default\u001b[0m\u001b[0;34m(\u001b[0m\u001b[0msteps_r_matrix\u001b[0m\u001b[0;34m)\u001b[0m\u001b[0;34m\u001b[0m\u001b[0;34m\u001b[0m\u001b[0m\n\u001b[1;32m    598\u001b[0m \u001b[0;34m\u001b[0m\u001b[0m\n\u001b[0;32m--> 599\u001b[0;31m         init, R_matrix, steps_r_matrix, eigenvalues, Rot, RR_ebe = _find_periodic_solution(\n\u001b[0m\u001b[1;32m    600\u001b[0m             \u001b[0mline\u001b[0m\u001b[0;34m=\u001b[0m\u001b[0mline\u001b[0m\u001b[0;34m,\u001b[0m \u001b[0mparticle_on_co\u001b[0m\u001b[0;34m=\u001b[0m\u001b[0mparticle_on_co\u001b[0m\u001b[0;34m,\u001b[0m\u001b[0;34m\u001b[0m\u001b[0;34m\u001b[0m\u001b[0m\n\u001b[1;32m    601\u001b[0m             \u001b[0mparticle_ref\u001b[0m\u001b[0;34m=\u001b[0m\u001b[0mparticle_ref\u001b[0m\u001b[0;34m,\u001b[0m \u001b[0mmethod\u001b[0m\u001b[0;34m=\u001b[0m\u001b[0mmethod\u001b[0m\u001b[0;34m,\u001b[0m\u001b[0;34m\u001b[0m\u001b[0;34m\u001b[0m\u001b[0m\n",
      "\u001b[0;32m/eos/home-i03/m/morwat/.local/lib/python3.9/site-packages/xtrack/twiss.py\u001b[0m in \u001b[0;36m_find_periodic_solution\u001b[0;34m(line, particle_on_co, particle_ref, method, co_search_settings, continue_on_closed_orbit_error, delta0, zeta0, steps_r_matrix, W_matrix, R_matrix, co_guess, delta_disp, symplectify, matrix_responsiveness_tol, matrix_stability_tol, nemitt_x, nemitt_y, r_sigma, start, end, num_turns, co_search_at, search_for_t_rev, num_turns_search_t_rev, compute_R_element_by_element, only_markers, only_orbit)\u001b[0m\n\u001b[1;32m   1764\u001b[0m         \u001b[0;32mif\u001b[0m \u001b[0msearch_for_t_rev\u001b[0m\u001b[0;34m:\u001b[0m\u001b[0;34m\u001b[0m\u001b[0;34m\u001b[0m\u001b[0m\n\u001b[1;32m   1765\u001b[0m             \u001b[0;32massert\u001b[0m \u001b[0mmethod\u001b[0m \u001b[0;34m==\u001b[0m \u001b[0;34m'6d'\u001b[0m\u001b[0;34m,\u001b[0m \u001b[0;34m'search_for_t_rev possible when `method` is \"6d\"'\u001b[0m\u001b[0;34m\u001b[0m\u001b[0;34m\u001b[0m\u001b[0m\n\u001b[0;32m-> 1766\u001b[0;31m         part_on_co = line.find_closed_orbit(\n\u001b[0m\u001b[1;32m   1767\u001b[0m                                 \u001b[0mco_guess\u001b[0m\u001b[0;34m=\u001b[0m\u001b[0mco_guess\u001b[0m\u001b[0;34m,\u001b[0m\u001b[0;34m\u001b[0m\u001b[0;34m\u001b[0m\u001b[0m\n\u001b[1;32m   1768\u001b[0m                                 \u001b[0mparticle_ref\u001b[0m\u001b[0;34m=\u001b[0m\u001b[0mparticle_ref\u001b[0m\u001b[0;34m,\u001b[0m\u001b[0;34m\u001b[0m\u001b[0;34m\u001b[0m\u001b[0m\n",
      "\u001b[0;32m/eos/home-i03/m/morwat/.local/lib/python3.9/site-packages/xtrack/line.py\u001b[0m in \u001b[0;36mfind_closed_orbit\u001b[0;34m(self, co_guess, particle_ref, co_search_settings, delta_zeta, delta0, zeta0, continue_on_closed_orbit_error, freeze_longitudinal, start, end, num_turns, co_search_at, search_for_t_rev, num_turns_search_t_rev)\u001b[0m\n\u001b[1;32m   1616\u001b[0m             \u001b[0mline\u001b[0m \u001b[0;34m=\u001b[0m \u001b[0mself\u001b[0m\u001b[0;34m\u001b[0m\u001b[0;34m\u001b[0m\u001b[0m\n\u001b[1;32m   1617\u001b[0m \u001b[0;34m\u001b[0m\u001b[0m\n\u001b[0;32m-> 1618\u001b[0;31m         return find_closed_orbit_line(line, co_guess=co_guess,\n\u001b[0m\u001b[1;32m   1619\u001b[0m                                  \u001b[0mparticle_ref\u001b[0m\u001b[0;34m=\u001b[0m\u001b[0mparticle_ref\u001b[0m\u001b[0;34m,\u001b[0m \u001b[0mdelta0\u001b[0m\u001b[0;34m=\u001b[0m\u001b[0mdelta0\u001b[0m\u001b[0;34m,\u001b[0m \u001b[0mzeta0\u001b[0m\u001b[0;34m=\u001b[0m\u001b[0mzeta0\u001b[0m\u001b[0;34m,\u001b[0m\u001b[0;34m\u001b[0m\u001b[0;34m\u001b[0m\u001b[0m\n\u001b[1;32m   1620\u001b[0m                                  \u001b[0mco_search_settings\u001b[0m\u001b[0;34m=\u001b[0m\u001b[0mco_search_settings\u001b[0m\u001b[0;34m,\u001b[0m \u001b[0mdelta_zeta\u001b[0m\u001b[0;34m=\u001b[0m\u001b[0mdelta_zeta\u001b[0m\u001b[0;34m,\u001b[0m\u001b[0;34m\u001b[0m\u001b[0;34m\u001b[0m\u001b[0m\n",
      "\u001b[0;32m/eos/home-i03/m/morwat/.local/lib/python3.9/site-packages/xtrack/twiss.py\u001b[0m in \u001b[0;36mfind_closed_orbit_line\u001b[0;34m(line, co_guess, particle_ref, co_search_settings, delta_zeta, delta0, zeta0, start, end, num_turns, co_search_at, search_for_t_rev, continue_on_closed_orbit_error, num_turns_search_t_rev)\u001b[0m\n\u001b[1;32m   2158\u001b[0m \u001b[0;34m\u001b[0m\u001b[0m\n\u001b[1;32m   2159\u001b[0m     \u001b[0;32mif\u001b[0m \u001b[0mier\u001b[0m \u001b[0;34m!=\u001b[0m \u001b[0;36m1\u001b[0m \u001b[0;32mand\u001b[0m \u001b[0;32mnot\u001b[0m\u001b[0;34m(\u001b[0m\u001b[0mcontinue_on_closed_orbit_error\u001b[0m\u001b[0;34m)\u001b[0m\u001b[0;34m:\u001b[0m\u001b[0;34m\u001b[0m\u001b[0;34m\u001b[0m\u001b[0m\n\u001b[0;32m-> 2160\u001b[0;31m         \u001b[0;32mraise\u001b[0m \u001b[0mClosedOrbitSearchError\u001b[0m\u001b[0;34m\u001b[0m\u001b[0;34m\u001b[0m\u001b[0m\n\u001b[0m\u001b[1;32m   2161\u001b[0m \u001b[0;34m\u001b[0m\u001b[0m\n\u001b[1;32m   2162\u001b[0m     \u001b[0mparticle_on_co\u001b[0m \u001b[0;34m=\u001b[0m \u001b[0mco_guess\u001b[0m\u001b[0;34m.\u001b[0m\u001b[0mcopy\u001b[0m\u001b[0;34m(\u001b[0m\u001b[0;34m)\u001b[0m\u001b[0;34m\u001b[0m\u001b[0;34m\u001b[0m\u001b[0m\n",
      "\u001b[0;31mClosedOrbitSearchError\u001b[0m: "
     ]
    }
   ],
   "source": [
    "t = line_b1.twiss()"
   ]
  },
  {
   "cell_type": "code",
   "execution_count": null,
   "id": "50009238",
   "metadata": {},
   "outputs": [],
   "source": []
  }
 ],
 "metadata": {
  "kernelspec": {
   "display_name": "Python 3",
   "language": "python",
   "name": "python3"
  },
  "language_info": {
   "codemirror_mode": {
    "name": "ipython",
    "version": 3
   },
   "file_extension": ".py",
   "mimetype": "text/x-python",
   "name": "python",
   "nbconvert_exporter": "python",
   "pygments_lexer": "ipython3",
   "version": "3.9.12"
  }
 },
 "nbformat": 4,
 "nbformat_minor": 5
}
